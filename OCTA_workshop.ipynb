{
  "nbformat": 4,
  "nbformat_minor": 0,
  "metadata": {
    "colab": {
      "provenance": []
    },
    "kernelspec": {
      "name": "python3",
      "display_name": "Python 3"
    },
    "language_info": {
      "name": "python"
    }
  },
  "cells": [
    {
      "cell_type": "markdown",
      "source": [
        "# **OCTA workshop at IAEA 2024**"
      ],
      "metadata": {
        "id": "3-cPiGt3PmF2"
      }
    },
    {
      "cell_type": "markdown",
      "source": [
        "**OCTA: the Order & Complexity Toolbox for Aesthetics**\n",
        "\n",
        "Reference for OCTA:</br>\n",
        "**Van Geert, E., Bossens, C., & Wagemans, J. (2023). The Order & Complexity Toolbox for Aesthetics (OCTA): A systematic approach to study the relations between order, complexity, and aesthetic appreciation. Behavior Research Methods, 55, 2423–2446. https://doi.org/10.3758/s13428-022-01900-w**\n",
        "\n",
        "Python toolbox: https://github.com/gestaltrevision/OCTA_toolbox</br>\n",
        "Shiny application: https://elinevg.shinyapps.io/OCTA_toolbox/\n",
        "\n",
        "Manual: https://elinevg.github.io/OCTA_manual/</br>\n",
        "Example stimuli: https://elinevg.github.io/OCTA_stimulusexamples/</br>\n",
        "Further resources: https://elinevg.github.io/OCTA/"
      ],
      "metadata": {
        "id": "IPQLSpwVHEAm"
      }
    },
    {
      "cell_type": "markdown",
      "source": [
        "# What is OCTA?"
      ],
      "metadata": {
        "id": "ParYFp7sGHRm"
      }
    },
    {
      "cell_type": "markdown",
      "source": [
        "OCTA is a Python library to create stimuli varying qualitatively and quantitatively in order and complexity, based on regularity and variety along multiple dimensions (e.g., position, shape, size, color, orientation) of the elements in the patterns. This Python toolbox provides perception and aesthetics researchers with a free and easy way to create reproducible and parametrically manipulated stimulus sets, with a focus on multi-element displays. Elements can include geometric shapes, but also images or custom-defined vector-based shapes to increase ecological validity. The standard vector-based output is ideal for experiments on the web and the creation of dynamic interfaces and stimuli. This flexibility is evidenced further by the option to animate specific elements in the display. An additional benefit of OCTA is its accessibility: researchers with programming experience can use the available functions or specify additional functionality tailored to their own wishes, whereas researchers less familiar with programming can use the point-and-click interface that is provided. With OCTA being fast, flexible, and transparent, we strongly believe that this toolbox will facilitate reproducible stimulus construction and experimental design in research on order, complexity, and aesthetics. In addition, OCTA can be a very useful tool to study research questions concerning visual perceptual organization and visual perception in general.\n",
        "\n"
      ],
      "metadata": {
        "id": "Vj6TJCKJGkd4"
      }
    },
    {
      "cell_type": "markdown",
      "source": [
        "# Installation & first example"
      ],
      "metadata": {
        "id": "gWloahPxGbJ_"
      }
    },
    {
      "cell_type": "markdown",
      "source": [
        "### Install dependencies"
      ],
      "metadata": {
        "id": "ITFCOTXRPseC"
      }
    },
    {
      "cell_type": "code",
      "source": [
        "pip install svgwrite svg.path svgpathtools svgutils jsonpickle html2image svglib reportlab colour IPython pandas"
      ],
      "metadata": {
        "id": "WE7dfPgDNZer"
      },
      "execution_count": null,
      "outputs": []
    },
    {
      "cell_type": "markdown",
      "source": [
        "### Install octa Python package"
      ],
      "metadata": {
        "id": "9rU6Ml8LPv4Y"
      }
    },
    {
      "cell_type": "code",
      "execution_count": null,
      "metadata": {
        "id": "3kcFnF-eNE8Q"
      },
      "outputs": [],
      "source": [
        "pip install octa"
      ]
    },
    {
      "cell_type": "markdown",
      "source": [
        "### Load functions from the octa package"
      ],
      "metadata": {
        "id": "rsi4B3lgP1wQ"
      }
    },
    {
      "cell_type": "code",
      "source": [
        "from octa.Stimulus import Grid, Outline, Concentric, Stimulus\n",
        "from octa.Positions import Positions\n",
        "from octa.patterns import GridPattern, Pattern\n",
        "from octa.shapes import Ellipse, Rectangle, Triangle, Polygon, RegularPolygon, Path, PathSvg, Image, FitImage, Text\n",
        "from octa.measurements import Order, Complexity"
      ],
      "metadata": {
        "id": "WzwRPQVlNlxc"
      },
      "execution_count": null,
      "outputs": []
    },
    {
      "cell_type": "markdown",
      "source": [
        "### Create your first OCTA stimulus!"
      ],
      "metadata": {
        "id": "Qo_Ttz5WP52o"
      }
    },
    {
      "cell_type": "code",
      "source": [
        "stimulus = Grid(9,9, row_spacing=25, col_spacing=25)\n",
        "\n",
        "stimulus.boundingboxes = GridPattern.RepeatAcrossElements([(20,20)])\n",
        "stimulus.shapes = GridPattern.RepeatAcrossLayers([Rectangle, Triangle, Ellipse])\n",
        "stimulus.fillcolors = GridPattern.GradientAcrossRightDiagonal(start_value = 'limegreen', end_value = 'steelblue')\n",
        "stimulus.orientations = GridPattern.MirrorAcrossLeftDiagonal([-90,-45,0,45,90])\n",
        "stimulus.Show()"
      ],
      "metadata": {
        "colab": {
          "base_uri": "https://localhost:8080/",
          "height": 282
        },
        "id": "eqv-cMBUNpbW",
        "outputId": "cdd00d55-5be9-4655-bfcf-e70e29a9bbd8"
      },
      "execution_count": null,
      "outputs": [
        {
          "output_type": "display_data",
          "data": {
            "text/plain": [
              "<IPython.core.display.SVG object>"
            ],
            "image/svg+xml": "<svg xmlns=\"http://www.w3.org/2000/svg\" xmlns:ev=\"http://www.w3.org/2001/xml-events\" xmlns:xlink=\"http://www.w3.org/1999/xlink\" baseProfile=\"full\" height=\"260\" version=\"1.1\" width=\"260\"><defs/><g transform=\" rotate(0, 130, 130)\"><rect fill=\"white\" height=\"260\" width=\"260\" x=\"0\" y=\"0\"/><polygon fill=\"#32cd32\" opacity=\"1\" points=\"20.0,40.0 30,20.0 40.0,40.0\" stroke-width=\"0\" transform=\" rotate(45, 30, 30)\"/><polygon fill=\"#33cb41\" opacity=\"1\" points=\"45.0,40.0 55,20.0 65.0,40.0\" stroke-width=\"0\" transform=\" rotate(0, 55, 30)\"/><polygon fill=\"#35ca50\" opacity=\"1\" points=\"70.0,40.0 80,20.0 90.0,40.0\" stroke-width=\"0\" transform=\" rotate(-45, 80, 30)\"/><polygon fill=\"#36c85e\" opacity=\"1\" points=\"95.0,40.0 105,20.0 115.0,40.0\" stroke-width=\"0\" transform=\" rotate(-90, 105, 30)\"/><polygon fill=\"#37c76b\" opacity=\"1\" points=\"120.0,40.0 130,20.0 140.0,40.0\" stroke-width=\"0\" transform=\" rotate(90, 130, 30)\"/><polygon fill=\"#38c578\" opacity=\"1\" points=\"145.0,40.0 155,20.0 165.0,40.0\" stroke-width=\"0\" transform=\" rotate(45, 155, 30)\"/><polygon fill=\"#3ac485\" opacity=\"1\" points=\"170.0,40.0 180,20.0 190.0,40.0\" stroke-width=\"0\" transform=\" rotate(0, 180, 30)\"/><polygon fill=\"#3bc291\" opacity=\"1\" points=\"195.0,40.0 205,20.0 215.0,40.0\" stroke-width=\"0\" transform=\" rotate(-45, 205, 30)\"/><polygon fill=\"#3cc09c\" opacity=\"1\" points=\"220.0,40.0 230,20.0 240.0,40.0\" stroke-width=\"0\" transform=\" rotate(-90, 230, 30)\"/><polygon fill=\"#33cb41\" opacity=\"1\" points=\"20.0,65.0 30,45.0 40.0,65.0\" stroke-width=\"0\" transform=\" rotate(0, 30, 55)\"/><rect fill=\"#35ca50\" height=\"20\" opacity=\"1\" stroke-width=\"0\" transform=\" rotate(45, 55, 55)\" width=\"20\" x=\"45.0\" y=\"45.0\"/><rect fill=\"#36c85e\" height=\"20\" opacity=\"1\" stroke-width=\"0\" transform=\" rotate(0, 80, 55)\" width=\"20\" x=\"70.0\" y=\"45.0\"/><rect fill=\"#37c76b\" height=\"20\" opacity=\"1\" stroke-width=\"0\" transform=\" rotate(-45, 105, 55)\" width=\"20\" x=\"95.0\" y=\"45.0\"/><rect fill=\"#38c578\" height=\"20\" opacity=\"1\" stroke-width=\"0\" transform=\" rotate(-90, 130, 55)\" width=\"20\" x=\"120.0\" y=\"45.0\"/><rect fill=\"#3ac485\" height=\"20\" opacity=\"1\" stroke-width=\"0\" transform=\" rotate(90, 155, 55)\" width=\"20\" x=\"145.0\" y=\"45.0\"/><rect fill=\"#3bc291\" height=\"20\" opacity=\"1\" stroke-width=\"0\" transform=\" rotate(45, 180, 55)\" width=\"20\" x=\"170.0\" y=\"45.0\"/><rect fill=\"#3cc09c\" height=\"20\" opacity=\"1\" stroke-width=\"0\" transform=\" rotate(0, 205, 55)\" width=\"20\" x=\"195.0\" y=\"45.0\"/><polygon fill=\"#3dbfa7\" opacity=\"1\" points=\"220.0,65.0 230,45.0 240.0,65.0\" stroke-width=\"0\" transform=\" rotate(-45, 230, 55)\"/><polygon fill=\"#35ca50\" opacity=\"1\" points=\"20.0,90.0 30,70.0 40.0,90.0\" stroke-width=\"0\" transform=\" rotate(-45, 30, 80)\"/><rect fill=\"#36c85e\" height=\"20\" opacity=\"1\" stroke-width=\"0\" transform=\" rotate(0, 55, 80)\" width=\"20\" x=\"45.0\" y=\"70.0\"/><ellipse cx=\"80\" cy=\"80\" fill=\"#37c76b\" opacity=\"1\" rx=\"10.0\" ry=\"10.0\" stroke-width=\"0\" transform=\" rotate(45, 80, 80)\"/><ellipse cx=\"105\" cy=\"80\" fill=\"#38c578\" opacity=\"1\" rx=\"10.0\" ry=\"10.0\" stroke-width=\"0\" transform=\" rotate(0, 105, 80)\"/><ellipse cx=\"130\" cy=\"80\" fill=\"#3ac485\" opacity=\"1\" rx=\"10.0\" ry=\"10.0\" stroke-width=\"0\" transform=\" rotate(-45, 130, 80)\"/><ellipse cx=\"155\" cy=\"80\" fill=\"#3bc291\" opacity=\"1\" rx=\"10.0\" ry=\"10.0\" stroke-width=\"0\" transform=\" rotate(-90, 155, 80)\"/><ellipse cx=\"180\" cy=\"80\" fill=\"#3cc09c\" opacity=\"1\" rx=\"10.0\" ry=\"10.0\" stroke-width=\"0\" transform=\" rotate(90, 180, 80)\"/><rect fill=\"#3dbfa7\" height=\"20\" opacity=\"1\" stroke-width=\"0\" transform=\" rotate(45, 205, 80)\" width=\"20\" x=\"195.0\" y=\"70.0\"/><polygon fill=\"#3fbdb2\" opacity=\"1\" points=\"220.0,90.0 230,70.0 240.0,90.0\" stroke-width=\"0\" transform=\" rotate(0, 230, 80)\"/><polygon fill=\"#36c85e\" opacity=\"1\" points=\"20.0,115.0 30,95.0 40.0,115.0\" stroke-width=\"0\" transform=\" rotate(-90, 30, 105)\"/><rect fill=\"#37c76b\" height=\"20\" opacity=\"1\" stroke-width=\"0\" transform=\" rotate(-45, 55, 105)\" width=\"20\" x=\"45.0\" y=\"95.0\"/><ellipse cx=\"80\" cy=\"105\" fill=\"#38c578\" opacity=\"1\" rx=\"10.0\" ry=\"10.0\" stroke-width=\"0\" transform=\" rotate(0, 80, 105)\"/><polygon fill=\"#3ac485\" opacity=\"1\" points=\"95.0,115.0 105,95.0 115.0,115.0\" stroke-width=\"0\" transform=\" rotate(45, 105, 105)\"/><polygon fill=\"#3bc291\" opacity=\"1\" points=\"120.0,115.0 130,95.0 140.0,115.0\" stroke-width=\"0\" transform=\" rotate(0, 130, 105)\"/><polygon fill=\"#3cc09c\" opacity=\"1\" points=\"145.0,115.0 155,95.0 165.0,115.0\" stroke-width=\"0\" transform=\" rotate(-45, 155, 105)\"/><ellipse cx=\"180\" cy=\"105\" fill=\"#3dbfa7\" opacity=\"1\" rx=\"10.0\" ry=\"10.0\" stroke-width=\"0\" transform=\" rotate(-90, 180, 105)\"/><rect fill=\"#3fbdb2\" height=\"20\" opacity=\"1\" stroke-width=\"0\" transform=\" rotate(90, 205, 105)\" width=\"20\" x=\"195.0\" y=\"95.0\"/><polygon fill=\"#40bcbc\" opacity=\"1\" points=\"220.0,115.0 230,95.0 240.0,115.0\" stroke-width=\"0\" transform=\" rotate(45, 230, 105)\"/><polygon fill=\"#37c76b\" opacity=\"1\" points=\"20.0,140.0 30,120.0 40.0,140.0\" stroke-width=\"0\" transform=\" rotate(90, 30, 130)\"/><rect fill=\"#38c578\" height=\"20\" opacity=\"1\" stroke-width=\"0\" transform=\" rotate(-90, 55, 130)\" width=\"20\" x=\"45.0\" y=\"120.0\"/><ellipse cx=\"80\" cy=\"130\" fill=\"#3ac485\" opacity=\"1\" rx=\"10.0\" ry=\"10.0\" stroke-width=\"0\" transform=\" rotate(-45, 80, 130)\"/><polygon fill=\"#3bc291\" opacity=\"1\" points=\"95.0,140.0 105,120.0 115.0,140.0\" stroke-width=\"0\" transform=\" rotate(0, 105, 130)\"/><rect fill=\"#3cc09c\" height=\"20\" opacity=\"1\" stroke-width=\"0\" transform=\" rotate(45, 130, 130)\" width=\"20\" x=\"120.0\" y=\"120.0\"/><polygon fill=\"#3dbfa7\" opacity=\"1\" points=\"145.0,140.0 155,120.0 165.0,140.0\" stroke-width=\"0\" transform=\" rotate(0, 155, 130)\"/><ellipse cx=\"180\" cy=\"130\" fill=\"#3fbdb2\" opacity=\"1\" rx=\"10.0\" ry=\"10.0\" stroke-width=\"0\" transform=\" rotate(-45, 180, 130)\"/><rect fill=\"#40bcbc\" height=\"20\" opacity=\"1\" stroke-width=\"0\" transform=\" rotate(-90, 205, 130)\" width=\"20\" x=\"195.0\" y=\"120.0\"/><polygon fill=\"#41afba\" opacity=\"1\" points=\"220.0,140.0 230,120.0 240.0,140.0\" stroke-width=\"0\" transform=\" rotate(90, 230, 130)\"/><polygon fill=\"#38c578\" opacity=\"1\" points=\"20.0,165.0 30,145.0 40.0,165.0\" stroke-width=\"0\" transform=\" rotate(45, 30, 155)\"/><rect fill=\"#3ac485\" height=\"20\" opacity=\"1\" stroke-width=\"0\" transform=\" rotate(90, 55, 155)\" width=\"20\" x=\"45.0\" y=\"145.0\"/><ellipse cx=\"80\" cy=\"155\" fill=\"#3bc291\" opacity=\"1\" rx=\"10.0\" ry=\"10.0\" stroke-width=\"0\" transform=\" rotate(-90, 80, 155)\"/><polygon fill=\"#3cc09c\" opacity=\"1\" points=\"95.0,165.0 105,145.0 115.0,165.0\" stroke-width=\"0\" transform=\" rotate(-45, 105, 155)\"/><polygon fill=\"#3dbfa7\" opacity=\"1\" points=\"120.0,165.0 130,145.0 140.0,165.0\" stroke-width=\"0\" transform=\" rotate(0, 130, 155)\"/><polygon fill=\"#3fbdb2\" opacity=\"1\" points=\"145.0,165.0 155,145.0 165.0,165.0\" stroke-width=\"0\" transform=\" rotate(45, 155, 155)\"/><ellipse cx=\"180\" cy=\"155\" fill=\"#40bcbc\" opacity=\"1\" rx=\"10.0\" ry=\"10.0\" stroke-width=\"0\" transform=\" rotate(0, 180, 155)\"/><rect fill=\"#41afba\" height=\"20\" opacity=\"1\" stroke-width=\"0\" transform=\" rotate(-45, 205, 155)\" width=\"20\" x=\"195.0\" y=\"145.0\"/><polygon fill=\"#42a3b9\" opacity=\"1\" points=\"220.0,165.0 230,145.0 240.0,165.0\" stroke-width=\"0\" transform=\" rotate(-90, 230, 155)\"/><polygon fill=\"#3ac485\" opacity=\"1\" points=\"20.0,190.0 30,170.0 40.0,190.0\" stroke-width=\"0\" transform=\" rotate(0, 30, 180)\"/><rect fill=\"#3bc291\" height=\"20\" opacity=\"1\" stroke-width=\"0\" transform=\" rotate(45, 55, 180)\" width=\"20\" x=\"45.0\" y=\"170.0\"/><ellipse cx=\"80\" cy=\"180\" fill=\"#3cc09c\" opacity=\"1\" rx=\"10.0\" ry=\"10.0\" stroke-width=\"0\" transform=\" rotate(90, 80, 180)\"/><ellipse cx=\"105\" cy=\"180\" fill=\"#3dbfa7\" opacity=\"1\" rx=\"10.0\" ry=\"10.0\" stroke-width=\"0\" transform=\" rotate(-90, 105, 180)\"/><ellipse cx=\"130\" cy=\"180\" fill=\"#3fbdb2\" opacity=\"1\" rx=\"10.0\" ry=\"10.0\" stroke-width=\"0\" transform=\" rotate(-45, 130, 180)\"/><ellipse cx=\"155\" cy=\"180\" fill=\"#40bcbc\" opacity=\"1\" rx=\"10.0\" ry=\"10.0\" stroke-width=\"0\" transform=\" rotate(0, 155, 180)\"/><ellipse cx=\"180\" cy=\"180\" fill=\"#41afba\" opacity=\"1\" rx=\"10.0\" ry=\"10.0\" stroke-width=\"0\" transform=\" rotate(45, 180, 180)\"/><rect fill=\"#42a3b9\" height=\"20\" opacity=\"1\" stroke-width=\"0\" transform=\" rotate(0, 205, 180)\" width=\"20\" x=\"195.0\" y=\"170.0\"/><polygon fill=\"#4498b7\" opacity=\"1\" points=\"220.0,190.0 230,170.0 240.0,190.0\" stroke-width=\"0\" transform=\" rotate(-45, 230, 180)\"/><polygon fill=\"#3bc291\" opacity=\"1\" points=\"20.0,215.0 30,195.0 40.0,215.0\" stroke-width=\"0\" transform=\" rotate(-45, 30, 205)\"/><rect fill=\"#3cc09c\" height=\"20\" opacity=\"1\" stroke-width=\"0\" transform=\" rotate(0, 55, 205)\" width=\"20\" x=\"45.0\" y=\"195.0\"/><rect fill=\"#3dbfa7\" height=\"20\" opacity=\"1\" stroke-width=\"0\" transform=\" rotate(45, 80, 205)\" width=\"20\" x=\"70.0\" y=\"195.0\"/><rect fill=\"#3fbdb2\" height=\"20\" opacity=\"1\" stroke-width=\"0\" transform=\" rotate(90, 105, 205)\" width=\"20\" x=\"95.0\" y=\"195.0\"/><rect fill=\"#40bcbc\" height=\"20\" opacity=\"1\" stroke-width=\"0\" transform=\" rotate(-90, 130, 205)\" width=\"20\" x=\"120.0\" y=\"195.0\"/><rect fill=\"#41afba\" height=\"20\" opacity=\"1\" stroke-width=\"0\" transform=\" rotate(-45, 155, 205)\" width=\"20\" x=\"145.0\" y=\"195.0\"/><rect fill=\"#42a3b9\" height=\"20\" opacity=\"1\" stroke-width=\"0\" transform=\" rotate(0, 180, 205)\" width=\"20\" x=\"170.0\" y=\"195.0\"/><rect fill=\"#4498b7\" height=\"20\" opacity=\"1\" stroke-width=\"0\" transform=\" rotate(45, 205, 205)\" width=\"20\" x=\"195.0\" y=\"195.0\"/><polygon fill=\"#458db6\" opacity=\"1\" points=\"220.0,215.0 230,195.0 240.0,215.0\" stroke-width=\"0\" transform=\" rotate(0, 230, 205)\"/><polygon fill=\"#3cc09c\" opacity=\"1\" points=\"20.0,240.0 30,220.0 40.0,240.0\" stroke-width=\"0\" transform=\" rotate(-90, 30, 230)\"/><polygon fill=\"#3dbfa7\" opacity=\"1\" points=\"45.0,240.0 55,220.0 65.0,240.0\" stroke-width=\"0\" transform=\" rotate(-45, 55, 230)\"/><polygon fill=\"#3fbdb2\" opacity=\"1\" points=\"70.0,240.0 80,220.0 90.0,240.0\" stroke-width=\"0\" transform=\" rotate(0, 80, 230)\"/><polygon fill=\"#40bcbc\" opacity=\"1\" points=\"95.0,240.0 105,220.0 115.0,240.0\" stroke-width=\"0\" transform=\" rotate(45, 105, 230)\"/><polygon fill=\"#41afba\" opacity=\"1\" points=\"120.0,240.0 130,220.0 140.0,240.0\" stroke-width=\"0\" transform=\" rotate(90, 130, 230)\"/><polygon fill=\"#42a3b9\" opacity=\"1\" points=\"145.0,240.0 155,220.0 165.0,240.0\" stroke-width=\"0\" transform=\" rotate(-90, 155, 230)\"/><polygon fill=\"#4498b7\" opacity=\"1\" points=\"170.0,240.0 180,220.0 190.0,240.0\" stroke-width=\"0\" transform=\" rotate(-45, 180, 230)\"/><polygon fill=\"#458db6\" opacity=\"1\" points=\"195.0,240.0 205,220.0 215.0,240.0\" stroke-width=\"0\" transform=\" rotate(0, 205, 230)\"/><polygon fill=\"#4682b4\" opacity=\"1\" points=\"220.0,240.0 230,220.0 240.0,240.0\" stroke-width=\"0\" transform=\" rotate(45, 230, 230)\"/></g></svg>"
          },
          "metadata": {}
        }
      ]
    },
    {
      "cell_type": "markdown",
      "source": [
        "### Exercise 1\n",
        "\n",
        "0.   Click the ‘Run Code’ button to create your first OCTA stimulus.\n",
        "\n",
        "1.   Can you change the number of rows and columns to 12 instead of 9?\n",
        "\n",
        "2.   Can you change the elements’ colors to go from red to limegreen?\n",
        "\n",
        "3.   Can you change the color gradient to go across the rows (`AcrossRows`) instead of across the right diagonal (`AcrossRightDiagonal`)?"
      ],
      "metadata": {
        "id": "Nh7Ns1ZDH0wj"
      }
    },
    {
      "cell_type": "code",
      "source": [
        "stimulus = Grid(9,9, row_spacing=25, col_spacing=25)\n",
        "\n",
        "stimulus.boundingboxes = GridPattern.RepeatAcrossElements([(20,20)])\n",
        "stimulus.shapes = GridPattern.RepeatAcrossLayers([Rectangle, Triangle, Ellipse])\n",
        "stimulus.fillcolors = GridPattern.GradientAcrossRightDiagonal(start_value = 'limegreen', end_value = 'steelblue')\n",
        "stimulus.orientations = GridPattern.MirrorAcrossLeftDiagonal([-90,-45,0,45,90])\n",
        "stimulus.Show()"
      ],
      "metadata": {
        "colab": {
          "base_uri": "https://localhost:8080/",
          "height": 282
        },
        "outputId": "63205713-dcd2-4f9d-baf1-59888159252b",
        "id": "A0oW_N-3Hy25"
      },
      "execution_count": null,
      "outputs": [
        {
          "output_type": "display_data",
          "data": {
            "text/plain": [
              "<IPython.core.display.SVG object>"
            ],
            "image/svg+xml": "<svg xmlns=\"http://www.w3.org/2000/svg\" xmlns:ev=\"http://www.w3.org/2001/xml-events\" xmlns:xlink=\"http://www.w3.org/1999/xlink\" baseProfile=\"full\" height=\"260\" version=\"1.1\" width=\"260\"><defs/><g transform=\" rotate(0, 130, 130)\"><rect fill=\"white\" height=\"260\" width=\"260\" x=\"0\" y=\"0\"/><polygon fill=\"#32cd32\" opacity=\"1\" points=\"20.0,40.0 30,20.0 40.0,40.0\" stroke-width=\"0\" transform=\" rotate(45, 30, 30)\"/><polygon fill=\"#33cb41\" opacity=\"1\" points=\"45.0,40.0 55,20.0 65.0,40.0\" stroke-width=\"0\" transform=\" rotate(0, 55, 30)\"/><polygon fill=\"#35ca50\" opacity=\"1\" points=\"70.0,40.0 80,20.0 90.0,40.0\" stroke-width=\"0\" transform=\" rotate(-45, 80, 30)\"/><polygon fill=\"#36c85e\" opacity=\"1\" points=\"95.0,40.0 105,20.0 115.0,40.0\" stroke-width=\"0\" transform=\" rotate(-90, 105, 30)\"/><polygon fill=\"#37c76b\" opacity=\"1\" points=\"120.0,40.0 130,20.0 140.0,40.0\" stroke-width=\"0\" transform=\" rotate(90, 130, 30)\"/><polygon fill=\"#38c578\" opacity=\"1\" points=\"145.0,40.0 155,20.0 165.0,40.0\" stroke-width=\"0\" transform=\" rotate(45, 155, 30)\"/><polygon fill=\"#3ac485\" opacity=\"1\" points=\"170.0,40.0 180,20.0 190.0,40.0\" stroke-width=\"0\" transform=\" rotate(0, 180, 30)\"/><polygon fill=\"#3bc291\" opacity=\"1\" points=\"195.0,40.0 205,20.0 215.0,40.0\" stroke-width=\"0\" transform=\" rotate(-45, 205, 30)\"/><polygon fill=\"#3cc09c\" opacity=\"1\" points=\"220.0,40.0 230,20.0 240.0,40.0\" stroke-width=\"0\" transform=\" rotate(-90, 230, 30)\"/><polygon fill=\"#33cb41\" opacity=\"1\" points=\"20.0,65.0 30,45.0 40.0,65.0\" stroke-width=\"0\" transform=\" rotate(0, 30, 55)\"/><rect fill=\"#35ca50\" height=\"20\" opacity=\"1\" stroke-width=\"0\" transform=\" rotate(45, 55, 55)\" width=\"20\" x=\"45.0\" y=\"45.0\"/><rect fill=\"#36c85e\" height=\"20\" opacity=\"1\" stroke-width=\"0\" transform=\" rotate(0, 80, 55)\" width=\"20\" x=\"70.0\" y=\"45.0\"/><rect fill=\"#37c76b\" height=\"20\" opacity=\"1\" stroke-width=\"0\" transform=\" rotate(-45, 105, 55)\" width=\"20\" x=\"95.0\" y=\"45.0\"/><rect fill=\"#38c578\" height=\"20\" opacity=\"1\" stroke-width=\"0\" transform=\" rotate(-90, 130, 55)\" width=\"20\" x=\"120.0\" y=\"45.0\"/><rect fill=\"#3ac485\" height=\"20\" opacity=\"1\" stroke-width=\"0\" transform=\" rotate(90, 155, 55)\" width=\"20\" x=\"145.0\" y=\"45.0\"/><rect fill=\"#3bc291\" height=\"20\" opacity=\"1\" stroke-width=\"0\" transform=\" rotate(45, 180, 55)\" width=\"20\" x=\"170.0\" y=\"45.0\"/><rect fill=\"#3cc09c\" height=\"20\" opacity=\"1\" stroke-width=\"0\" transform=\" rotate(0, 205, 55)\" width=\"20\" x=\"195.0\" y=\"45.0\"/><polygon fill=\"#3dbfa7\" opacity=\"1\" points=\"220.0,65.0 230,45.0 240.0,65.0\" stroke-width=\"0\" transform=\" rotate(-45, 230, 55)\"/><polygon fill=\"#35ca50\" opacity=\"1\" points=\"20.0,90.0 30,70.0 40.0,90.0\" stroke-width=\"0\" transform=\" rotate(-45, 30, 80)\"/><rect fill=\"#36c85e\" height=\"20\" opacity=\"1\" stroke-width=\"0\" transform=\" rotate(0, 55, 80)\" width=\"20\" x=\"45.0\" y=\"70.0\"/><ellipse cx=\"80\" cy=\"80\" fill=\"#37c76b\" opacity=\"1\" rx=\"10.0\" ry=\"10.0\" stroke-width=\"0\" transform=\" rotate(45, 80, 80)\"/><ellipse cx=\"105\" cy=\"80\" fill=\"#38c578\" opacity=\"1\" rx=\"10.0\" ry=\"10.0\" stroke-width=\"0\" transform=\" rotate(0, 105, 80)\"/><ellipse cx=\"130\" cy=\"80\" fill=\"#3ac485\" opacity=\"1\" rx=\"10.0\" ry=\"10.0\" stroke-width=\"0\" transform=\" rotate(-45, 130, 80)\"/><ellipse cx=\"155\" cy=\"80\" fill=\"#3bc291\" opacity=\"1\" rx=\"10.0\" ry=\"10.0\" stroke-width=\"0\" transform=\" rotate(-90, 155, 80)\"/><ellipse cx=\"180\" cy=\"80\" fill=\"#3cc09c\" opacity=\"1\" rx=\"10.0\" ry=\"10.0\" stroke-width=\"0\" transform=\" rotate(90, 180, 80)\"/><rect fill=\"#3dbfa7\" height=\"20\" opacity=\"1\" stroke-width=\"0\" transform=\" rotate(45, 205, 80)\" width=\"20\" x=\"195.0\" y=\"70.0\"/><polygon fill=\"#3fbdb2\" opacity=\"1\" points=\"220.0,90.0 230,70.0 240.0,90.0\" stroke-width=\"0\" transform=\" rotate(0, 230, 80)\"/><polygon fill=\"#36c85e\" opacity=\"1\" points=\"20.0,115.0 30,95.0 40.0,115.0\" stroke-width=\"0\" transform=\" rotate(-90, 30, 105)\"/><rect fill=\"#37c76b\" height=\"20\" opacity=\"1\" stroke-width=\"0\" transform=\" rotate(-45, 55, 105)\" width=\"20\" x=\"45.0\" y=\"95.0\"/><ellipse cx=\"80\" cy=\"105\" fill=\"#38c578\" opacity=\"1\" rx=\"10.0\" ry=\"10.0\" stroke-width=\"0\" transform=\" rotate(0, 80, 105)\"/><polygon fill=\"#3ac485\" opacity=\"1\" points=\"95.0,115.0 105,95.0 115.0,115.0\" stroke-width=\"0\" transform=\" rotate(45, 105, 105)\"/><polygon fill=\"#3bc291\" opacity=\"1\" points=\"120.0,115.0 130,95.0 140.0,115.0\" stroke-width=\"0\" transform=\" rotate(0, 130, 105)\"/><polygon fill=\"#3cc09c\" opacity=\"1\" points=\"145.0,115.0 155,95.0 165.0,115.0\" stroke-width=\"0\" transform=\" rotate(-45, 155, 105)\"/><ellipse cx=\"180\" cy=\"105\" fill=\"#3dbfa7\" opacity=\"1\" rx=\"10.0\" ry=\"10.0\" stroke-width=\"0\" transform=\" rotate(-90, 180, 105)\"/><rect fill=\"#3fbdb2\" height=\"20\" opacity=\"1\" stroke-width=\"0\" transform=\" rotate(90, 205, 105)\" width=\"20\" x=\"195.0\" y=\"95.0\"/><polygon fill=\"#40bcbc\" opacity=\"1\" points=\"220.0,115.0 230,95.0 240.0,115.0\" stroke-width=\"0\" transform=\" rotate(45, 230, 105)\"/><polygon fill=\"#37c76b\" opacity=\"1\" points=\"20.0,140.0 30,120.0 40.0,140.0\" stroke-width=\"0\" transform=\" rotate(90, 30, 130)\"/><rect fill=\"#38c578\" height=\"20\" opacity=\"1\" stroke-width=\"0\" transform=\" rotate(-90, 55, 130)\" width=\"20\" x=\"45.0\" y=\"120.0\"/><ellipse cx=\"80\" cy=\"130\" fill=\"#3ac485\" opacity=\"1\" rx=\"10.0\" ry=\"10.0\" stroke-width=\"0\" transform=\" rotate(-45, 80, 130)\"/><polygon fill=\"#3bc291\" opacity=\"1\" points=\"95.0,140.0 105,120.0 115.0,140.0\" stroke-width=\"0\" transform=\" rotate(0, 105, 130)\"/><rect fill=\"#3cc09c\" height=\"20\" opacity=\"1\" stroke-width=\"0\" transform=\" rotate(45, 130, 130)\" width=\"20\" x=\"120.0\" y=\"120.0\"/><polygon fill=\"#3dbfa7\" opacity=\"1\" points=\"145.0,140.0 155,120.0 165.0,140.0\" stroke-width=\"0\" transform=\" rotate(0, 155, 130)\"/><ellipse cx=\"180\" cy=\"130\" fill=\"#3fbdb2\" opacity=\"1\" rx=\"10.0\" ry=\"10.0\" stroke-width=\"0\" transform=\" rotate(-45, 180, 130)\"/><rect fill=\"#40bcbc\" height=\"20\" opacity=\"1\" stroke-width=\"0\" transform=\" rotate(-90, 205, 130)\" width=\"20\" x=\"195.0\" y=\"120.0\"/><polygon fill=\"#41afba\" opacity=\"1\" points=\"220.0,140.0 230,120.0 240.0,140.0\" stroke-width=\"0\" transform=\" rotate(90, 230, 130)\"/><polygon fill=\"#38c578\" opacity=\"1\" points=\"20.0,165.0 30,145.0 40.0,165.0\" stroke-width=\"0\" transform=\" rotate(45, 30, 155)\"/><rect fill=\"#3ac485\" height=\"20\" opacity=\"1\" stroke-width=\"0\" transform=\" rotate(90, 55, 155)\" width=\"20\" x=\"45.0\" y=\"145.0\"/><ellipse cx=\"80\" cy=\"155\" fill=\"#3bc291\" opacity=\"1\" rx=\"10.0\" ry=\"10.0\" stroke-width=\"0\" transform=\" rotate(-90, 80, 155)\"/><polygon fill=\"#3cc09c\" opacity=\"1\" points=\"95.0,165.0 105,145.0 115.0,165.0\" stroke-width=\"0\" transform=\" rotate(-45, 105, 155)\"/><polygon fill=\"#3dbfa7\" opacity=\"1\" points=\"120.0,165.0 130,145.0 140.0,165.0\" stroke-width=\"0\" transform=\" rotate(0, 130, 155)\"/><polygon fill=\"#3fbdb2\" opacity=\"1\" points=\"145.0,165.0 155,145.0 165.0,165.0\" stroke-width=\"0\" transform=\" rotate(45, 155, 155)\"/><ellipse cx=\"180\" cy=\"155\" fill=\"#40bcbc\" opacity=\"1\" rx=\"10.0\" ry=\"10.0\" stroke-width=\"0\" transform=\" rotate(0, 180, 155)\"/><rect fill=\"#41afba\" height=\"20\" opacity=\"1\" stroke-width=\"0\" transform=\" rotate(-45, 205, 155)\" width=\"20\" x=\"195.0\" y=\"145.0\"/><polygon fill=\"#42a3b9\" opacity=\"1\" points=\"220.0,165.0 230,145.0 240.0,165.0\" stroke-width=\"0\" transform=\" rotate(-90, 230, 155)\"/><polygon fill=\"#3ac485\" opacity=\"1\" points=\"20.0,190.0 30,170.0 40.0,190.0\" stroke-width=\"0\" transform=\" rotate(0, 30, 180)\"/><rect fill=\"#3bc291\" height=\"20\" opacity=\"1\" stroke-width=\"0\" transform=\" rotate(45, 55, 180)\" width=\"20\" x=\"45.0\" y=\"170.0\"/><ellipse cx=\"80\" cy=\"180\" fill=\"#3cc09c\" opacity=\"1\" rx=\"10.0\" ry=\"10.0\" stroke-width=\"0\" transform=\" rotate(90, 80, 180)\"/><ellipse cx=\"105\" cy=\"180\" fill=\"#3dbfa7\" opacity=\"1\" rx=\"10.0\" ry=\"10.0\" stroke-width=\"0\" transform=\" rotate(-90, 105, 180)\"/><ellipse cx=\"130\" cy=\"180\" fill=\"#3fbdb2\" opacity=\"1\" rx=\"10.0\" ry=\"10.0\" stroke-width=\"0\" transform=\" rotate(-45, 130, 180)\"/><ellipse cx=\"155\" cy=\"180\" fill=\"#40bcbc\" opacity=\"1\" rx=\"10.0\" ry=\"10.0\" stroke-width=\"0\" transform=\" rotate(0, 155, 180)\"/><ellipse cx=\"180\" cy=\"180\" fill=\"#41afba\" opacity=\"1\" rx=\"10.0\" ry=\"10.0\" stroke-width=\"0\" transform=\" rotate(45, 180, 180)\"/><rect fill=\"#42a3b9\" height=\"20\" opacity=\"1\" stroke-width=\"0\" transform=\" rotate(0, 205, 180)\" width=\"20\" x=\"195.0\" y=\"170.0\"/><polygon fill=\"#4498b7\" opacity=\"1\" points=\"220.0,190.0 230,170.0 240.0,190.0\" stroke-width=\"0\" transform=\" rotate(-45, 230, 180)\"/><polygon fill=\"#3bc291\" opacity=\"1\" points=\"20.0,215.0 30,195.0 40.0,215.0\" stroke-width=\"0\" transform=\" rotate(-45, 30, 205)\"/><rect fill=\"#3cc09c\" height=\"20\" opacity=\"1\" stroke-width=\"0\" transform=\" rotate(0, 55, 205)\" width=\"20\" x=\"45.0\" y=\"195.0\"/><rect fill=\"#3dbfa7\" height=\"20\" opacity=\"1\" stroke-width=\"0\" transform=\" rotate(45, 80, 205)\" width=\"20\" x=\"70.0\" y=\"195.0\"/><rect fill=\"#3fbdb2\" height=\"20\" opacity=\"1\" stroke-width=\"0\" transform=\" rotate(90, 105, 205)\" width=\"20\" x=\"95.0\" y=\"195.0\"/><rect fill=\"#40bcbc\" height=\"20\" opacity=\"1\" stroke-width=\"0\" transform=\" rotate(-90, 130, 205)\" width=\"20\" x=\"120.0\" y=\"195.0\"/><rect fill=\"#41afba\" height=\"20\" opacity=\"1\" stroke-width=\"0\" transform=\" rotate(-45, 155, 205)\" width=\"20\" x=\"145.0\" y=\"195.0\"/><rect fill=\"#42a3b9\" height=\"20\" opacity=\"1\" stroke-width=\"0\" transform=\" rotate(0, 180, 205)\" width=\"20\" x=\"170.0\" y=\"195.0\"/><rect fill=\"#4498b7\" height=\"20\" opacity=\"1\" stroke-width=\"0\" transform=\" rotate(45, 205, 205)\" width=\"20\" x=\"195.0\" y=\"195.0\"/><polygon fill=\"#458db6\" opacity=\"1\" points=\"220.0,215.0 230,195.0 240.0,215.0\" stroke-width=\"0\" transform=\" rotate(0, 230, 205)\"/><polygon fill=\"#3cc09c\" opacity=\"1\" points=\"20.0,240.0 30,220.0 40.0,240.0\" stroke-width=\"0\" transform=\" rotate(-90, 30, 230)\"/><polygon fill=\"#3dbfa7\" opacity=\"1\" points=\"45.0,240.0 55,220.0 65.0,240.0\" stroke-width=\"0\" transform=\" rotate(-45, 55, 230)\"/><polygon fill=\"#3fbdb2\" opacity=\"1\" points=\"70.0,240.0 80,220.0 90.0,240.0\" stroke-width=\"0\" transform=\" rotate(0, 80, 230)\"/><polygon fill=\"#40bcbc\" opacity=\"1\" points=\"95.0,240.0 105,220.0 115.0,240.0\" stroke-width=\"0\" transform=\" rotate(45, 105, 230)\"/><polygon fill=\"#41afba\" opacity=\"1\" points=\"120.0,240.0 130,220.0 140.0,240.0\" stroke-width=\"0\" transform=\" rotate(90, 130, 230)\"/><polygon fill=\"#42a3b9\" opacity=\"1\" points=\"145.0,240.0 155,220.0 165.0,240.0\" stroke-width=\"0\" transform=\" rotate(-90, 155, 230)\"/><polygon fill=\"#4498b7\" opacity=\"1\" points=\"170.0,240.0 180,220.0 190.0,240.0\" stroke-width=\"0\" transform=\" rotate(-45, 180, 230)\"/><polygon fill=\"#458db6\" opacity=\"1\" points=\"195.0,240.0 205,220.0 215.0,240.0\" stroke-width=\"0\" transform=\" rotate(0, 205, 230)\"/><polygon fill=\"#4682b4\" opacity=\"1\" points=\"220.0,240.0 230,220.0 240.0,240.0\" stroke-width=\"0\" transform=\" rotate(45, 230, 230)\"/></g></svg>"
          },
          "metadata": {}
        }
      ]
    },
    {
      "cell_type": "markdown",
      "source": [
        "# BASICS: Stimulus types"
      ],
      "metadata": {
        "id": "d5N3-XCWGArx"
      }
    },
    {
      "cell_type": "markdown",
      "source": [
        "## Grid"
      ],
      "metadata": {
        "id": "chGsw5qKJgPO"
      }
    },
    {
      "cell_type": "code",
      "source": [
        "stimulus = Grid(n_rows = 3, n_cols = 3)\n",
        "stimulus.Show()"
      ],
      "metadata": {
        "colab": {
          "base_uri": "https://localhost:8080/",
          "height": 206
        },
        "id": "CITxFhNTOAOt",
        "outputId": "6ce21c58-b4b9-4a6f-983d-f5004e954126"
      },
      "execution_count": null,
      "outputs": [
        {
          "output_type": "display_data",
          "data": {
            "text/plain": [
              "<IPython.core.display.SVG object>"
            ],
            "image/svg+xml": "<svg xmlns=\"http://www.w3.org/2000/svg\" xmlns:ev=\"http://www.w3.org/2001/xml-events\" xmlns:xlink=\"http://www.w3.org/1999/xlink\" baseProfile=\"full\" height=\"184\" version=\"1.1\" width=\"184\"><defs/><g transform=\" rotate(0, 92, 92)\"><rect fill=\"white\" height=\"184\" width=\"184\" x=\"0\" y=\"0\"/><polygon fill=\"dodgerblue\" opacity=\"1\" points=\"42.0,19.5 26.09009742330268,26.090097423302677 19.5,41.99999999999999 26.090097423302677,57.90990257669731 41.99999999999999,64.5 57.90990257669731,57.90990257669732 64.5,42.00000000000001 57.909902576697334,26.0900974233027\" stroke-width=\"0\" transform=\" rotate(0, 42, 42)\"/><polygon fill=\"dodgerblue\" opacity=\"1\" points=\"92.0,19.5 76.09009742330268,26.090097423302677 69.5,41.99999999999999 76.09009742330268,57.90990257669731 92.0,64.5 107.90990257669732,57.90990257669732 114.5,42.00000000000001 107.90990257669733,26.0900974233027\" stroke-width=\"0\" transform=\" rotate(0, 92, 42)\"/><polygon fill=\"dodgerblue\" opacity=\"1\" points=\"142.0,19.5 126.09009742330268,26.090097423302677 119.5,41.99999999999999 126.09009742330268,57.90990257669731 142.0,64.5 157.9099025766973,57.90990257669732 164.5,42.00000000000001 157.90990257669733,26.0900974233027\" stroke-width=\"0\" transform=\" rotate(0, 142, 42)\"/><polygon fill=\"dodgerblue\" opacity=\"1\" points=\"42.0,69.5 26.09009742330268,76.09009742330268 19.5,92.0 26.090097423302677,107.90990257669732 41.99999999999999,114.5 57.90990257669731,107.90990257669732 64.5,92.0 57.909902576697334,76.0900974233027\" stroke-width=\"0\" transform=\" rotate(0, 42, 92)\"/><polygon fill=\"dodgerblue\" opacity=\"1\" points=\"92.0,69.5 76.09009742330268,76.09009742330268 69.5,92.0 76.09009742330268,107.90990257669732 92.0,114.5 107.90990257669732,107.90990257669732 114.5,92.0 107.90990257669733,76.0900974233027\" stroke-width=\"0\" transform=\" rotate(0, 92, 92)\"/><polygon fill=\"dodgerblue\" opacity=\"1\" points=\"142.0,69.5 126.09009742330268,76.09009742330268 119.5,92.0 126.09009742330268,107.90990257669732 142.0,114.5 157.9099025766973,107.90990257669732 164.5,92.0 157.90990257669733,76.0900974233027\" stroke-width=\"0\" transform=\" rotate(0, 142, 92)\"/><polygon fill=\"dodgerblue\" opacity=\"1\" points=\"42.0,119.5 26.09009742330268,126.09009742330268 19.5,142.0 26.090097423302677,157.9099025766973 41.99999999999999,164.5 57.90990257669731,157.90990257669733 64.5,142.0 57.909902576697334,126.0900974233027\" stroke-width=\"0\" transform=\" rotate(0, 42, 142)\"/><polygon fill=\"dodgerblue\" opacity=\"1\" points=\"92.0,119.5 76.09009742330268,126.09009742330268 69.5,142.0 76.09009742330268,157.9099025766973 92.0,164.5 107.90990257669732,157.90990257669733 114.5,142.0 107.90990257669733,126.0900974233027\" stroke-width=\"0\" transform=\" rotate(0, 92, 142)\"/><polygon fill=\"dodgerblue\" opacity=\"1\" points=\"142.0,119.5 126.09009742330268,126.09009742330268 119.5,142.0 126.09009742330268,157.9099025766973 142.0,164.5 157.9099025766973,157.90990257669733 164.5,142.0 157.90990257669733,126.0900974233027\" stroke-width=\"0\" transform=\" rotate(0, 142, 142)\"/></g></svg>"
          },
          "metadata": {}
        }
      ]
    },
    {
      "cell_type": "markdown",
      "source": [
        "## Outline"
      ],
      "metadata": {
        "id": "CtKqwFJnJkNe"
      }
    },
    {
      "cell_type": "code",
      "source": [
        "stimulus = Outline(n_elements = 9)\n",
        "stimulus.Show()"
      ],
      "metadata": {
        "colab": {
          "base_uri": "https://localhost:8080/",
          "height": 401
        },
        "id": "N1c2P5meOFDn",
        "outputId": "b501a5cb-177a-4fc4-9752-81d1bed48522"
      },
      "execution_count": null,
      "outputs": [
        {
          "output_type": "display_data",
          "data": {
            "text/plain": [
              "<IPython.core.display.SVG object>"
            ],
            "image/svg+xml": "<svg xmlns=\"http://www.w3.org/2000/svg\" xmlns:ev=\"http://www.w3.org/2001/xml-events\" xmlns:xlink=\"http://www.w3.org/1999/xlink\" baseProfile=\"full\" height=\"379.4423259036624\" version=\"1.1\" width=\"374.95389311788625\"><defs/><g transform=\" rotate(0, 187, 189)\"><rect fill=\"white\" height=\"379.4423259036624\" width=\"374.95389311788625\" x=\"0\" y=\"0\"/><polygon fill=\"dodgerblue\" opacity=\"1\" points=\"42.0,167.22116295183116 26.09009742330268,173.81126037513383 19.5,189.72116295183116 26.090097423302677,205.63106552852847 41.99999999999999,212.22116295183116 57.90990257669731,205.6310655285285 64.5,189.72116295183116 57.909902576697334,173.81126037513386\" stroke-width=\"0\" transform=\" rotate(0, 42, 189)\"/><polygon fill=\"dodgerblue\" opacity=\"1\" points=\"77.09333353215331,70.80302149885027 61.18343095545599,77.39311892215295 54.59333353215331,93.30302149885027 61.18343095545599,109.21292407554759 77.09333353215331,115.80302149885027 93.00323610885063,109.21292407554759 99.59333353215331,93.30302149885027 93.00323610885064,77.39311892215296\" stroke-width=\"0\" transform=\" rotate(0, 77, 93)\"/><polygon fill=\"dodgerblue\" opacity=\"1\" points=\"165.95277334996047,19.5 150.04287077326316,26.090097423302677 143.45277334996047,41.99999999999999 150.04287077326313,57.90990257669731 165.95277334996047,64.5 181.86267592665777,57.90990257669732 188.45277334996047,42.00000000000001 181.8626759266578,26.0900974233027\" stroke-width=\"0\" transform=\" rotate(0, 165, 42)\"/><polygon fill=\"dodgerblue\" opacity=\"1\" points=\"267.0,37.31735238416539 251.0900974233027,43.90744980746807 244.5,59.81735238416538 251.09009742330267,75.72725496086271 267.0,82.31735238416539 282.90990257669733,75.72725496086271 289.5,59.817352384165396 282.90990257669733,43.90744980746809\" stroke-width=\"0\" transform=\" rotate(0, 267, 59)\"/><polygon fill=\"dodgerblue\" opacity=\"1\" points=\"332.95389311788625,115.91814145298088 317.0439905411889,122.50823887628356 310.45389311788625,138.41814145298088 317.0439905411889,154.32804402967818 332.95389311788625,160.91814145298088 348.8637956945836,154.3280440296782 355.45389311788625,138.41814145298088 348.8637956945836,122.50823887628357\" stroke-width=\"0\" transform=\" rotate(0, 332, 138)\"/><polygon fill=\"dodgerblue\" opacity=\"1\" points=\"332.95389311788625,218.5241844506815 317.0439905411889,225.11428187398417 310.45389311788625,241.0241844506815 317.0439905411889,256.93408702737884 332.95389311788625,263.5241844506815 348.8637956945836,256.93408702737884 355.45389311788625,241.0241844506815 348.8637956945836,225.1142818739842\" stroke-width=\"0\" transform=\" rotate(0, 332, 241)\"/><polygon fill=\"dodgerblue\" opacity=\"1\" points=\"267.0,297.12497351949696 251.0900974233027,303.7150709427996 244.5,319.62497351949696 251.09009742330267,335.5348760961943 267.0,342.12497351949696 282.90990257669733,335.5348760961943 289.5,319.62497351949696 282.90990257669733,303.7150709427997\" stroke-width=\"0\" transform=\" rotate(0, 267, 319)\"/><polygon fill=\"dodgerblue\" opacity=\"1\" points=\"165.95277334996047,314.9423259036624 150.04287077326316,321.53242332696504 143.45277334996047,337.4423259036624 150.04287077326313,353.3522284803597 165.95277334996047,359.9423259036624 181.86267592665777,353.3522284803597 188.45277334996047,337.4423259036624 181.8626759266578,321.5324233269651\" stroke-width=\"0\" transform=\" rotate(0, 165, 337)\"/><polygon fill=\"dodgerblue\" opacity=\"1\" points=\"77.09333353215331,263.6393044048121 61.18343095545599,270.22940182811476 54.59333353215331,286.1393044048121 61.18343095545599,302.0492069815094 77.09333353215331,308.6393044048121 93.00323610885063,302.0492069815094 99.59333353215331,286.1393044048121 93.00323610885064,270.2294018281148\" stroke-width=\"0\" transform=\" rotate(0, 77, 286)\"/></g></svg>"
          },
          "metadata": {}
        }
      ]
    },
    {
      "cell_type": "markdown",
      "source": [
        "## Concentric"
      ],
      "metadata": {
        "id": "fETe2rnvJmln"
      }
    },
    {
      "cell_type": "code",
      "source": [
        "stimulus = Concentric(n_elements = 9)\n",
        "stimulus.Show()"
      ],
      "metadata": {
        "colab": {
          "base_uri": "https://localhost:8080/",
          "height": 262
        },
        "id": "gqlsls8yONpf",
        "outputId": "a0f4b621-cc69-409e-d700-0233cfb49158"
      },
      "execution_count": null,
      "outputs": [
        {
          "output_type": "display_data",
          "data": {
            "text/plain": [
              "<IPython.core.display.SVG object>"
            ],
            "image/svg+xml": "<svg xmlns=\"http://www.w3.org/2000/svg\" xmlns:ev=\"http://www.w3.org/2001/xml-events\" xmlns:xlink=\"http://www.w3.org/1999/xlink\" baseProfile=\"full\" height=\"240\" version=\"1.1\" width=\"240\"><defs/><g transform=\" rotate(0, 120, 120)\"><rect fill=\"white\" height=\"240\" width=\"240\" x=\"0\" y=\"0\"/><polygon fill=\"dodgerblue\" opacity=\"1\" points=\"120.00000000000001,20.0 49.28932188134526,49.28932188134523 20.0,119.99999999999999 49.28932188134523,190.71067811865476 119.99999999999997,220.0 190.71067811865476,190.71067811865476 220.0,120.00000000000003 190.71067811865484,49.28932188134533\" stroke-width=\"0\" transform=\" rotate(0, 120, 120)\"/><polygon fill=\"lightgrey\" opacity=\"1\" points=\"120.00000000000001,31.25 57.24427316969391,57.24427316969389 31.25,119.99999999999999 57.24427316969389,182.7557268303061 119.99999999999997,208.75 182.7557268303061,182.75572683030612 208.75,120.00000000000003 182.75572683030617,57.24427316969398\" stroke-width=\"0\" transform=\" rotate(0, 120, 120)\"/><polygon fill=\"dodgerblue\" opacity=\"1\" points=\"120.00000000000001,42.5 65.19922445804258,65.19922445804255 42.5,119.99999999999999 65.19922445804255,174.80077554195742 119.99999999999999,197.5 174.80077554195742,174.80077554195745 197.5,120.00000000000003 174.8007755419575,65.19922445804264\" stroke-width=\"0\" transform=\" rotate(0, 120, 120)\"/><polygon fill=\"lightgrey\" opacity=\"1\" points=\"120.00000000000001,53.75 73.15417574639123,73.15417574639122 53.75,119.99999999999999 73.15417574639122,166.84582425360875 119.99999999999999,186.25 166.84582425360875,166.84582425360878 186.25,120.00000000000001 166.84582425360884,73.15417574639127\" stroke-width=\"0\" transform=\" rotate(0, 120, 120)\"/><polygon fill=\"dodgerblue\" opacity=\"1\" points=\"120.0,65.0 81.10912703473988,81.10912703473988 65.0,119.99999999999999 81.10912703473988,158.8908729652601 119.99999999999999,175.0 158.8908729652601,158.89087296526012 175.0,120.00000000000001 158.89087296526014,81.10912703473994\" stroke-width=\"0\" transform=\" rotate(0, 120, 120)\"/><polygon fill=\"lightgrey\" opacity=\"1\" points=\"120.0,76.25 89.06407832308855,89.06407832308854 76.25,119.99999999999999 89.06407832308854,150.93592167691145 119.99999999999999,163.75 150.93592167691145,150.93592167691145 163.75,120.00000000000001 150.9359216769115,89.06407832308858\" stroke-width=\"0\" transform=\" rotate(0, 120, 120)\"/><polygon fill=\"dodgerblue\" opacity=\"1\" points=\"120.0,87.5 97.0190296114372,97.0190296114372 87.5,120.0 97.0190296114372,142.98097038856278 119.99999999999999,152.5 142.98097038856278,142.9809703885628 152.5,120.00000000000001 142.9809703885628,97.01902961143723\" stroke-width=\"0\" transform=\" rotate(0, 120, 120)\"/><polygon fill=\"lightgrey\" opacity=\"1\" points=\"120.0,98.75 104.97398089978587,104.97398089978586 98.75,120.0 104.97398089978586,135.02601910021414 120.0,141.25 135.02601910021414,135.02601910021414 141.25,120.0 135.02601910021414,104.97398089978589\" stroke-width=\"0\" transform=\" rotate(0, 120, 120)\"/><polygon fill=\"dodgerblue\" opacity=\"1\" points=\"120.0,110.0 112.92893218813452,112.92893218813452 110.0,120.0 112.92893218813452,127.07106781186548 120.0,130.0 127.07106781186548,127.07106781186548 130.0,120.0 127.07106781186549,112.92893218813454\" stroke-width=\"0\" transform=\" rotate(0, 120, 120)\"/></g></svg>"
          },
          "metadata": {}
        }
      ]
    },
    {
      "cell_type": "markdown",
      "source": [
        "## Stimulus"
      ],
      "metadata": {
        "id": "0rrvXsNfJoje"
      }
    },
    {
      "cell_type": "code",
      "source": [
        "stimulus = Stimulus(x_margin = 5, y_margin = 5, size = (150,150), background_color = \"lightgrey\")\n",
        "stimulus.positions = Positions.CreateCustomPositions(x = (10,35,75),\n",
        "                                                     y = (10,85,45))\n",
        "stimulus.boundingboxes = [(45,45), (45,45), (45,45)]\n",
        "stimulus.shapes = [Rectangle, Triangle, Ellipse]\n",
        "stimulus.fillcolors = [\"red\", \"green\", \"blue\"]\n",
        "\n",
        "stimulus.orientations   =  [0,0,0]\n",
        "stimulus.bordercolors   = [\"black\", \"black\", \"black\"]\n",
        "stimulus.borderwidths   = [0,0,0]\n",
        "stimulus.opacities      = [1,1,1]\n",
        "stimulus.data           = [\"\", \"\", \"\"]\n",
        "stimulus.links          = [\"\", \"\", \"\"]\n",
        "stimulus.classlabels   = [\"\", \"\", \"\"]\n",
        "stimulus.idlabels      = [\"\", \"\", \"\"]\n",
        "stimulus.mirrorvalues  = [\"\", \"\", \"\"]\n",
        "stimulus._element_presentation_order  = [0,1,2]\n",
        "stimulus._attribute_overrides  = [{},{},{}]\n",
        "\n",
        "stimulus.Show()"
      ],
      "metadata": {
        "colab": {
          "base_uri": "https://localhost:8080/",
          "height": 172
        },
        "id": "EJHqI0KrOQhk",
        "outputId": "738aff4b-8875-475a-a68e-d6e630939073"
      },
      "execution_count": null,
      "outputs": [
        {
          "output_type": "display_data",
          "data": {
            "text/plain": [
              "<IPython.core.display.SVG object>"
            ],
            "image/svg+xml": "<svg xmlns=\"http://www.w3.org/2000/svg\" xmlns:ev=\"http://www.w3.org/2001/xml-events\" xmlns:xlink=\"http://www.w3.org/1999/xlink\" baseProfile=\"full\" height=\"150\" version=\"1.1\" width=\"150\"><defs/><g transform=\" rotate(0, 75, 75)\"><rect fill=\"lightgrey\" height=\"150\" width=\"150\" x=\"0\" y=\"0\"/><rect fill=\"red\" height=\"45\" opacity=\"1\" stroke=\"black\" stroke-width=\"0\" transform=\" rotate(0, 45, 38)\" width=\"45\" x=\"22.5\" y=\"15.833333333333336\"/><polygon fill=\"green\" opacity=\"1\" points=\"47.5,135.83333333333334 70.0,90.83333333333334 92.5,135.83333333333334\" stroke=\"black\" stroke-width=\"0\" transform=\" rotate(0, 70, 113)\"/><ellipse cx=\"110.0\" cy=\"73.33333333333334\" fill=\"blue\" opacity=\"1\" rx=\"22.5\" ry=\"22.5\" stroke=\"black\" stroke-width=\"0\" transform=\" rotate(0, 110, 73)\"/></g></svg>"
          },
          "metadata": {}
        }
      ]
    },
    {
      "cell_type": "markdown",
      "source": [
        "# BASICS: Stimulus characteristics\n",
        "\n",
        "The different stimulus properties can be specified when defining the stimulus type, but can also be changed dynamically after the stimulus has been created by assigning a new value to each parameter."
      ],
      "metadata": {
        "id": "cYrhiMKEIzou"
      }
    },
    {
      "cell_type": "code",
      "source": [
        "stimulus = Grid(n_rows = 3, n_cols = 6, background_color = \"gainsboro\")\n",
        "stimulus.Show()"
      ],
      "metadata": {
        "id": "0NSNP9s-TaZr",
        "colab": {
          "base_uri": "https://localhost:8080/",
          "height": 206
        },
        "outputId": "bc8902a0-f8b2-46d9-8b00-2ee0eedaeabf"
      },
      "execution_count": null,
      "outputs": [
        {
          "output_type": "display_data",
          "data": {
            "text/plain": [
              "<IPython.core.display.SVG object>"
            ],
            "image/svg+xml": "<svg xmlns=\"http://www.w3.org/2000/svg\" xmlns:ev=\"http://www.w3.org/2001/xml-events\" xmlns:xlink=\"http://www.w3.org/1999/xlink\" baseProfile=\"full\" height=\"184\" version=\"1.1\" width=\"334\"><defs/><g transform=\" rotate(0, 167, 92)\"><rect fill=\"gainsboro\" height=\"184\" width=\"334\" x=\"0\" y=\"0\"/><polygon fill=\"dodgerblue\" opacity=\"1\" points=\"42.0,19.5 26.09009742330268,26.090097423302677 19.5,41.99999999999999 26.090097423302677,57.90990257669731 41.99999999999999,64.5 57.90990257669731,57.90990257669732 64.5,42.00000000000001 57.909902576697334,26.0900974233027\" stroke-width=\"0\" transform=\" rotate(0, 42, 42)\"/><polygon fill=\"dodgerblue\" opacity=\"1\" points=\"92.0,19.5 76.09009742330268,26.090097423302677 69.5,41.99999999999999 76.09009742330268,57.90990257669731 92.0,64.5 107.90990257669732,57.90990257669732 114.5,42.00000000000001 107.90990257669733,26.0900974233027\" stroke-width=\"0\" transform=\" rotate(0, 92, 42)\"/><polygon fill=\"dodgerblue\" opacity=\"1\" points=\"142.0,19.5 126.09009742330268,26.090097423302677 119.5,41.99999999999999 126.09009742330268,57.90990257669731 142.0,64.5 157.9099025766973,57.90990257669732 164.5,42.00000000000001 157.90990257669733,26.0900974233027\" stroke-width=\"0\" transform=\" rotate(0, 142, 42)\"/><polygon fill=\"dodgerblue\" opacity=\"1\" points=\"192.0,19.5 176.0900974233027,26.090097423302677 169.5,41.99999999999999 176.09009742330267,57.90990257669731 192.0,64.5 207.9099025766973,57.90990257669732 214.5,42.00000000000001 207.90990257669733,26.0900974233027\" stroke-width=\"0\" transform=\" rotate(0, 192, 42)\"/><polygon fill=\"dodgerblue\" opacity=\"1\" points=\"242.0,19.5 226.0900974233027,26.090097423302677 219.5,41.99999999999999 226.09009742330267,57.90990257669731 242.0,64.5 257.90990257669733,57.90990257669732 264.5,42.00000000000001 257.90990257669733,26.0900974233027\" stroke-width=\"0\" transform=\" rotate(0, 242, 42)\"/><polygon fill=\"dodgerblue\" opacity=\"1\" points=\"292.0,19.5 276.09009742330267,26.090097423302677 269.5,41.99999999999999 276.09009742330267,57.90990257669731 292.0,64.5 307.90990257669733,57.90990257669732 314.5,42.00000000000001 307.90990257669733,26.0900974233027\" stroke-width=\"0\" transform=\" rotate(0, 292, 42)\"/><polygon fill=\"dodgerblue\" opacity=\"1\" points=\"42.0,69.5 26.09009742330268,76.09009742330268 19.5,92.0 26.090097423302677,107.90990257669732 41.99999999999999,114.5 57.90990257669731,107.90990257669732 64.5,92.0 57.909902576697334,76.0900974233027\" stroke-width=\"0\" transform=\" rotate(0, 42, 92)\"/><polygon fill=\"dodgerblue\" opacity=\"1\" points=\"92.0,69.5 76.09009742330268,76.09009742330268 69.5,92.0 76.09009742330268,107.90990257669732 92.0,114.5 107.90990257669732,107.90990257669732 114.5,92.0 107.90990257669733,76.0900974233027\" stroke-width=\"0\" transform=\" rotate(0, 92, 92)\"/><polygon fill=\"dodgerblue\" opacity=\"1\" points=\"142.0,69.5 126.09009742330268,76.09009742330268 119.5,92.0 126.09009742330268,107.90990257669732 142.0,114.5 157.9099025766973,107.90990257669732 164.5,92.0 157.90990257669733,76.0900974233027\" stroke-width=\"0\" transform=\" rotate(0, 142, 92)\"/><polygon fill=\"dodgerblue\" opacity=\"1\" points=\"192.0,69.5 176.0900974233027,76.09009742330268 169.5,92.0 176.09009742330267,107.90990257669732 192.0,114.5 207.9099025766973,107.90990257669732 214.5,92.0 207.90990257669733,76.0900974233027\" stroke-width=\"0\" transform=\" rotate(0, 192, 92)\"/><polygon fill=\"dodgerblue\" opacity=\"1\" points=\"242.0,69.5 226.0900974233027,76.09009742330268 219.5,92.0 226.09009742330267,107.90990257669732 242.0,114.5 257.90990257669733,107.90990257669732 264.5,92.0 257.90990257669733,76.0900974233027\" stroke-width=\"0\" transform=\" rotate(0, 242, 92)\"/><polygon fill=\"dodgerblue\" opacity=\"1\" points=\"292.0,69.5 276.09009742330267,76.09009742330268 269.5,92.0 276.09009742330267,107.90990257669732 292.0,114.5 307.90990257669733,107.90990257669732 314.5,92.0 307.90990257669733,76.0900974233027\" stroke-width=\"0\" transform=\" rotate(0, 292, 92)\"/><polygon fill=\"dodgerblue\" opacity=\"1\" points=\"42.0,119.5 26.09009742330268,126.09009742330268 19.5,142.0 26.090097423302677,157.9099025766973 41.99999999999999,164.5 57.90990257669731,157.90990257669733 64.5,142.0 57.909902576697334,126.0900974233027\" stroke-width=\"0\" transform=\" rotate(0, 42, 142)\"/><polygon fill=\"dodgerblue\" opacity=\"1\" points=\"92.0,119.5 76.09009742330268,126.09009742330268 69.5,142.0 76.09009742330268,157.9099025766973 92.0,164.5 107.90990257669732,157.90990257669733 114.5,142.0 107.90990257669733,126.0900974233027\" stroke-width=\"0\" transform=\" rotate(0, 92, 142)\"/><polygon fill=\"dodgerblue\" opacity=\"1\" points=\"142.0,119.5 126.09009742330268,126.09009742330268 119.5,142.0 126.09009742330268,157.9099025766973 142.0,164.5 157.9099025766973,157.90990257669733 164.5,142.0 157.90990257669733,126.0900974233027\" stroke-width=\"0\" transform=\" rotate(0, 142, 142)\"/><polygon fill=\"dodgerblue\" opacity=\"1\" points=\"192.0,119.5 176.0900974233027,126.09009742330268 169.5,142.0 176.09009742330267,157.9099025766973 192.0,164.5 207.9099025766973,157.90990257669733 214.5,142.0 207.90990257669733,126.0900974233027\" stroke-width=\"0\" transform=\" rotate(0, 192, 142)\"/><polygon fill=\"dodgerblue\" opacity=\"1\" points=\"242.0,119.5 226.0900974233027,126.09009742330268 219.5,142.0 226.09009742330267,157.9099025766973 242.0,164.5 257.90990257669733,157.90990257669733 264.5,142.0 257.90990257669733,126.0900974233027\" stroke-width=\"0\" transform=\" rotate(0, 242, 142)\"/><polygon fill=\"dodgerblue\" opacity=\"1\" points=\"292.0,119.5 276.09009742330267,126.09009742330268 269.5,142.0 276.09009742330267,157.9099025766973 292.0,164.5 307.90990257669733,157.90990257669733 314.5,142.0 307.90990257669733,126.0900974233027\" stroke-width=\"0\" transform=\" rotate(0, 292, 142)\"/></g></svg>"
          },
          "metadata": {}
        }
      ]
    },
    {
      "cell_type": "code",
      "source": [
        "stimulus = Grid(3,3)\n",
        "stimulus.n_cols = 6\n",
        "stimulus.background_color = \"gainsboro\"\n",
        "stimulus.Show()"
      ],
      "metadata": {
        "colab": {
          "base_uri": "https://localhost:8080/",
          "height": 206
        },
        "id": "4DYfT7wqTabO",
        "outputId": "de4d243e-a0ee-448c-ee8b-82ce00f50c9f"
      },
      "execution_count": null,
      "outputs": [
        {
          "output_type": "display_data",
          "data": {
            "text/plain": [
              "<IPython.core.display.SVG object>"
            ],
            "image/svg+xml": "<svg xmlns=\"http://www.w3.org/2000/svg\" xmlns:ev=\"http://www.w3.org/2001/xml-events\" xmlns:xlink=\"http://www.w3.org/1999/xlink\" baseProfile=\"full\" height=\"184\" version=\"1.1\" width=\"334\"><defs/><g transform=\" rotate(0, 167, 92)\"><rect fill=\"gainsboro\" height=\"184\" width=\"334\" x=\"0\" y=\"0\"/><polygon fill=\"dodgerblue\" opacity=\"1\" points=\"42.0,19.5 26.09009742330268,26.090097423302677 19.5,41.99999999999999 26.090097423302677,57.90990257669731 41.99999999999999,64.5 57.90990257669731,57.90990257669732 64.5,42.00000000000001 57.909902576697334,26.0900974233027\" stroke-width=\"0\" transform=\" rotate(0, 42, 42)\"/><polygon fill=\"dodgerblue\" opacity=\"1\" points=\"92.0,19.5 76.09009742330268,26.090097423302677 69.5,41.99999999999999 76.09009742330268,57.90990257669731 92.0,64.5 107.90990257669732,57.90990257669732 114.5,42.00000000000001 107.90990257669733,26.0900974233027\" stroke-width=\"0\" transform=\" rotate(0, 92, 42)\"/><polygon fill=\"dodgerblue\" opacity=\"1\" points=\"142.0,19.5 126.09009742330268,26.090097423302677 119.5,41.99999999999999 126.09009742330268,57.90990257669731 142.0,64.5 157.9099025766973,57.90990257669732 164.5,42.00000000000001 157.90990257669733,26.0900974233027\" stroke-width=\"0\" transform=\" rotate(0, 142, 42)\"/><polygon fill=\"dodgerblue\" opacity=\"1\" points=\"192.0,19.5 176.0900974233027,26.090097423302677 169.5,41.99999999999999 176.09009742330267,57.90990257669731 192.0,64.5 207.9099025766973,57.90990257669732 214.5,42.00000000000001 207.90990257669733,26.0900974233027\" stroke-width=\"0\" transform=\" rotate(0, 192, 42)\"/><polygon fill=\"dodgerblue\" opacity=\"1\" points=\"242.0,19.5 226.0900974233027,26.090097423302677 219.5,41.99999999999999 226.09009742330267,57.90990257669731 242.0,64.5 257.90990257669733,57.90990257669732 264.5,42.00000000000001 257.90990257669733,26.0900974233027\" stroke-width=\"0\" transform=\" rotate(0, 242, 42)\"/><polygon fill=\"dodgerblue\" opacity=\"1\" points=\"292.0,19.5 276.09009742330267,26.090097423302677 269.5,41.99999999999999 276.09009742330267,57.90990257669731 292.0,64.5 307.90990257669733,57.90990257669732 314.5,42.00000000000001 307.90990257669733,26.0900974233027\" stroke-width=\"0\" transform=\" rotate(0, 292, 42)\"/><polygon fill=\"dodgerblue\" opacity=\"1\" points=\"42.0,69.5 26.09009742330268,76.09009742330268 19.5,92.0 26.090097423302677,107.90990257669732 41.99999999999999,114.5 57.90990257669731,107.90990257669732 64.5,92.0 57.909902576697334,76.0900974233027\" stroke-width=\"0\" transform=\" rotate(0, 42, 92)\"/><polygon fill=\"dodgerblue\" opacity=\"1\" points=\"92.0,69.5 76.09009742330268,76.09009742330268 69.5,92.0 76.09009742330268,107.90990257669732 92.0,114.5 107.90990257669732,107.90990257669732 114.5,92.0 107.90990257669733,76.0900974233027\" stroke-width=\"0\" transform=\" rotate(0, 92, 92)\"/><polygon fill=\"dodgerblue\" opacity=\"1\" points=\"142.0,69.5 126.09009742330268,76.09009742330268 119.5,92.0 126.09009742330268,107.90990257669732 142.0,114.5 157.9099025766973,107.90990257669732 164.5,92.0 157.90990257669733,76.0900974233027\" stroke-width=\"0\" transform=\" rotate(0, 142, 92)\"/><polygon fill=\"dodgerblue\" opacity=\"1\" points=\"192.0,69.5 176.0900974233027,76.09009742330268 169.5,92.0 176.09009742330267,107.90990257669732 192.0,114.5 207.9099025766973,107.90990257669732 214.5,92.0 207.90990257669733,76.0900974233027\" stroke-width=\"0\" transform=\" rotate(0, 192, 92)\"/><polygon fill=\"dodgerblue\" opacity=\"1\" points=\"242.0,69.5 226.0900974233027,76.09009742330268 219.5,92.0 226.09009742330267,107.90990257669732 242.0,114.5 257.90990257669733,107.90990257669732 264.5,92.0 257.90990257669733,76.0900974233027\" stroke-width=\"0\" transform=\" rotate(0, 242, 92)\"/><polygon fill=\"dodgerblue\" opacity=\"1\" points=\"292.0,69.5 276.09009742330267,76.09009742330268 269.5,92.0 276.09009742330267,107.90990257669732 292.0,114.5 307.90990257669733,107.90990257669732 314.5,92.0 307.90990257669733,76.0900974233027\" stroke-width=\"0\" transform=\" rotate(0, 292, 92)\"/><polygon fill=\"dodgerblue\" opacity=\"1\" points=\"42.0,119.5 26.09009742330268,126.09009742330268 19.5,142.0 26.090097423302677,157.9099025766973 41.99999999999999,164.5 57.90990257669731,157.90990257669733 64.5,142.0 57.909902576697334,126.0900974233027\" stroke-width=\"0\" transform=\" rotate(0, 42, 142)\"/><polygon fill=\"dodgerblue\" opacity=\"1\" points=\"92.0,119.5 76.09009742330268,126.09009742330268 69.5,142.0 76.09009742330268,157.9099025766973 92.0,164.5 107.90990257669732,157.90990257669733 114.5,142.0 107.90990257669733,126.0900974233027\" stroke-width=\"0\" transform=\" rotate(0, 92, 142)\"/><polygon fill=\"dodgerblue\" opacity=\"1\" points=\"142.0,119.5 126.09009742330268,126.09009742330268 119.5,142.0 126.09009742330268,157.9099025766973 142.0,164.5 157.9099025766973,157.90990257669733 164.5,142.0 157.90990257669733,126.0900974233027\" stroke-width=\"0\" transform=\" rotate(0, 142, 142)\"/><polygon fill=\"dodgerblue\" opacity=\"1\" points=\"192.0,119.5 176.0900974233027,126.09009742330268 169.5,142.0 176.09009742330267,157.9099025766973 192.0,164.5 207.9099025766973,157.90990257669733 214.5,142.0 207.90990257669733,126.0900974233027\" stroke-width=\"0\" transform=\" rotate(0, 192, 142)\"/><polygon fill=\"dodgerblue\" opacity=\"1\" points=\"242.0,119.5 226.0900974233027,126.09009742330268 219.5,142.0 226.09009742330267,157.9099025766973 242.0,164.5 257.90990257669733,157.90990257669733 264.5,142.0 257.90990257669733,126.0900974233027\" stroke-width=\"0\" transform=\" rotate(0, 242, 142)\"/><polygon fill=\"dodgerblue\" opacity=\"1\" points=\"292.0,119.5 276.09009742330267,126.09009742330268 269.5,142.0 276.09009742330267,157.9099025766973 292.0,164.5 307.90990257669733,157.90990257669733 314.5,142.0 307.90990257669733,126.0900974233027\" stroke-width=\"0\" transform=\" rotate(0, 292, 142)\"/></g></svg>"
          },
          "metadata": {}
        }
      ]
    },
    {
      "cell_type": "markdown",
      "source": [
        "## Custom `row_spacing` and `col_spacing`\n",
        "\n"
      ],
      "metadata": {
        "id": "6H8j_ClcKB9f"
      }
    },
    {
      "cell_type": "code",
      "source": [
        "stimulus = Grid(3, 3, row_spacing = 60, col_spacing = 45, size = (150,200), background_color = \"gainsboro\")\n",
        "stimulus.Show()"
      ],
      "metadata": {
        "colab": {
          "base_uri": "https://localhost:8080/",
          "height": 222
        },
        "id": "1q3UtQLjJ82E",
        "outputId": "203feaa1-672e-439f-f9a8-b3cb965d8644"
      },
      "execution_count": null,
      "outputs": [
        {
          "output_type": "display_data",
          "data": {
            "text/plain": [
              "<IPython.core.display.SVG object>"
            ],
            "image/svg+xml": "<svg xmlns=\"http://www.w3.org/2000/svg\" xmlns:ev=\"http://www.w3.org/2001/xml-events\" xmlns:xlink=\"http://www.w3.org/1999/xlink\" baseProfile=\"full\" height=\"200\" version=\"1.1\" width=\"150\"><defs/><g transform=\" rotate(0, 75, 100)\"><rect fill=\"gainsboro\" height=\"200\" width=\"150\" x=\"0\" y=\"0\"/><polygon fill=\"dodgerblue\" opacity=\"1\" points=\"30.000000000000004,17.5 14.090097423302682,24.090097423302677 7.5,39.99999999999999 14.090097423302677,55.90990257669731 29.999999999999993,62.5 45.90990257669731,55.90990257669732 52.5,40.00000000000001 45.909902576697334,24.0900974233027\" stroke-width=\"0\" transform=\" rotate(0, 30, 40)\"/><polygon fill=\"dodgerblue\" opacity=\"1\" points=\"75.0,17.5 59.09009742330268,24.090097423302677 52.5,39.99999999999999 59.09009742330268,55.90990257669731 75.0,62.5 90.90990257669732,55.90990257669732 97.5,40.00000000000001 90.90990257669733,24.0900974233027\" stroke-width=\"0\" transform=\" rotate(0, 75, 40)\"/><polygon fill=\"dodgerblue\" opacity=\"1\" points=\"120.0,17.5 104.09009742330268,24.090097423302677 97.5,39.99999999999999 104.09009742330268,55.90990257669731 120.0,62.5 135.9099025766973,55.90990257669732 142.5,40.00000000000001 135.90990257669733,24.0900974233027\" stroke-width=\"0\" transform=\" rotate(0, 120, 40)\"/><polygon fill=\"dodgerblue\" opacity=\"1\" points=\"30.000000000000004,77.5 14.090097423302682,84.09009742330268 7.5,100.0 14.090097423302677,115.90990257669732 29.999999999999993,122.5 45.90990257669731,115.90990257669732 52.5,100.0 45.909902576697334,84.0900974233027\" stroke-width=\"0\" transform=\" rotate(0, 30, 100)\"/><polygon fill=\"dodgerblue\" opacity=\"1\" points=\"75.0,77.5 59.09009742330268,84.09009742330268 52.5,100.0 59.09009742330268,115.90990257669732 75.0,122.5 90.90990257669732,115.90990257669732 97.5,100.0 90.90990257669733,84.0900974233027\" stroke-width=\"0\" transform=\" rotate(0, 75, 100)\"/><polygon fill=\"dodgerblue\" opacity=\"1\" points=\"120.0,77.5 104.09009742330268,84.09009742330268 97.5,100.0 104.09009742330268,115.90990257669732 120.0,122.5 135.9099025766973,115.90990257669732 142.5,100.0 135.90990257669733,84.0900974233027\" stroke-width=\"0\" transform=\" rotate(0, 120, 100)\"/><polygon fill=\"dodgerblue\" opacity=\"1\" points=\"30.000000000000004,137.5 14.090097423302682,144.09009742330267 7.5,160.0 14.090097423302677,175.9099025766973 29.999999999999993,182.5 45.90990257669731,175.90990257669733 52.5,160.0 45.909902576697334,144.0900974233027\" stroke-width=\"0\" transform=\" rotate(0, 30, 160)\"/><polygon fill=\"dodgerblue\" opacity=\"1\" points=\"75.0,137.5 59.09009742330268,144.09009742330267 52.5,160.0 59.09009742330268,175.9099025766973 75.0,182.5 90.90990257669732,175.90990257669733 97.5,160.0 90.90990257669733,144.0900974233027\" stroke-width=\"0\" transform=\" rotate(0, 75, 160)\"/><polygon fill=\"dodgerblue\" opacity=\"1\" points=\"120.0,137.5 104.09009742330268,144.09009742330267 97.5,160.0 104.09009742330268,175.9099025766973 120.0,182.5 135.9099025766973,175.90990257669733 142.5,160.0 135.90990257669733,144.0900974233027\" stroke-width=\"0\" transform=\" rotate(0, 120, 160)\"/></g></svg>"
          },
          "metadata": {}
        }
      ]
    },
    {
      "cell_type": "markdown",
      "source": [
        "## Custom `shape` and `shape_boundingbox`"
      ],
      "metadata": {
        "id": "Hc-jtJ1BKNgC"
      }
    },
    {
      "cell_type": "code",
      "source": [
        "stimulus = Outline(36, shape = \"img/checkmark.svg\", shape_boundingbox = (200,200))\n",
        "\n",
        "stimulus.boundingboxes = GridPattern.RepeatAcrossElements([(15,15)])\n",
        "stimulus.Show()"
      ],
      "metadata": {
        "colab": {
          "base_uri": "https://localhost:8080/",
          "height": 339
        },
        "id": "RrnVZAbsKKvU",
        "outputId": "8a3e6619-53de-473d-c5c6-59e61dc3097a"
      },
      "execution_count": 15,
      "outputs": [
        {
          "output_type": "error",
          "ename": "FileNotFoundError",
          "evalue": "[Errno 2] No such file or directory: '/content/https:/octa.shinyapps.io/OCTAworkshop1/www/checkmark.svg'",
          "traceback": [
            "\u001b[0;31m---------------------------------------------------------------------------\u001b[0m",
            "\u001b[0;31mFileNotFoundError\u001b[0m                         Traceback (most recent call last)",
            "\u001b[0;32m<ipython-input-15-e06424b2a8b3>\u001b[0m in \u001b[0;36m<cell line: 1>\u001b[0;34m()\u001b[0m\n\u001b[0;32m----> 1\u001b[0;31m \u001b[0mstimulus\u001b[0m \u001b[0;34m=\u001b[0m \u001b[0mOutline\u001b[0m\u001b[0;34m(\u001b[0m\u001b[0;36m36\u001b[0m\u001b[0;34m,\u001b[0m \u001b[0mshape\u001b[0m \u001b[0;34m=\u001b[0m \u001b[0;34m\"https://octa.shinyapps.io/OCTAworkshop1/www/checkmark.svg\"\u001b[0m\u001b[0;34m,\u001b[0m \u001b[0mshape_boundingbox\u001b[0m \u001b[0;34m=\u001b[0m \u001b[0;34m(\u001b[0m\u001b[0;36m200\u001b[0m\u001b[0;34m,\u001b[0m\u001b[0;36m200\u001b[0m\u001b[0;34m)\u001b[0m\u001b[0;34m)\u001b[0m\u001b[0;34m\u001b[0m\u001b[0;34m\u001b[0m\u001b[0m\n\u001b[0m\u001b[1;32m      2\u001b[0m \u001b[0;34m\u001b[0m\u001b[0m\n\u001b[1;32m      3\u001b[0m \u001b[0mstimulus\u001b[0m\u001b[0;34m.\u001b[0m\u001b[0mboundingboxes\u001b[0m \u001b[0;34m=\u001b[0m \u001b[0mGridPattern\u001b[0m\u001b[0;34m.\u001b[0m\u001b[0mRepeatAcrossElements\u001b[0m\u001b[0;34m(\u001b[0m\u001b[0;34m[\u001b[0m\u001b[0;34m(\u001b[0m\u001b[0;36m15\u001b[0m\u001b[0;34m,\u001b[0m\u001b[0;36m15\u001b[0m\u001b[0;34m)\u001b[0m\u001b[0;34m]\u001b[0m\u001b[0;34m)\u001b[0m\u001b[0;34m\u001b[0m\u001b[0;34m\u001b[0m\u001b[0m\n\u001b[1;32m      4\u001b[0m \u001b[0mstimulus\u001b[0m\u001b[0;34m.\u001b[0m\u001b[0mShow\u001b[0m\u001b[0;34m(\u001b[0m\u001b[0;34m)\u001b[0m\u001b[0;34m\u001b[0m\u001b[0;34m\u001b[0m\u001b[0m\n",
            "\u001b[0;32m/usr/local/lib/python3.10/dist-packages/octa/Stimulus.py\u001b[0m in \u001b[0;36m__init__\u001b[0;34m(self, n_elements, shape, shape_boundingbox, x_margin, y_margin, size, background_color, background_shape, stim_mask, stim_orientation, stim_mirrorvalue, stim_link, stim_classlabel, stim_idlabel)\u001b[0m\n\u001b[1;32m   3009\u001b[0m             \u001b[0mself\u001b[0m\u001b[0;34m.\u001b[0m\u001b[0mpositions\u001b[0m \u001b[0;34m=\u001b[0m \u001b[0mPositions\u001b[0m\u001b[0;34m.\u001b[0m\u001b[0mCreateCircle\u001b[0m\u001b[0;34m(\u001b[0m\u001b[0mn_elements\u001b[0m \u001b[0;34m=\u001b[0m \u001b[0mn_elements\u001b[0m\u001b[0;34m,\u001b[0m \u001b[0mradius\u001b[0m \u001b[0;34m=\u001b[0m \u001b[0mshape_boundingbox\u001b[0m\u001b[0;34m[\u001b[0m\u001b[0;36m0\u001b[0m\u001b[0;34m]\u001b[0m\u001b[0;34m)\u001b[0m\u001b[0;34m\u001b[0m\u001b[0;34m\u001b[0m\u001b[0m\n\u001b[1;32m   3010\u001b[0m         \u001b[0;32melse\u001b[0m\u001b[0;34m:\u001b[0m\u001b[0;34m\u001b[0m\u001b[0;34m\u001b[0m\u001b[0m\n\u001b[0;32m-> 3011\u001b[0;31m             \u001b[0mself\u001b[0m\u001b[0;34m.\u001b[0m\u001b[0mpositions\u001b[0m \u001b[0;34m=\u001b[0m \u001b[0mPositions\u001b[0m\u001b[0;34m.\u001b[0m\u001b[0mCreateShape\u001b[0m\u001b[0;34m(\u001b[0m\u001b[0mn_elements\u001b[0m \u001b[0;34m=\u001b[0m \u001b[0mn_elements\u001b[0m\u001b[0;34m,\u001b[0m \u001b[0msrc\u001b[0m \u001b[0;34m=\u001b[0m \u001b[0mshape\u001b[0m\u001b[0;34m,\u001b[0m \u001b[0mwidth\u001b[0m \u001b[0;34m=\u001b[0m \u001b[0mshape_boundingbox\u001b[0m\u001b[0;34m[\u001b[0m\u001b[0;36m0\u001b[0m\u001b[0;34m]\u001b[0m\u001b[0;34m,\u001b[0m \u001b[0mheight\u001b[0m \u001b[0;34m=\u001b[0m \u001b[0mshape_boundingbox\u001b[0m\u001b[0;34m[\u001b[0m\u001b[0;36m1\u001b[0m\u001b[0;34m]\u001b[0m\u001b[0;34m)\u001b[0m\u001b[0;34m\u001b[0m\u001b[0;34m\u001b[0m\u001b[0m\n\u001b[0m\u001b[1;32m   3012\u001b[0m \u001b[0;34m\u001b[0m\u001b[0m\n",
            "\u001b[0;32m/usr/local/lib/python3.10/dist-packages/octa/Positions.py\u001b[0m in \u001b[0;36mCreateShape\u001b[0;34m(n_elements, src, path, width, height)\u001b[0m\n\u001b[1;32m    457\u001b[0m         \"\"\"\n\u001b[1;32m    458\u001b[0m         \u001b[0;32mif\u001b[0m\u001b[0;34m(\u001b[0m\u001b[0msrc\u001b[0m \u001b[0;32mis\u001b[0m \u001b[0;32mnot\u001b[0m \u001b[0;32mNone\u001b[0m\u001b[0;34m)\u001b[0m\u001b[0;34m:\u001b[0m\u001b[0;34m\u001b[0m\u001b[0;34m\u001b[0m\u001b[0m\n\u001b[0;32m--> 459\u001b[0;31m             \u001b[0mpaths\u001b[0m\u001b[0;34m,\u001b[0m \u001b[0mattributes\u001b[0m \u001b[0;34m=\u001b[0m \u001b[0msvgpathtools\u001b[0m\u001b[0;34m.\u001b[0m\u001b[0msvg2paths\u001b[0m\u001b[0;34m(\u001b[0m\u001b[0msrc\u001b[0m\u001b[0;34m)\u001b[0m\u001b[0;34m\u001b[0m\u001b[0;34m\u001b[0m\u001b[0m\n\u001b[0m\u001b[1;32m    460\u001b[0m         \u001b[0;32melse\u001b[0m\u001b[0;34m:\u001b[0m\u001b[0;34m\u001b[0m\u001b[0;34m\u001b[0m\u001b[0m\n\u001b[1;32m    461\u001b[0m             \u001b[0mpaths\u001b[0m \u001b[0;34m=\u001b[0m \u001b[0msvgpathtools\u001b[0m\u001b[0;34m.\u001b[0m\u001b[0mparse_path\u001b[0m\u001b[0;34m(\u001b[0m\u001b[0mpath\u001b[0m\u001b[0;34m)\u001b[0m\u001b[0;34m\u001b[0m\u001b[0;34m\u001b[0m\u001b[0m\n",
            "\u001b[0;32m/usr/local/lib/python3.10/dist-packages/svgpathtools/svg_to_paths.py\u001b[0m in \u001b[0;36msvg2paths\u001b[0;34m(svg_file_location, return_svg_attributes, convert_circles_to_paths, convert_ellipses_to_paths, convert_lines_to_paths, convert_polylines_to_paths, convert_polygons_to_paths, convert_rectangles_to_paths)\u001b[0m\n\u001b[1;32m    181\u001b[0m     \u001b[0msvg_file_location\u001b[0m \u001b[0;34m=\u001b[0m \u001b[0mos\u001b[0m\u001b[0;34m.\u001b[0m\u001b[0mpath\u001b[0m\u001b[0;34m.\u001b[0m\u001b[0mabspath\u001b[0m\u001b[0;34m(\u001b[0m\u001b[0msvg_file_location\u001b[0m\u001b[0;34m)\u001b[0m \u001b[0;32mif\u001b[0m \u001b[0mfrom_filepath\u001b[0m \u001b[0;32melse\u001b[0m \u001b[0msvg_file_location\u001b[0m\u001b[0;34m\u001b[0m\u001b[0;34m\u001b[0m\u001b[0m\n\u001b[1;32m    182\u001b[0m \u001b[0;34m\u001b[0m\u001b[0m\n\u001b[0;32m--> 183\u001b[0;31m     \u001b[0mdoc\u001b[0m \u001b[0;34m=\u001b[0m \u001b[0mparse\u001b[0m\u001b[0;34m(\u001b[0m\u001b[0msvg_file_location\u001b[0m\u001b[0;34m)\u001b[0m\u001b[0;34m\u001b[0m\u001b[0;34m\u001b[0m\u001b[0m\n\u001b[0m\u001b[1;32m    184\u001b[0m \u001b[0;34m\u001b[0m\u001b[0m\n\u001b[1;32m    185\u001b[0m     \u001b[0;32mdef\u001b[0m \u001b[0mdom2dict\u001b[0m\u001b[0;34m(\u001b[0m\u001b[0melement\u001b[0m\u001b[0;34m)\u001b[0m\u001b[0;34m:\u001b[0m\u001b[0;34m\u001b[0m\u001b[0;34m\u001b[0m\u001b[0m\n",
            "\u001b[0;32m/usr/lib/python3.10/xml/dom/minidom.py\u001b[0m in \u001b[0;36mparse\u001b[0;34m(file, parser, bufsize)\u001b[0m\n\u001b[1;32m   1988\u001b[0m     \u001b[0;32mif\u001b[0m \u001b[0mparser\u001b[0m \u001b[0;32mis\u001b[0m \u001b[0;32mNone\u001b[0m \u001b[0;32mand\u001b[0m \u001b[0;32mnot\u001b[0m \u001b[0mbufsize\u001b[0m\u001b[0;34m:\u001b[0m\u001b[0;34m\u001b[0m\u001b[0;34m\u001b[0m\u001b[0m\n\u001b[1;32m   1989\u001b[0m         \u001b[0;32mfrom\u001b[0m \u001b[0mxml\u001b[0m\u001b[0;34m.\u001b[0m\u001b[0mdom\u001b[0m \u001b[0;32mimport\u001b[0m \u001b[0mexpatbuilder\u001b[0m\u001b[0;34m\u001b[0m\u001b[0;34m\u001b[0m\u001b[0m\n\u001b[0;32m-> 1990\u001b[0;31m         \u001b[0;32mreturn\u001b[0m \u001b[0mexpatbuilder\u001b[0m\u001b[0;34m.\u001b[0m\u001b[0mparse\u001b[0m\u001b[0;34m(\u001b[0m\u001b[0mfile\u001b[0m\u001b[0;34m)\u001b[0m\u001b[0;34m\u001b[0m\u001b[0;34m\u001b[0m\u001b[0m\n\u001b[0m\u001b[1;32m   1991\u001b[0m     \u001b[0;32melse\u001b[0m\u001b[0;34m:\u001b[0m\u001b[0;34m\u001b[0m\u001b[0;34m\u001b[0m\u001b[0m\n\u001b[1;32m   1992\u001b[0m         \u001b[0;32mfrom\u001b[0m \u001b[0mxml\u001b[0m\u001b[0;34m.\u001b[0m\u001b[0mdom\u001b[0m \u001b[0;32mimport\u001b[0m \u001b[0mpulldom\u001b[0m\u001b[0;34m\u001b[0m\u001b[0;34m\u001b[0m\u001b[0m\n",
            "\u001b[0;32m/usr/lib/python3.10/xml/dom/expatbuilder.py\u001b[0m in \u001b[0;36mparse\u001b[0;34m(file, namespaces)\u001b[0m\n\u001b[1;32m    908\u001b[0m \u001b[0;34m\u001b[0m\u001b[0m\n\u001b[1;32m    909\u001b[0m     \u001b[0;32mif\u001b[0m \u001b[0misinstance\u001b[0m\u001b[0;34m(\u001b[0m\u001b[0mfile\u001b[0m\u001b[0;34m,\u001b[0m \u001b[0mstr\u001b[0m\u001b[0;34m)\u001b[0m\u001b[0;34m:\u001b[0m\u001b[0;34m\u001b[0m\u001b[0;34m\u001b[0m\u001b[0m\n\u001b[0;32m--> 910\u001b[0;31m         \u001b[0;32mwith\u001b[0m \u001b[0mopen\u001b[0m\u001b[0;34m(\u001b[0m\u001b[0mfile\u001b[0m\u001b[0;34m,\u001b[0m \u001b[0;34m'rb'\u001b[0m\u001b[0;34m)\u001b[0m \u001b[0;32mas\u001b[0m \u001b[0mfp\u001b[0m\u001b[0;34m:\u001b[0m\u001b[0;34m\u001b[0m\u001b[0;34m\u001b[0m\u001b[0m\n\u001b[0m\u001b[1;32m    911\u001b[0m             \u001b[0mresult\u001b[0m \u001b[0;34m=\u001b[0m \u001b[0mbuilder\u001b[0m\u001b[0;34m.\u001b[0m\u001b[0mparseFile\u001b[0m\u001b[0;34m(\u001b[0m\u001b[0mfp\u001b[0m\u001b[0;34m)\u001b[0m\u001b[0;34m\u001b[0m\u001b[0;34m\u001b[0m\u001b[0m\n\u001b[1;32m    912\u001b[0m     \u001b[0;32melse\u001b[0m\u001b[0;34m:\u001b[0m\u001b[0;34m\u001b[0m\u001b[0;34m\u001b[0m\u001b[0m\n",
            "\u001b[0;31mFileNotFoundError\u001b[0m: [Errno 2] No such file or directory: '/content/https:/octa.shinyapps.io/OCTAworkshop1/www/checkmark.svg'"
          ]
        }
      ]
    },
    {
      "cell_type": "code",
      "source": [
        "stimulus.Show()"
      ],
      "metadata": {
        "id": "oCpkFlqhJ__L"
      },
      "execution_count": null,
      "outputs": []
    },
    {
      "cell_type": "markdown",
      "source": [
        "# BASICS: Positions"
      ],
      "metadata": {
        "id": "iXo-S9lbJQgr"
      }
    },
    {
      "cell_type": "markdown",
      "source": [
        "# New Section"
      ],
      "metadata": {
        "id": "-C0HFTBEJUEP"
      }
    },
    {
      "cell_type": "code",
      "source": [
        "stimulus = Grid(5,5)\n",
        "stimulus.Show()\n",
        "\n",
        "stimulus.SaveJSON('test_stimulus', folder = \"output\")\n",
        "stimulus.SaveSVG('test_stimulus', scale = 1, folder = \"output\")\n",
        "# stimulus.SavePNG('test_stimulus', scale = 2, folder = \"output\")\n",
        "# stimulus.SaveJPG('test_stimulus', scale = 2, folder = \"output\")\n",
        "# stimulus.SaveTIFF('test_stimulus', scale = 2, folder = \"output\")\n",
        "stimulus.SavePDF('test_stimulus', scale = 2, folder = \"output\")\n",
        "\n",
        "stimulus.SaveSVG('test_stimulus', scale = 1, folder = \"output\")"
      ],
      "metadata": {
        "id": "YP9ZgSjOJ0Sj"
      },
      "execution_count": null,
      "outputs": []
    }
  ]
}