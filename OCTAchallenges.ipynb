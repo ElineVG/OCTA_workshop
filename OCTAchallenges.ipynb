{
  "nbformat": 4,
  "nbformat_minor": 0,
  "metadata": {
    "colab": {
      "provenance": []
    },
    "kernelspec": {
      "name": "python3",
      "display_name": "Python 3"
    },
    "language_info": {
      "name": "python"
    }
  },
  "cells": [
    {
      "cell_type": "markdown",
      "source": [
        "# OCTA challenges - help and solutions"
      ],
      "metadata": {
        "id": "AajNbEYMFzeZ"
      }
    },
    {
      "cell_type": "code",
      "source": [
        "#pip install svgwrite svg.path svgpathtools svgutils jsonpickle html2image svglib reportlab colour IPython pandas octa"
      ],
      "metadata": {
        "id": "gA3Lc4xqGtZN"
      },
      "execution_count": null,
      "outputs": []
    },
    {
      "cell_type": "code",
      "source": [
        "from octa.Stimulus import Grid, Outline, Concentric, Stimulus\n",
        "from octa.Positions import Positions\n",
        "from octa.patterns import GridPattern, Pattern\n",
        "from octa.shapes import Ellipse, Rectangle, Triangle, Image, Text, Polygon, RegularPolygon\n",
        "from octa.measurements import Order, Complexity"
      ],
      "metadata": {
        "id": "Dd6BrkZ-HI5d"
      },
      "execution_count": null,
      "outputs": []
    },
    {
      "cell_type": "markdown",
      "source": [
        "## Challenge 1\n",
        "\n",
        "Recreate this pattern in OCTA!\n",
        "\n",
        "Need some help? Look below the image!\n",
        "\n",
        "<img src = \"https://raw.githubusercontent.com/ElineVG/OCTA_workshop/main/OCTA_challenge1.svg\">\n",
        "\n",
        "\n",
        "\n",
        "TAB 1: ADD POSITION PATTERN\n",
        "\n",
        "How many rows and columns?\n",
        "\n",
        "*   n_rows = 8\n",
        "*   n_columns = 8\n",
        "\n",
        "TAB 2: ADD FEATURE PATTERNS\n",
        "\n",
        "SHAPES\n",
        "Which shapes & in which order?\n",
        "\n",
        "* Shapes to use: Rectangle, Rectangle, Ellipse\n",
        "\n",
        "Which pattern of shapes and in which direction?\n",
        "\n",
        "* Repeat pattern across columns\n",
        "\n",
        "COLORS\n",
        "Which colors & in which order?\n",
        "* Colors to use: blue, red, green, orange, yellow\n",
        "\n",
        "Which pattern of colors and in which direction?\n",
        "* Repeat pattern across rows\n",
        "\n"
      ],
      "metadata": {
        "id": "BrIgRfATF4EL"
      }
    },
    {
      "cell_type": "code",
      "source": [
        "from octa.Stimulus import Grid\n",
        "from octa.patterns import GridPattern\n",
        "from octa.shapes import Ellipse, Rectangle\n",
        "\n",
        "stimulus = Grid(n_rows = 8, n_cols = 8, row_spacing = 36, col_spacing = 36, x_margin = 60, y_margin = 60, background_color = '#F8F8F8')\n",
        "\n",
        "stimulus.shapes = GridPattern.RepeatAcrossColumns([Rectangle, Rectangle, Ellipse])\n",
        "stimulus.fillcolors = GridPattern.RepeatAcrossRows(['#54C4D0', '#ED4959', '#62BD80', '#F39130', '#FCE533'])\n",
        "stimulus.boundingboxes = GridPattern.RepeatAcrossColumns([(20,20)])\n",
        "stimulus.orientations = GridPattern.ElementRepeatAcrossRightDiagonal([0])\n",
        "\n",
        "stimulus.Show()\n",
        "stimulus.SaveSVG(\"challenge1\")"
      ],
      "metadata": {
        "colab": {
          "base_uri": "https://localhost:8080/",
          "height": 414
        },
        "id": "0y-6VxKMGlPG",
        "outputId": "947b6180-c901-464b-dfc6-2583b095a213"
      },
      "execution_count": 7,
      "outputs": [
        {
          "output_type": "display_data",
          "data": {
            "text/plain": [
              "<IPython.core.display.SVG object>"
            ],
            "image/svg+xml": "<svg xmlns=\"http://www.w3.org/2000/svg\" xmlns:ev=\"http://www.w3.org/2001/xml-events\" xmlns:xlink=\"http://www.w3.org/1999/xlink\" baseProfile=\"full\" height=\"392\" version=\"1.1\" width=\"392\"><defs/><g transform=\" rotate(0, 196, 196)\"><rect fill=\"#F8F8F8\" height=\"392\" width=\"392\" x=\"0\" y=\"0\"/><rect fill=\"#54C4D0\" height=\"20\" opacity=\"1\" stroke-width=\"0\" transform=\" rotate(0, 70, 70)\" width=\"20\" x=\"60.0\" y=\"60.0\"/><rect fill=\"#54C4D0\" height=\"20\" opacity=\"1\" stroke-width=\"0\" transform=\" rotate(0, 106, 70)\" width=\"20\" x=\"96.0\" y=\"60.0\"/><ellipse cx=\"142\" cy=\"70\" fill=\"#54C4D0\" opacity=\"1\" rx=\"10.0\" ry=\"10.0\" stroke-width=\"0\" transform=\" rotate(0, 142, 70)\"/><rect fill=\"#54C4D0\" height=\"20\" opacity=\"1\" stroke-width=\"0\" transform=\" rotate(0, 178, 70)\" width=\"20\" x=\"168.0\" y=\"60.0\"/><rect fill=\"#54C4D0\" height=\"20\" opacity=\"1\" stroke-width=\"0\" transform=\" rotate(0, 214, 70)\" width=\"20\" x=\"204.0\" y=\"60.0\"/><ellipse cx=\"250\" cy=\"70\" fill=\"#54C4D0\" opacity=\"1\" rx=\"10.0\" ry=\"10.0\" stroke-width=\"0\" transform=\" rotate(0, 250, 70)\"/><rect fill=\"#54C4D0\" height=\"20\" opacity=\"1\" stroke-width=\"0\" transform=\" rotate(0, 286, 70)\" width=\"20\" x=\"276.0\" y=\"60.0\"/><rect fill=\"#54C4D0\" height=\"20\" opacity=\"1\" stroke-width=\"0\" transform=\" rotate(0, 322, 70)\" width=\"20\" x=\"312.0\" y=\"60.0\"/><rect fill=\"#ED4959\" height=\"20\" opacity=\"1\" stroke-width=\"0\" transform=\" rotate(0, 70, 106)\" width=\"20\" x=\"60.0\" y=\"96.0\"/><rect fill=\"#ED4959\" height=\"20\" opacity=\"1\" stroke-width=\"0\" transform=\" rotate(0, 106, 106)\" width=\"20\" x=\"96.0\" y=\"96.0\"/><ellipse cx=\"142\" cy=\"106\" fill=\"#ED4959\" opacity=\"1\" rx=\"10.0\" ry=\"10.0\" stroke-width=\"0\" transform=\" rotate(0, 142, 106)\"/><rect fill=\"#ED4959\" height=\"20\" opacity=\"1\" stroke-width=\"0\" transform=\" rotate(0, 178, 106)\" width=\"20\" x=\"168.0\" y=\"96.0\"/><rect fill=\"#ED4959\" height=\"20\" opacity=\"1\" stroke-width=\"0\" transform=\" rotate(0, 214, 106)\" width=\"20\" x=\"204.0\" y=\"96.0\"/><ellipse cx=\"250\" cy=\"106\" fill=\"#ED4959\" opacity=\"1\" rx=\"10.0\" ry=\"10.0\" stroke-width=\"0\" transform=\" rotate(0, 250, 106)\"/><rect fill=\"#ED4959\" height=\"20\" opacity=\"1\" stroke-width=\"0\" transform=\" rotate(0, 286, 106)\" width=\"20\" x=\"276.0\" y=\"96.0\"/><rect fill=\"#ED4959\" height=\"20\" opacity=\"1\" stroke-width=\"0\" transform=\" rotate(0, 322, 106)\" width=\"20\" x=\"312.0\" y=\"96.0\"/><rect fill=\"#62BD80\" height=\"20\" opacity=\"1\" stroke-width=\"0\" transform=\" rotate(0, 70, 142)\" width=\"20\" x=\"60.0\" y=\"132.0\"/><rect fill=\"#62BD80\" height=\"20\" opacity=\"1\" stroke-width=\"0\" transform=\" rotate(0, 106, 142)\" width=\"20\" x=\"96.0\" y=\"132.0\"/><ellipse cx=\"142\" cy=\"142\" fill=\"#62BD80\" opacity=\"1\" rx=\"10.0\" ry=\"10.0\" stroke-width=\"0\" transform=\" rotate(0, 142, 142)\"/><rect fill=\"#62BD80\" height=\"20\" opacity=\"1\" stroke-width=\"0\" transform=\" rotate(0, 178, 142)\" width=\"20\" x=\"168.0\" y=\"132.0\"/><rect fill=\"#62BD80\" height=\"20\" opacity=\"1\" stroke-width=\"0\" transform=\" rotate(0, 214, 142)\" width=\"20\" x=\"204.0\" y=\"132.0\"/><ellipse cx=\"250\" cy=\"142\" fill=\"#62BD80\" opacity=\"1\" rx=\"10.0\" ry=\"10.0\" stroke-width=\"0\" transform=\" rotate(0, 250, 142)\"/><rect fill=\"#62BD80\" height=\"20\" opacity=\"1\" stroke-width=\"0\" transform=\" rotate(0, 286, 142)\" width=\"20\" x=\"276.0\" y=\"132.0\"/><rect fill=\"#62BD80\" height=\"20\" opacity=\"1\" stroke-width=\"0\" transform=\" rotate(0, 322, 142)\" width=\"20\" x=\"312.0\" y=\"132.0\"/><rect fill=\"#F39130\" height=\"20\" opacity=\"1\" stroke-width=\"0\" transform=\" rotate(0, 70, 178)\" width=\"20\" x=\"60.0\" y=\"168.0\"/><rect fill=\"#F39130\" height=\"20\" opacity=\"1\" stroke-width=\"0\" transform=\" rotate(0, 106, 178)\" width=\"20\" x=\"96.0\" y=\"168.0\"/><ellipse cx=\"142\" cy=\"178\" fill=\"#F39130\" opacity=\"1\" rx=\"10.0\" ry=\"10.0\" stroke-width=\"0\" transform=\" rotate(0, 142, 178)\"/><rect fill=\"#F39130\" height=\"20\" opacity=\"1\" stroke-width=\"0\" transform=\" rotate(0, 178, 178)\" width=\"20\" x=\"168.0\" y=\"168.0\"/><rect fill=\"#F39130\" height=\"20\" opacity=\"1\" stroke-width=\"0\" transform=\" rotate(0, 214, 178)\" width=\"20\" x=\"204.0\" y=\"168.0\"/><ellipse cx=\"250\" cy=\"178\" fill=\"#F39130\" opacity=\"1\" rx=\"10.0\" ry=\"10.0\" stroke-width=\"0\" transform=\" rotate(0, 250, 178)\"/><rect fill=\"#F39130\" height=\"20\" opacity=\"1\" stroke-width=\"0\" transform=\" rotate(0, 286, 178)\" width=\"20\" x=\"276.0\" y=\"168.0\"/><rect fill=\"#F39130\" height=\"20\" opacity=\"1\" stroke-width=\"0\" transform=\" rotate(0, 322, 178)\" width=\"20\" x=\"312.0\" y=\"168.0\"/><rect fill=\"#FCE533\" height=\"20\" opacity=\"1\" stroke-width=\"0\" transform=\" rotate(0, 70, 214)\" width=\"20\" x=\"60.0\" y=\"204.0\"/><rect fill=\"#FCE533\" height=\"20\" opacity=\"1\" stroke-width=\"0\" transform=\" rotate(0, 106, 214)\" width=\"20\" x=\"96.0\" y=\"204.0\"/><ellipse cx=\"142\" cy=\"214\" fill=\"#FCE533\" opacity=\"1\" rx=\"10.0\" ry=\"10.0\" stroke-width=\"0\" transform=\" rotate(0, 142, 214)\"/><rect fill=\"#FCE533\" height=\"20\" opacity=\"1\" stroke-width=\"0\" transform=\" rotate(0, 178, 214)\" width=\"20\" x=\"168.0\" y=\"204.0\"/><rect fill=\"#FCE533\" height=\"20\" opacity=\"1\" stroke-width=\"0\" transform=\" rotate(0, 214, 214)\" width=\"20\" x=\"204.0\" y=\"204.0\"/><ellipse cx=\"250\" cy=\"214\" fill=\"#FCE533\" opacity=\"1\" rx=\"10.0\" ry=\"10.0\" stroke-width=\"0\" transform=\" rotate(0, 250, 214)\"/><rect fill=\"#FCE533\" height=\"20\" opacity=\"1\" stroke-width=\"0\" transform=\" rotate(0, 286, 214)\" width=\"20\" x=\"276.0\" y=\"204.0\"/><rect fill=\"#FCE533\" height=\"20\" opacity=\"1\" stroke-width=\"0\" transform=\" rotate(0, 322, 214)\" width=\"20\" x=\"312.0\" y=\"204.0\"/><rect fill=\"#54C4D0\" height=\"20\" opacity=\"1\" stroke-width=\"0\" transform=\" rotate(0, 70, 250)\" width=\"20\" x=\"60.0\" y=\"240.0\"/><rect fill=\"#54C4D0\" height=\"20\" opacity=\"1\" stroke-width=\"0\" transform=\" rotate(0, 106, 250)\" width=\"20\" x=\"96.0\" y=\"240.0\"/><ellipse cx=\"142\" cy=\"250\" fill=\"#54C4D0\" opacity=\"1\" rx=\"10.0\" ry=\"10.0\" stroke-width=\"0\" transform=\" rotate(0, 142, 250)\"/><rect fill=\"#54C4D0\" height=\"20\" opacity=\"1\" stroke-width=\"0\" transform=\" rotate(0, 178, 250)\" width=\"20\" x=\"168.0\" y=\"240.0\"/><rect fill=\"#54C4D0\" height=\"20\" opacity=\"1\" stroke-width=\"0\" transform=\" rotate(0, 214, 250)\" width=\"20\" x=\"204.0\" y=\"240.0\"/><ellipse cx=\"250\" cy=\"250\" fill=\"#54C4D0\" opacity=\"1\" rx=\"10.0\" ry=\"10.0\" stroke-width=\"0\" transform=\" rotate(0, 250, 250)\"/><rect fill=\"#54C4D0\" height=\"20\" opacity=\"1\" stroke-width=\"0\" transform=\" rotate(0, 286, 250)\" width=\"20\" x=\"276.0\" y=\"240.0\"/><rect fill=\"#54C4D0\" height=\"20\" opacity=\"1\" stroke-width=\"0\" transform=\" rotate(0, 322, 250)\" width=\"20\" x=\"312.0\" y=\"240.0\"/><rect fill=\"#ED4959\" height=\"20\" opacity=\"1\" stroke-width=\"0\" transform=\" rotate(0, 70, 286)\" width=\"20\" x=\"60.0\" y=\"276.0\"/><rect fill=\"#ED4959\" height=\"20\" opacity=\"1\" stroke-width=\"0\" transform=\" rotate(0, 106, 286)\" width=\"20\" x=\"96.0\" y=\"276.0\"/><ellipse cx=\"142\" cy=\"286\" fill=\"#ED4959\" opacity=\"1\" rx=\"10.0\" ry=\"10.0\" stroke-width=\"0\" transform=\" rotate(0, 142, 286)\"/><rect fill=\"#ED4959\" height=\"20\" opacity=\"1\" stroke-width=\"0\" transform=\" rotate(0, 178, 286)\" width=\"20\" x=\"168.0\" y=\"276.0\"/><rect fill=\"#ED4959\" height=\"20\" opacity=\"1\" stroke-width=\"0\" transform=\" rotate(0, 214, 286)\" width=\"20\" x=\"204.0\" y=\"276.0\"/><ellipse cx=\"250\" cy=\"286\" fill=\"#ED4959\" opacity=\"1\" rx=\"10.0\" ry=\"10.0\" stroke-width=\"0\" transform=\" rotate(0, 250, 286)\"/><rect fill=\"#ED4959\" height=\"20\" opacity=\"1\" stroke-width=\"0\" transform=\" rotate(0, 286, 286)\" width=\"20\" x=\"276.0\" y=\"276.0\"/><rect fill=\"#ED4959\" height=\"20\" opacity=\"1\" stroke-width=\"0\" transform=\" rotate(0, 322, 286)\" width=\"20\" x=\"312.0\" y=\"276.0\"/><rect fill=\"#62BD80\" height=\"20\" opacity=\"1\" stroke-width=\"0\" transform=\" rotate(0, 70, 322)\" width=\"20\" x=\"60.0\" y=\"312.0\"/><rect fill=\"#62BD80\" height=\"20\" opacity=\"1\" stroke-width=\"0\" transform=\" rotate(0, 106, 322)\" width=\"20\" x=\"96.0\" y=\"312.0\"/><ellipse cx=\"142\" cy=\"322\" fill=\"#62BD80\" opacity=\"1\" rx=\"10.0\" ry=\"10.0\" stroke-width=\"0\" transform=\" rotate(0, 142, 322)\"/><rect fill=\"#62BD80\" height=\"20\" opacity=\"1\" stroke-width=\"0\" transform=\" rotate(0, 178, 322)\" width=\"20\" x=\"168.0\" y=\"312.0\"/><rect fill=\"#62BD80\" height=\"20\" opacity=\"1\" stroke-width=\"0\" transform=\" rotate(0, 214, 322)\" width=\"20\" x=\"204.0\" y=\"312.0\"/><ellipse cx=\"250\" cy=\"322\" fill=\"#62BD80\" opacity=\"1\" rx=\"10.0\" ry=\"10.0\" stroke-width=\"0\" transform=\" rotate(0, 250, 322)\"/><rect fill=\"#62BD80\" height=\"20\" opacity=\"1\" stroke-width=\"0\" transform=\" rotate(0, 286, 322)\" width=\"20\" x=\"276.0\" y=\"312.0\"/><rect fill=\"#62BD80\" height=\"20\" opacity=\"1\" stroke-width=\"0\" transform=\" rotate(0, 322, 322)\" width=\"20\" x=\"312.0\" y=\"312.0\"/></g></svg>"
          },
          "metadata": {}
        }
      ]
    },
    {
      "cell_type": "markdown",
      "source": [
        "## Challenge 2\n",
        "\n",
        "Recreate this pattern in OCTA!\n",
        "\n",
        "Need some help? Look below the image!\n",
        "\n",
        "<img src = \"https://raw.githubusercontent.com/ElineVG/OCTA_workshop/main/OCTA_challenge2.svg\">\n",
        "\n",
        "\n",
        "\n",
        "TAB 1: ADD POSITION PATTERN\n",
        "\n",
        "How many rows and columns?\n",
        "\n",
        "*   n_rows = 8\n",
        "*   n_columns = 8\n",
        "\n",
        "TAB 2: ADD FEATURE PATTERNS\n",
        "\n",
        "SHAPES\n",
        "Which shapes & in which order?\n",
        "\n",
        "* Shapes to use: Ellipse\n",
        "\n",
        "Which pattern of shapes and in which direction?\n",
        "\n",
        "* Repeat pattern across elements\n",
        "\n",
        "COLORS\n",
        "Which colors & in which order?\n",
        "* Colors to use: yellow, orange, red, green\n",
        "\n",
        "Which pattern of colors and in which direction?\n",
        "* Repeat pattern across layers\n"
      ],
      "metadata": {
        "id": "-NVOfmbnGL9m"
      }
    },
    {
      "cell_type": "code",
      "source": [
        "from octa.Stimulus import Grid\n",
        "from octa.patterns import GridPattern\n",
        "from octa.shapes import Ellipse\n",
        "\n",
        "stimulus = Grid(n_rows = 8, n_cols = 8, row_spacing = 36, col_spacing = 36, x_margin = 60, y_margin = 60, background_color = '#F8F8F8')\n",
        "\n",
        "stimulus.shapes = GridPattern.RepeatAcrossColumns([Ellipse])\n",
        "stimulus.fillcolors = GridPattern.RepeatAcrossLayers(['#FCE533', '#F39130', '#ED4959', '#B2D135', '#54C4D0'])\n",
        "stimulus.boundingboxes = GridPattern.RepeatAcrossColumns([(20,20)])\n",
        "stimulus.orientations = GridPattern.ElementRepeatAcrossRightDiagonal([0])\n",
        "\n",
        "stimulus.Show()\n",
        "stimulus.SaveSVG(\"challenge2\")"
      ],
      "metadata": {
        "colab": {
          "base_uri": "https://localhost:8080/",
          "height": 414
        },
        "id": "S8B7RfkTH3f3",
        "outputId": "2d67b9fd-8a21-4774-ec2b-86a837f81bab"
      },
      "execution_count": 8,
      "outputs": [
        {
          "output_type": "display_data",
          "data": {
            "text/plain": [
              "<IPython.core.display.SVG object>"
            ],
            "image/svg+xml": "<svg xmlns=\"http://www.w3.org/2000/svg\" xmlns:ev=\"http://www.w3.org/2001/xml-events\" xmlns:xlink=\"http://www.w3.org/1999/xlink\" baseProfile=\"full\" height=\"392\" version=\"1.1\" width=\"392\"><defs/><g transform=\" rotate(0, 196, 196)\"><rect fill=\"#F8F8F8\" height=\"392\" width=\"392\" x=\"0\" y=\"0\"/><ellipse cx=\"70\" cy=\"70\" fill=\"#B2D135\" opacity=\"1\" rx=\"10.0\" ry=\"10.0\" stroke-width=\"0\" transform=\" rotate(0, 70, 70)\"/><ellipse cx=\"106\" cy=\"70\" fill=\"#B2D135\" opacity=\"1\" rx=\"10.0\" ry=\"10.0\" stroke-width=\"0\" transform=\" rotate(0, 106, 70)\"/><ellipse cx=\"142\" cy=\"70\" fill=\"#B2D135\" opacity=\"1\" rx=\"10.0\" ry=\"10.0\" stroke-width=\"0\" transform=\" rotate(0, 142, 70)\"/><ellipse cx=\"178\" cy=\"70\" fill=\"#B2D135\" opacity=\"1\" rx=\"10.0\" ry=\"10.0\" stroke-width=\"0\" transform=\" rotate(0, 178, 70)\"/><ellipse cx=\"214\" cy=\"70\" fill=\"#B2D135\" opacity=\"1\" rx=\"10.0\" ry=\"10.0\" stroke-width=\"0\" transform=\" rotate(0, 214, 70)\"/><ellipse cx=\"250\" cy=\"70\" fill=\"#B2D135\" opacity=\"1\" rx=\"10.0\" ry=\"10.0\" stroke-width=\"0\" transform=\" rotate(0, 250, 70)\"/><ellipse cx=\"286\" cy=\"70\" fill=\"#B2D135\" opacity=\"1\" rx=\"10.0\" ry=\"10.0\" stroke-width=\"0\" transform=\" rotate(0, 286, 70)\"/><ellipse cx=\"322\" cy=\"70\" fill=\"#B2D135\" opacity=\"1\" rx=\"10.0\" ry=\"10.0\" stroke-width=\"0\" transform=\" rotate(0, 322, 70)\"/><ellipse cx=\"70\" cy=\"106\" fill=\"#B2D135\" opacity=\"1\" rx=\"10.0\" ry=\"10.0\" stroke-width=\"0\" transform=\" rotate(0, 70, 106)\"/><ellipse cx=\"106\" cy=\"106\" fill=\"#ED4959\" opacity=\"1\" rx=\"10.0\" ry=\"10.0\" stroke-width=\"0\" transform=\" rotate(0, 106, 106)\"/><ellipse cx=\"142\" cy=\"106\" fill=\"#ED4959\" opacity=\"1\" rx=\"10.0\" ry=\"10.0\" stroke-width=\"0\" transform=\" rotate(0, 142, 106)\"/><ellipse cx=\"178\" cy=\"106\" fill=\"#ED4959\" opacity=\"1\" rx=\"10.0\" ry=\"10.0\" stroke-width=\"0\" transform=\" rotate(0, 178, 106)\"/><ellipse cx=\"214\" cy=\"106\" fill=\"#ED4959\" opacity=\"1\" rx=\"10.0\" ry=\"10.0\" stroke-width=\"0\" transform=\" rotate(0, 214, 106)\"/><ellipse cx=\"250\" cy=\"106\" fill=\"#ED4959\" opacity=\"1\" rx=\"10.0\" ry=\"10.0\" stroke-width=\"0\" transform=\" rotate(0, 250, 106)\"/><ellipse cx=\"286\" cy=\"106\" fill=\"#ED4959\" opacity=\"1\" rx=\"10.0\" ry=\"10.0\" stroke-width=\"0\" transform=\" rotate(0, 286, 106)\"/><ellipse cx=\"322\" cy=\"106\" fill=\"#B2D135\" opacity=\"1\" rx=\"10.0\" ry=\"10.0\" stroke-width=\"0\" transform=\" rotate(0, 322, 106)\"/><ellipse cx=\"70\" cy=\"142\" fill=\"#B2D135\" opacity=\"1\" rx=\"10.0\" ry=\"10.0\" stroke-width=\"0\" transform=\" rotate(0, 70, 142)\"/><ellipse cx=\"106\" cy=\"142\" fill=\"#ED4959\" opacity=\"1\" rx=\"10.0\" ry=\"10.0\" stroke-width=\"0\" transform=\" rotate(0, 106, 142)\"/><ellipse cx=\"142\" cy=\"142\" fill=\"#F39130\" opacity=\"1\" rx=\"10.0\" ry=\"10.0\" stroke-width=\"0\" transform=\" rotate(0, 142, 142)\"/><ellipse cx=\"178\" cy=\"142\" fill=\"#F39130\" opacity=\"1\" rx=\"10.0\" ry=\"10.0\" stroke-width=\"0\" transform=\" rotate(0, 178, 142)\"/><ellipse cx=\"214\" cy=\"142\" fill=\"#F39130\" opacity=\"1\" rx=\"10.0\" ry=\"10.0\" stroke-width=\"0\" transform=\" rotate(0, 214, 142)\"/><ellipse cx=\"250\" cy=\"142\" fill=\"#F39130\" opacity=\"1\" rx=\"10.0\" ry=\"10.0\" stroke-width=\"0\" transform=\" rotate(0, 250, 142)\"/><ellipse cx=\"286\" cy=\"142\" fill=\"#ED4959\" opacity=\"1\" rx=\"10.0\" ry=\"10.0\" stroke-width=\"0\" transform=\" rotate(0, 286, 142)\"/><ellipse cx=\"322\" cy=\"142\" fill=\"#B2D135\" opacity=\"1\" rx=\"10.0\" ry=\"10.0\" stroke-width=\"0\" transform=\" rotate(0, 322, 142)\"/><ellipse cx=\"70\" cy=\"178\" fill=\"#B2D135\" opacity=\"1\" rx=\"10.0\" ry=\"10.0\" stroke-width=\"0\" transform=\" rotate(0, 70, 178)\"/><ellipse cx=\"106\" cy=\"178\" fill=\"#ED4959\" opacity=\"1\" rx=\"10.0\" ry=\"10.0\" stroke-width=\"0\" transform=\" rotate(0, 106, 178)\"/><ellipse cx=\"142\" cy=\"178\" fill=\"#F39130\" opacity=\"1\" rx=\"10.0\" ry=\"10.0\" stroke-width=\"0\" transform=\" rotate(0, 142, 178)\"/><ellipse cx=\"178\" cy=\"178\" fill=\"#FCE533\" opacity=\"1\" rx=\"10.0\" ry=\"10.0\" stroke-width=\"0\" transform=\" rotate(0, 178, 178)\"/><ellipse cx=\"214\" cy=\"178\" fill=\"#FCE533\" opacity=\"1\" rx=\"10.0\" ry=\"10.0\" stroke-width=\"0\" transform=\" rotate(0, 214, 178)\"/><ellipse cx=\"250\" cy=\"178\" fill=\"#F39130\" opacity=\"1\" rx=\"10.0\" ry=\"10.0\" stroke-width=\"0\" transform=\" rotate(0, 250, 178)\"/><ellipse cx=\"286\" cy=\"178\" fill=\"#ED4959\" opacity=\"1\" rx=\"10.0\" ry=\"10.0\" stroke-width=\"0\" transform=\" rotate(0, 286, 178)\"/><ellipse cx=\"322\" cy=\"178\" fill=\"#B2D135\" opacity=\"1\" rx=\"10.0\" ry=\"10.0\" stroke-width=\"0\" transform=\" rotate(0, 322, 178)\"/><ellipse cx=\"70\" cy=\"214\" fill=\"#B2D135\" opacity=\"1\" rx=\"10.0\" ry=\"10.0\" stroke-width=\"0\" transform=\" rotate(0, 70, 214)\"/><ellipse cx=\"106\" cy=\"214\" fill=\"#ED4959\" opacity=\"1\" rx=\"10.0\" ry=\"10.0\" stroke-width=\"0\" transform=\" rotate(0, 106, 214)\"/><ellipse cx=\"142\" cy=\"214\" fill=\"#F39130\" opacity=\"1\" rx=\"10.0\" ry=\"10.0\" stroke-width=\"0\" transform=\" rotate(0, 142, 214)\"/><ellipse cx=\"178\" cy=\"214\" fill=\"#FCE533\" opacity=\"1\" rx=\"10.0\" ry=\"10.0\" stroke-width=\"0\" transform=\" rotate(0, 178, 214)\"/><ellipse cx=\"214\" cy=\"214\" fill=\"#FCE533\" opacity=\"1\" rx=\"10.0\" ry=\"10.0\" stroke-width=\"0\" transform=\" rotate(0, 214, 214)\"/><ellipse cx=\"250\" cy=\"214\" fill=\"#F39130\" opacity=\"1\" rx=\"10.0\" ry=\"10.0\" stroke-width=\"0\" transform=\" rotate(0, 250, 214)\"/><ellipse cx=\"286\" cy=\"214\" fill=\"#ED4959\" opacity=\"1\" rx=\"10.0\" ry=\"10.0\" stroke-width=\"0\" transform=\" rotate(0, 286, 214)\"/><ellipse cx=\"322\" cy=\"214\" fill=\"#B2D135\" opacity=\"1\" rx=\"10.0\" ry=\"10.0\" stroke-width=\"0\" transform=\" rotate(0, 322, 214)\"/><ellipse cx=\"70\" cy=\"250\" fill=\"#B2D135\" opacity=\"1\" rx=\"10.0\" ry=\"10.0\" stroke-width=\"0\" transform=\" rotate(0, 70, 250)\"/><ellipse cx=\"106\" cy=\"250\" fill=\"#ED4959\" opacity=\"1\" rx=\"10.0\" ry=\"10.0\" stroke-width=\"0\" transform=\" rotate(0, 106, 250)\"/><ellipse cx=\"142\" cy=\"250\" fill=\"#F39130\" opacity=\"1\" rx=\"10.0\" ry=\"10.0\" stroke-width=\"0\" transform=\" rotate(0, 142, 250)\"/><ellipse cx=\"178\" cy=\"250\" fill=\"#F39130\" opacity=\"1\" rx=\"10.0\" ry=\"10.0\" stroke-width=\"0\" transform=\" rotate(0, 178, 250)\"/><ellipse cx=\"214\" cy=\"250\" fill=\"#F39130\" opacity=\"1\" rx=\"10.0\" ry=\"10.0\" stroke-width=\"0\" transform=\" rotate(0, 214, 250)\"/><ellipse cx=\"250\" cy=\"250\" fill=\"#F39130\" opacity=\"1\" rx=\"10.0\" ry=\"10.0\" stroke-width=\"0\" transform=\" rotate(0, 250, 250)\"/><ellipse cx=\"286\" cy=\"250\" fill=\"#ED4959\" opacity=\"1\" rx=\"10.0\" ry=\"10.0\" stroke-width=\"0\" transform=\" rotate(0, 286, 250)\"/><ellipse cx=\"322\" cy=\"250\" fill=\"#B2D135\" opacity=\"1\" rx=\"10.0\" ry=\"10.0\" stroke-width=\"0\" transform=\" rotate(0, 322, 250)\"/><ellipse cx=\"70\" cy=\"286\" fill=\"#B2D135\" opacity=\"1\" rx=\"10.0\" ry=\"10.0\" stroke-width=\"0\" transform=\" rotate(0, 70, 286)\"/><ellipse cx=\"106\" cy=\"286\" fill=\"#ED4959\" opacity=\"1\" rx=\"10.0\" ry=\"10.0\" stroke-width=\"0\" transform=\" rotate(0, 106, 286)\"/><ellipse cx=\"142\" cy=\"286\" fill=\"#ED4959\" opacity=\"1\" rx=\"10.0\" ry=\"10.0\" stroke-width=\"0\" transform=\" rotate(0, 142, 286)\"/><ellipse cx=\"178\" cy=\"286\" fill=\"#ED4959\" opacity=\"1\" rx=\"10.0\" ry=\"10.0\" stroke-width=\"0\" transform=\" rotate(0, 178, 286)\"/><ellipse cx=\"214\" cy=\"286\" fill=\"#ED4959\" opacity=\"1\" rx=\"10.0\" ry=\"10.0\" stroke-width=\"0\" transform=\" rotate(0, 214, 286)\"/><ellipse cx=\"250\" cy=\"286\" fill=\"#ED4959\" opacity=\"1\" rx=\"10.0\" ry=\"10.0\" stroke-width=\"0\" transform=\" rotate(0, 250, 286)\"/><ellipse cx=\"286\" cy=\"286\" fill=\"#ED4959\" opacity=\"1\" rx=\"10.0\" ry=\"10.0\" stroke-width=\"0\" transform=\" rotate(0, 286, 286)\"/><ellipse cx=\"322\" cy=\"286\" fill=\"#B2D135\" opacity=\"1\" rx=\"10.0\" ry=\"10.0\" stroke-width=\"0\" transform=\" rotate(0, 322, 286)\"/><ellipse cx=\"70\" cy=\"322\" fill=\"#B2D135\" opacity=\"1\" rx=\"10.0\" ry=\"10.0\" stroke-width=\"0\" transform=\" rotate(0, 70, 322)\"/><ellipse cx=\"106\" cy=\"322\" fill=\"#B2D135\" opacity=\"1\" rx=\"10.0\" ry=\"10.0\" stroke-width=\"0\" transform=\" rotate(0, 106, 322)\"/><ellipse cx=\"142\" cy=\"322\" fill=\"#B2D135\" opacity=\"1\" rx=\"10.0\" ry=\"10.0\" stroke-width=\"0\" transform=\" rotate(0, 142, 322)\"/><ellipse cx=\"178\" cy=\"322\" fill=\"#B2D135\" opacity=\"1\" rx=\"10.0\" ry=\"10.0\" stroke-width=\"0\" transform=\" rotate(0, 178, 322)\"/><ellipse cx=\"214\" cy=\"322\" fill=\"#B2D135\" opacity=\"1\" rx=\"10.0\" ry=\"10.0\" stroke-width=\"0\" transform=\" rotate(0, 214, 322)\"/><ellipse cx=\"250\" cy=\"322\" fill=\"#B2D135\" opacity=\"1\" rx=\"10.0\" ry=\"10.0\" stroke-width=\"0\" transform=\" rotate(0, 250, 322)\"/><ellipse cx=\"286\" cy=\"322\" fill=\"#B2D135\" opacity=\"1\" rx=\"10.0\" ry=\"10.0\" stroke-width=\"0\" transform=\" rotate(0, 286, 322)\"/><ellipse cx=\"322\" cy=\"322\" fill=\"#B2D135\" opacity=\"1\" rx=\"10.0\" ry=\"10.0\" stroke-width=\"0\" transform=\" rotate(0, 322, 322)\"/></g></svg>"
          },
          "metadata": {}
        }
      ]
    },
    {
      "cell_type": "markdown",
      "source": [
        "## Challenge 3\n",
        "\n",
        "Recreate this pattern in OCTA!\n",
        "\n",
        "Need some help? Look below the image!\n",
        "\n",
        "<img src = \"https://raw.githubusercontent.com/ElineVG/OCTA_workshop/main/OCTA_challenge3.svg\">\n",
        "\n",
        "\n",
        "\n",
        "TAB 1: ADD POSITION PATTERN\n",
        "\n",
        "How many rows and columns?\n",
        "\n",
        "*   n_rows = 6\n",
        "*   n_columns = 6\n",
        "\n",
        "TAB 2: ADD FEATURE PATTERNS\n",
        "\n",
        "SHAPES\n",
        "Which shapes & in which order?\n",
        "\n",
        "* Shapes to use: Ellipse\n",
        "\n",
        "Which pattern of shapes and in which direction?\n",
        "\n",
        "* Repeat pattern across elements\n",
        "\n",
        "COLORS\n",
        "Which colors & in which order?\n",
        "* Colors to use: blue, yellow, red, blue, red, yellow\n",
        "\n",
        "Which pattern of colors and in which direction?\n",
        "* Repeat pattern across rows\n",
        "\n",
        "SIZES\n",
        "Which sizes & in which order?\n",
        "* Sizes to use: (25,25), (20,20), (15,15), (15,15), (20,20), (25,25)\n",
        "\n",
        "Which pattern of sizes and in which direction?\n",
        "* Repeat pattern across rows"
      ],
      "metadata": {
        "id": "H88nPpz6GM-Z"
      }
    },
    {
      "cell_type": "code",
      "source": [
        "from octa.Stimulus import Grid\n",
        "from octa.patterns import GridPattern\n",
        "from octa.shapes import Ellipse\n",
        "\n",
        "stimulus = Grid(n_rows = 6, n_cols = 6, row_spacing = 36, col_spacing = 36, x_margin = 60, y_margin = 60, background_color = '#F8F8F8')\n",
        "\n",
        "stimulus.shapes = GridPattern.RepeatAcrossColumns([Ellipse])\n",
        "stimulus.fillcolors = GridPattern.RepeatAcrossRows(['#54C4D0', '#FCE533', '#ED4959', '#54C4D0', '#ED4959', '#FCE533'])\n",
        "stimulus.boundingboxes = GridPattern.RepeatAcrossRows([(25,25), (20,20), (15,15), (15,15), (20,20), (25,25)])\n",
        "stimulus.orientations = GridPattern.ElementRepeatAcrossRightDiagonal([0])\n",
        "\n",
        "stimulus.Show()\n",
        "stimulus.SaveSVG(\"challenge3\")"
      ],
      "metadata": {
        "id": "EyswNzPjH9tt"
      },
      "execution_count": null,
      "outputs": []
    },
    {
      "cell_type": "markdown",
      "source": [
        "## Challenge 4\n",
        "\n",
        "Recreate this pattern in OCTA!\n",
        "\n",
        "Need some help? Look below the image!\n",
        "\n",
        "<img src = \"https://raw.githubusercontent.com/ElineVG/OCTA_workshop/main/OCTA_challenge4.svg\">\n",
        "\n",
        "\n",
        "\n",
        "TAB 1: ADD POSITION PATTERN\n",
        "\n",
        "How many rows and columns?\n",
        "\n",
        "*   n_rows = 6\n",
        "*   n_columns = 6\n",
        "\n",
        "TAB 2: ADD FEATURE PATTERNS\n",
        "\n",
        "SHAPES\n",
        "Which shapes & in which order?\n",
        "\n",
        "* Shapes to use: Ellipse\n",
        "\n",
        "Which pattern of shapes and in which direction?\n",
        "\n",
        "* Repeat pattern across elements\n",
        "\n",
        "COLORS\n",
        "Which colors & in which order?\n",
        "* Colors to use: ‘deepskyblue’, ‘yellow’, ‘pink’, ‘limegreen’, ‘red’, ‘mediumblue’\n",
        "\n",
        "Which pattern of colors and in which direction?\n",
        "* Elementrepeat pattern across left diagonal\n",
        "\n",
        "SIZES\n",
        "Which sizes & in which order?\n",
        "* Sizes to use: (25,25), (20,20), (15,15)\n",
        "\n",
        "Which pattern of sizes and in which direction?\n",
        "* Elementrepeat pattern across left diagonal\n",
        "\n"
      ],
      "metadata": {
        "id": "cFAi8cnGGPOM"
      }
    },
    {
      "cell_type": "code",
      "execution_count": 9,
      "metadata": {
        "colab": {
          "base_uri": "https://localhost:8080/",
          "height": 346
        },
        "id": "kUuNPj5lFygh",
        "outputId": "10d0038c-01a3-4e07-b119-2073f863c69f"
      },
      "outputs": [
        {
          "output_type": "display_data",
          "data": {
            "text/plain": [
              "<IPython.core.display.SVG object>"
            ],
            "image/svg+xml": "<svg xmlns=\"http://www.w3.org/2000/svg\" xmlns:ev=\"http://www.w3.org/2001/xml-events\" xmlns:xlink=\"http://www.w3.org/1999/xlink\" baseProfile=\"full\" height=\"324\" version=\"1.1\" width=\"324\"><defs/><g transform=\" rotate(0, 162, 162)\"><rect fill=\"#F8F8F8\" height=\"324\" width=\"324\" x=\"0\" y=\"0\"/><ellipse cx=\"72\" cy=\"72\" fill=\"pink\" opacity=\"1\" rx=\"10.0\" ry=\"10.0\" stroke-width=\"0\" transform=\" rotate(0, 72, 72)\"/><ellipse cx=\"108\" cy=\"72\" fill=\"pink\" opacity=\"1\" rx=\"10.0\" ry=\"10.0\" stroke-width=\"0\" transform=\" rotate(0, 108, 72)\"/><ellipse cx=\"144\" cy=\"72\" fill=\"yellow\" opacity=\"1\" rx=\"12.5\" ry=\"12.5\" stroke-width=\"0\" transform=\" rotate(0, 144, 72)\"/><ellipse cx=\"180\" cy=\"72\" fill=\"yellow\" opacity=\"1\" rx=\"12.5\" ry=\"12.5\" stroke-width=\"0\" transform=\" rotate(0, 180, 72)\"/><ellipse cx=\"216\" cy=\"72\" fill=\"deepskyblue\" opacity=\"1\" rx=\"12.5\" ry=\"12.5\" stroke-width=\"0\" transform=\" rotate(0, 216, 72)\"/><ellipse cx=\"252\" cy=\"72\" fill=\"deepskyblue\" opacity=\"1\" rx=\"12.5\" ry=\"12.5\" stroke-width=\"0\" transform=\" rotate(0, 252, 72)\"/><ellipse cx=\"72\" cy=\"108\" fill=\"limegreen\" opacity=\"1\" rx=\"10.0\" ry=\"10.0\" stroke-width=\"0\" transform=\" rotate(0, 72, 108)\"/><ellipse cx=\"108\" cy=\"108\" fill=\"pink\" opacity=\"1\" rx=\"10.0\" ry=\"10.0\" stroke-width=\"0\" transform=\" rotate(0, 108, 108)\"/><ellipse cx=\"144\" cy=\"108\" fill=\"pink\" opacity=\"1\" rx=\"10.0\" ry=\"10.0\" stroke-width=\"0\" transform=\" rotate(0, 144, 108)\"/><ellipse cx=\"180\" cy=\"108\" fill=\"yellow\" opacity=\"1\" rx=\"12.5\" ry=\"12.5\" stroke-width=\"0\" transform=\" rotate(0, 180, 108)\"/><ellipse cx=\"216\" cy=\"108\" fill=\"yellow\" opacity=\"1\" rx=\"12.5\" ry=\"12.5\" stroke-width=\"0\" transform=\" rotate(0, 216, 108)\"/><ellipse cx=\"252\" cy=\"108\" fill=\"deepskyblue\" opacity=\"1\" rx=\"12.5\" ry=\"12.5\" stroke-width=\"0\" transform=\" rotate(0, 252, 108)\"/><ellipse cx=\"72\" cy=\"144\" fill=\"limegreen\" opacity=\"1\" rx=\"10.0\" ry=\"10.0\" stroke-width=\"0\" transform=\" rotate(0, 72, 144)\"/><ellipse cx=\"108\" cy=\"144\" fill=\"limegreen\" opacity=\"1\" rx=\"10.0\" ry=\"10.0\" stroke-width=\"0\" transform=\" rotate(0, 108, 144)\"/><ellipse cx=\"144\" cy=\"144\" fill=\"pink\" opacity=\"1\" rx=\"10.0\" ry=\"10.0\" stroke-width=\"0\" transform=\" rotate(0, 144, 144)\"/><ellipse cx=\"180\" cy=\"144\" fill=\"pink\" opacity=\"1\" rx=\"10.0\" ry=\"10.0\" stroke-width=\"0\" transform=\" rotate(0, 180, 144)\"/><ellipse cx=\"216\" cy=\"144\" fill=\"yellow\" opacity=\"1\" rx=\"12.5\" ry=\"12.5\" stroke-width=\"0\" transform=\" rotate(0, 216, 144)\"/><ellipse cx=\"252\" cy=\"144\" fill=\"yellow\" opacity=\"1\" rx=\"12.5\" ry=\"12.5\" stroke-width=\"0\" transform=\" rotate(0, 252, 144)\"/><ellipse cx=\"72\" cy=\"180\" fill=\"red\" opacity=\"1\" rx=\"7.5\" ry=\"7.5\" stroke-width=\"0\" transform=\" rotate(0, 72, 180)\"/><ellipse cx=\"108\" cy=\"180\" fill=\"limegreen\" opacity=\"1\" rx=\"10.0\" ry=\"10.0\" stroke-width=\"0\" transform=\" rotate(0, 108, 180)\"/><ellipse cx=\"144\" cy=\"180\" fill=\"limegreen\" opacity=\"1\" rx=\"10.0\" ry=\"10.0\" stroke-width=\"0\" transform=\" rotate(0, 144, 180)\"/><ellipse cx=\"180\" cy=\"180\" fill=\"pink\" opacity=\"1\" rx=\"10.0\" ry=\"10.0\" stroke-width=\"0\" transform=\" rotate(0, 180, 180)\"/><ellipse cx=\"216\" cy=\"180\" fill=\"pink\" opacity=\"1\" rx=\"10.0\" ry=\"10.0\" stroke-width=\"0\" transform=\" rotate(0, 216, 180)\"/><ellipse cx=\"252\" cy=\"180\" fill=\"yellow\" opacity=\"1\" rx=\"12.5\" ry=\"12.5\" stroke-width=\"0\" transform=\" rotate(0, 252, 180)\"/><ellipse cx=\"72\" cy=\"216\" fill=\"red\" opacity=\"1\" rx=\"7.5\" ry=\"7.5\" stroke-width=\"0\" transform=\" rotate(0, 72, 216)\"/><ellipse cx=\"108\" cy=\"216\" fill=\"red\" opacity=\"1\" rx=\"7.5\" ry=\"7.5\" stroke-width=\"0\" transform=\" rotate(0, 108, 216)\"/><ellipse cx=\"144\" cy=\"216\" fill=\"limegreen\" opacity=\"1\" rx=\"10.0\" ry=\"10.0\" stroke-width=\"0\" transform=\" rotate(0, 144, 216)\"/><ellipse cx=\"180\" cy=\"216\" fill=\"limegreen\" opacity=\"1\" rx=\"10.0\" ry=\"10.0\" stroke-width=\"0\" transform=\" rotate(0, 180, 216)\"/><ellipse cx=\"216\" cy=\"216\" fill=\"pink\" opacity=\"1\" rx=\"10.0\" ry=\"10.0\" stroke-width=\"0\" transform=\" rotate(0, 216, 216)\"/><ellipse cx=\"252\" cy=\"216\" fill=\"pink\" opacity=\"1\" rx=\"10.0\" ry=\"10.0\" stroke-width=\"0\" transform=\" rotate(0, 252, 216)\"/><ellipse cx=\"72\" cy=\"252\" fill=\"mediumblue\" opacity=\"1\" rx=\"7.5\" ry=\"7.5\" stroke-width=\"0\" transform=\" rotate(0, 72, 252)\"/><ellipse cx=\"108\" cy=\"252\" fill=\"red\" opacity=\"1\" rx=\"7.5\" ry=\"7.5\" stroke-width=\"0\" transform=\" rotate(0, 108, 252)\"/><ellipse cx=\"144\" cy=\"252\" fill=\"red\" opacity=\"1\" rx=\"7.5\" ry=\"7.5\" stroke-width=\"0\" transform=\" rotate(0, 144, 252)\"/><ellipse cx=\"180\" cy=\"252\" fill=\"limegreen\" opacity=\"1\" rx=\"10.0\" ry=\"10.0\" stroke-width=\"0\" transform=\" rotate(0, 180, 252)\"/><ellipse cx=\"216\" cy=\"252\" fill=\"limegreen\" opacity=\"1\" rx=\"10.0\" ry=\"10.0\" stroke-width=\"0\" transform=\" rotate(0, 216, 252)\"/><ellipse cx=\"252\" cy=\"252\" fill=\"pink\" opacity=\"1\" rx=\"10.0\" ry=\"10.0\" stroke-width=\"0\" transform=\" rotate(0, 252, 252)\"/></g></svg>"
          },
          "metadata": {}
        }
      ],
      "source": [
        "from octa.Stimulus import Grid\n",
        "from octa.patterns import GridPattern\n",
        "from octa.shapes import Ellipse\n",
        "\n",
        "stimulus = Grid(n_rows = 6, n_cols = 6, row_spacing = 36, col_spacing = 36, x_margin = 60, y_margin = 60, background_color = '#F8F8F8')\n",
        "\n",
        "stimulus.shapes = GridPattern.RepeatAcrossColumns([Ellipse])\n",
        "stimulus.fillcolors = GridPattern.ElementRepeatAcrossLeftDiagonal(['deepskyblue', 'yellow', 'pink', 'limegreen', 'red', 'mediumblue'])\n",
        "stimulus.boundingboxes = GridPattern.ElementRepeatAcrossLeftDiagonal([(25,25), (20,20), (15,15)])\n",
        "stimulus.orientations = GridPattern.ElementRepeatAcrossRightDiagonal([0])\n",
        "\n",
        "stimulus.Show()\n",
        "stimulus.SaveSVG(\"challenge4\")"
      ]
    }
  ]
}