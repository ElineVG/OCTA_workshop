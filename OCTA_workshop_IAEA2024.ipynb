{
  "nbformat": 4,
  "nbformat_minor": 0,
  "metadata": {
    "colab": {
      "provenance": []
    },
    "kernelspec": {
      "name": "python3",
      "display_name": "Python 3"
    },
    "language_info": {
      "name": "python"
    }
  },
  "cells": [
    {
      "cell_type": "markdown",
      "source": [
        "# **OCTA workshop at IAEA 2024**"
      ],
      "metadata": {
        "id": "3-cPiGt3PmF2"
      }
    },
    {
      "cell_type": "markdown",
      "source": [
        "**OCTA: the Order & Complexity Toolbox for Aesthetics**\n",
        "\n",
        "Reference for OCTA:</br>\n",
        "**Van Geert, E., Bossens, C., & Wagemans, J. (2023). The Order & Complexity Toolbox for Aesthetics (OCTA): A systematic approach to study the relations between order, complexity, and aesthetic appreciation. Behavior Research Methods, 55, 2423–2446. https://doi.org/10.3758/s13428-022-01900-w**\n",
        "\n",
        "Python toolbox: https://github.com/gestaltrevision/OCTA_toolbox</br>\n",
        "Shiny application: https://elinevg.shinyapps.io/OCTA_toolbox/\n",
        "\n",
        "Manual: https://elinevg.github.io/OCTA_manual/</br>\n",
        "Example stimuli: https://elinevg.github.io/OCTA_stimulusexamples/</br>\n",
        "Further resources: https://elinevg.github.io/OCTA/"
      ],
      "metadata": {
        "id": "IPQLSpwVHEAm"
      }
    },
    {
      "cell_type": "markdown",
      "source": [
        "# What is OCTA?"
      ],
      "metadata": {
        "id": "ParYFp7sGHRm"
      }
    },
    {
      "cell_type": "markdown",
      "source": [
        "OCTA is a Python library to create stimuli varying qualitatively and quantitatively in order and complexity, based on regularity and variety along multiple dimensions (e.g., position, shape, size, color, orientation) of the elements in the patterns. This Python toolbox provides perception and aesthetics researchers with a free and easy way to create reproducible and parametrically manipulated stimulus sets, with a focus on multi-element displays. Elements can include geometric shapes, but also images or custom-defined vector-based shapes to increase ecological validity. The standard vector-based output is ideal for experiments on the web and the creation of dynamic interfaces and stimuli. This flexibility is evidenced further by the option to animate specific elements in the display. An additional benefit of OCTA is its accessibility: researchers with programming experience can use the available functions or specify additional functionality tailored to their own wishes, whereas researchers less familiar with programming can use the point-and-click interface that is provided. With OCTA being fast, flexible, and transparent, we strongly believe that this toolbox will facilitate reproducible stimulus construction and experimental design in research on order, complexity, and aesthetics. In addition, OCTA can be a very useful tool to study research questions concerning visual perceptual organization and visual perception in general.\n",
        "\n"
      ],
      "metadata": {
        "id": "Vj6TJCKJGkd4"
      }
    },
    {
      "cell_type": "markdown",
      "source": [
        "# Workshop prerequisites\n",
        "\n",
        "**For this notebook to function as expected, please download the following two files and add them to the document folder related to this notebook (click the folder icon on the left, and then the upload icon):**\n",
        "\n",
        "- 'checkmark.svg': https://elinevg.github.io/OCTA_manual/img/checkmark.svg\n",
        "- 'gears.svg': https://elinevg.github.io/OCTA_manual/img/gears.svg"
      ],
      "metadata": {
        "id": "ORmSVGO84VQX"
      }
    },
    {
      "cell_type": "markdown",
      "source": [
        "# Installation & first example"
      ],
      "metadata": {
        "id": "gWloahPxGbJ_"
      }
    },
    {
      "cell_type": "markdown",
      "source": [
        "### Install dependencies"
      ],
      "metadata": {
        "id": "ITFCOTXRPseC"
      }
    },
    {
      "cell_type": "code",
      "source": [
        "# pip install svgwrite svg.path svgpathtools svgutils jsonpickle html2image svglib reportlab colour IPython pandas"
      ],
      "metadata": {
        "id": "WE7dfPgDNZer"
      },
      "execution_count": null,
      "outputs": []
    },
    {
      "cell_type": "markdown",
      "source": [
        "### Install octa Python package"
      ],
      "metadata": {
        "id": "9rU6Ml8LPv4Y"
      }
    },
    {
      "cell_type": "code",
      "execution_count": null,
      "metadata": {
        "id": "3kcFnF-eNE8Q"
      },
      "outputs": [],
      "source": [
        "# pip install octa"
      ]
    },
    {
      "cell_type": "markdown",
      "source": [
        "### Load functions from the octa package"
      ],
      "metadata": {
        "id": "rsi4B3lgP1wQ"
      }
    },
    {
      "cell_type": "code",
      "source": [
        "from octa.Stimulus import Grid, Outline, Concentric, Stimulus\n",
        "from octa.Positions import Positions\n",
        "from octa.patterns import GridPattern, Pattern, Sequence, LinearGradient\n",
        "from octa.shapes import Ellipse, Rectangle, Triangle, Polygon, RegularPolygon, Path, PathSvg, Image, FitImage, Text\n",
        "from octa.measurements import Order, Complexity"
      ],
      "metadata": {
        "id": "WzwRPQVlNlxc"
      },
      "execution_count": null,
      "outputs": []
    },
    {
      "cell_type": "markdown",
      "source": [
        "### Create your first OCTA stimulus!"
      ],
      "metadata": {
        "id": "Qo_Ttz5WP52o"
      }
    },
    {
      "cell_type": "code",
      "source": [
        "stimulus = Grid(9,9, row_spacing=25, col_spacing=25)\n",
        "\n",
        "stimulus.boundingboxes = GridPattern.RepeatAcrossElements([(20,20)])\n",
        "stimulus.shapes = GridPattern.RepeatAcrossLayers([Rectangle, Triangle, Ellipse])\n",
        "stimulus.fillcolors = GridPattern.GradientAcrossRightDiagonal(start_value = 'limegreen', end_value = 'steelblue')\n",
        "stimulus.orientations = GridPattern.MirrorAcrossLeftDiagonal([-90,-45,0,45,90])\n",
        "stimulus.Show()"
      ],
      "metadata": {
        "id": "eqv-cMBUNpbW"
      },
      "execution_count": null,
      "outputs": []
    },
    {
      "cell_type": "markdown",
      "source": [
        "### Exercise 1\n",
        "\n",
        "0.   Click the ‘Run Code’ button to create your first OCTA stimulus.\n",
        "\n",
        "1.   Can you change the number of rows and columns to 12 instead of 9?\n",
        "\n",
        "2.   Can you change the elements’ colors to go from red to limegreen?\n",
        "\n",
        "3.   Can you change the color gradient to go across the rows (`AcrossRows`) instead of across the right diagonal (`AcrossRightDiagonal`)?"
      ],
      "metadata": {
        "id": "Nh7Ns1ZDH0wj"
      }
    },
    {
      "cell_type": "code",
      "source": [
        "stimulus = Grid(9,9, row_spacing=25, col_spacing=25)\n",
        "\n",
        "stimulus.boundingboxes = GridPattern.RepeatAcrossElements([(20,20)])\n",
        "stimulus.shapes = GridPattern.RepeatAcrossLayers([Rectangle, Triangle, Ellipse])\n",
        "stimulus.fillcolors = GridPattern.GradientAcrossRightDiagonal(start_value = 'limegreen', end_value = 'steelblue')\n",
        "stimulus.orientations = GridPattern.MirrorAcrossLeftDiagonal([-90,-45,0,45,90])\n",
        "stimulus.Show()"
      ],
      "metadata": {
        "id": "A0oW_N-3Hy25"
      },
      "execution_count": null,
      "outputs": []
    },
    {
      "cell_type": "markdown",
      "source": [
        "# BASICS: Stimulus types"
      ],
      "metadata": {
        "id": "d5N3-XCWGArx"
      }
    },
    {
      "cell_type": "markdown",
      "source": [
        "## Grid"
      ],
      "metadata": {
        "id": "chGsw5qKJgPO"
      }
    },
    {
      "cell_type": "code",
      "source": [
        "stimulus = Grid(n_rows = 3, n_cols = 3)\n",
        "stimulus.Show()"
      ],
      "metadata": {
        "id": "CITxFhNTOAOt"
      },
      "execution_count": null,
      "outputs": []
    },
    {
      "cell_type": "markdown",
      "source": [
        "## Outline"
      ],
      "metadata": {
        "id": "CtKqwFJnJkNe"
      }
    },
    {
      "cell_type": "code",
      "source": [
        "stimulus = Outline(n_elements = 9)\n",
        "stimulus.Show()"
      ],
      "metadata": {
        "id": "N1c2P5meOFDn"
      },
      "execution_count": null,
      "outputs": []
    },
    {
      "cell_type": "markdown",
      "source": [
        "## Concentric"
      ],
      "metadata": {
        "id": "fETe2rnvJmln"
      }
    },
    {
      "cell_type": "code",
      "source": [
        "stimulus = Concentric(n_elements = 9)\n",
        "stimulus.Show()"
      ],
      "metadata": {
        "id": "gqlsls8yONpf"
      },
      "execution_count": null,
      "outputs": []
    },
    {
      "cell_type": "markdown",
      "source": [
        "## Stimulus"
      ],
      "metadata": {
        "id": "0rrvXsNfJoje"
      }
    },
    {
      "cell_type": "code",
      "source": [
        "stimulus = Stimulus(x_margin = 5, y_margin = 5, size = (150,150), background_color = \"lightgrey\")\n",
        "stimulus.positions = Positions.CreateCustomPositions(x = (10,35,75),\n",
        "                                                     y = (10,85,45))\n",
        "stimulus.boundingboxes = [(45,45), (45,45), (45,45)]\n",
        "stimulus.shapes = [Rectangle, Triangle, Ellipse]\n",
        "stimulus.fillcolors = [\"red\", \"green\", \"blue\"]\n",
        "\n",
        "stimulus.orientations   =  [0,0,0]\n",
        "stimulus.bordercolors   = [\"black\", \"black\", \"black\"]\n",
        "stimulus.borderwidths   = [0,0,0]\n",
        "stimulus.opacities      = [1,1,1]\n",
        "stimulus.data           = [\"\", \"\", \"\"]\n",
        "stimulus.links          = [\"\", \"\", \"\"]\n",
        "stimulus.classlabels   = [\"\", \"\", \"\"]\n",
        "stimulus.idlabels      = [\"\", \"\", \"\"]\n",
        "stimulus.mirrorvalues  = [\"\", \"\", \"\"]\n",
        "stimulus._element_presentation_order  = [0,1,2]\n",
        "stimulus._attribute_overrides  = [{},{},{}]\n",
        "\n",
        "stimulus.Show()"
      ],
      "metadata": {
        "id": "EJHqI0KrOQhk"
      },
      "execution_count": null,
      "outputs": []
    },
    {
      "cell_type": "markdown",
      "source": [
        "# BASICS: Stimulus characteristics\n",
        "\n",
        "The different stimulus properties can be specified when defining the stimulus type, but can also be changed dynamically after the stimulus has been created by assigning a new value to each parameter."
      ],
      "metadata": {
        "id": "cYrhiMKEIzou"
      }
    },
    {
      "cell_type": "code",
      "source": [
        "stimulus = Grid(n_rows = 3, n_cols = 6, background_color = \"gainsboro\")\n",
        "stimulus.Show()"
      ],
      "metadata": {
        "id": "0NSNP9s-TaZr"
      },
      "execution_count": null,
      "outputs": []
    },
    {
      "cell_type": "code",
      "source": [
        "stimulus = Grid(3,3)\n",
        "stimulus.n_cols = 6\n",
        "stimulus.background_color = \"gainsboro\"\n",
        "stimulus.Show()"
      ],
      "metadata": {
        "id": "4DYfT7wqTabO"
      },
      "execution_count": null,
      "outputs": []
    },
    {
      "cell_type": "markdown",
      "source": [
        "## Custom `row_spacing` and `col_spacing`\n",
        "\n"
      ],
      "metadata": {
        "id": "6H8j_ClcKB9f"
      }
    },
    {
      "cell_type": "code",
      "source": [
        "stimulus = Grid(3, 3, row_spacing = 60, col_spacing = 45, size = (150,200), background_color = \"gainsboro\")\n",
        "stimulus.Show()"
      ],
      "metadata": {
        "id": "1q3UtQLjJ82E"
      },
      "execution_count": null,
      "outputs": []
    },
    {
      "cell_type": "markdown",
      "source": [
        "## Custom `shape` and `shape_boundingbox`"
      ],
      "metadata": {
        "id": "Hc-jtJ1BKNgC"
      }
    },
    {
      "cell_type": "markdown",
      "source": [
        "**For the code block below to work, please download the file 'checkmark.svg' here: https://elinevg.github.io/OCTA_manual/img/checkmark.svg and add it to the document folder related to this notebook (click the folder icon on the left, and then the upload icon).**"
      ],
      "metadata": {
        "id": "wMSJ_BL2np3F"
      }
    },
    {
      "cell_type": "code",
      "source": [
        "stimulus = Outline(36, shape = \"checkmark.svg\", shape_boundingbox = (200,200))\n",
        "\n",
        "stimulus.boundingboxes = GridPattern.RepeatAcrossElements([(15,15)])\n",
        "stimulus.Show()"
      ],
      "metadata": {
        "id": "RrnVZAbsKKvU"
      },
      "execution_count": null,
      "outputs": []
    },
    {
      "cell_type": "markdown",
      "source": [
        "## Custom `x_margin` and `y_margin`"
      ],
      "metadata": {
        "id": "cAkdQHhVP5XX"
      }
    },
    {
      "cell_type": "code",
      "source": [
        "stimulus = Grid(3, 3, x_margin = (0,20), y_margin = 20, background_color = \"whitesmoke\")\n",
        "stimulus.Show()"
      ],
      "metadata": {
        "id": "oCpkFlqhJ__L"
      },
      "execution_count": null,
      "outputs": []
    },
    {
      "cell_type": "markdown",
      "source": [
        "The default sizing of the stimulus takes into account the maximum bounding box present in the pattern and adjusts all margins to be that size (maximum_boundingbox)."
      ],
      "metadata": {
        "id": "2qI9u2X4QLQj"
      }
    },
    {
      "cell_type": "code",
      "source": [
        "stimulus = Grid(3,3, background_color = \"gainsboro\", x_margin = 0, y_margin = 0)\n",
        "stimulus.boundingboxes = GridPattern.RepeatAcrossColumns([(20,20), (40,40)])\n",
        "stimulus._autosize_method = \"maximum_boundingbox\"\n",
        "stimulus.Show()"
      ],
      "metadata": {
        "id": "UFlvZMz1QMFB"
      },
      "execution_count": null,
      "outputs": []
    },
    {
      "cell_type": "markdown",
      "source": [
        "If the user prefers a tight fit, they can change the _autosize_method argument to tight_fit."
      ],
      "metadata": {
        "id": "SGcK3DyQQQnr"
      }
    },
    {
      "cell_type": "code",
      "source": [
        "stimulus = Grid(3,3, background_color = \"gainsboro\", x_margin = 0, y_margin = 0)\n",
        "stimulus.boundingboxes = GridPattern.RepeatAcrossColumns([(20,20), (40,40)])\n",
        "stimulus._autosize_method = \"tight_fit\"\n",
        "stimulus.Show()"
      ],
      "metadata": {
        "id": "_KRiUo1kQRAl"
      },
      "execution_count": null,
      "outputs": []
    },
    {
      "cell_type": "markdown",
      "source": [
        "## Custom `size`"
      ],
      "metadata": {
        "id": "cV4ojTawQTBG"
      }
    },
    {
      "cell_type": "markdown",
      "source": [
        "Please be aware that in case size is specified, x_margin and y_margin arguments are not taken into account."
      ],
      "metadata": {
        "id": "d1WV3s3fQbc4"
      }
    },
    {
      "cell_type": "code",
      "source": [
        "stimulus = Grid(3, 3, size = (250,200), background_color = \"gainsboro\")\n",
        "stimulus.Show()"
      ],
      "metadata": {
        "id": "CCnKCqZzQckp"
      },
      "execution_count": null,
      "outputs": []
    },
    {
      "cell_type": "markdown",
      "source": [
        "## Custom `background_color`"
      ],
      "metadata": {
        "id": "no45do0qQgVy"
      }
    },
    {
      "cell_type": "code",
      "source": [
        "stimulus = Grid(3, 3, background_color = \"lightyellow\")\n",
        "stimulus.Show()"
      ],
      "metadata": {
        "id": "LrB83NW8Q5At"
      },
      "execution_count": null,
      "outputs": []
    },
    {
      "cell_type": "markdown",
      "source": [
        "## Custom `background_shape`\n",
        "\n",
        "Adding a background shape clips the stimulus area to a custom shape. This clipping process does not take into account placement of elements outside of the clipping area (these elements will thus become invisible without further notice), so be aware that this process may hamper a correct calculation of the order and complexity measures. The background shape will be centered automatically. The background shape can be given as a character string or an actual shape definition (e.g., Rectangle, Ellipse, Triangle, including a value for the boundingbox property). When the shape name is given as a character string, the bounding box of the background shape is equal to the stimulus size."
      ],
      "metadata": {
        "id": "WWPxxE8wQll3"
      }
    },
    {
      "cell_type": "code",
      "source": [
        "stimsize = (300,300)\n",
        "clipshape = Ellipse(position = (stimsize[0]/2,stimsize[1]/2), boundingbox = stimsize)\n",
        "stimulus = Grid(6,6, background_color = \"lightgrey\", size = stimsize, background_shape = clipshape)\n",
        "stimulus.Show()"
      ],
      "metadata": {
        "id": "onPC0kwnQ79W"
      },
      "execution_count": null,
      "outputs": []
    },
    {
      "cell_type": "markdown",
      "source": [
        "## Custom `stim_orientation`"
      ],
      "metadata": {
        "id": "yme-r7MYQqO1"
      }
    },
    {
      "cell_type": "code",
      "source": [
        "stimulus = Grid(4,4, stim_orientation = 45, x_margin = 50, y_margin = 50)\n",
        "stimulus.Show()"
      ],
      "metadata": {
        "id": "EVsJ_InRRAbi"
      },
      "execution_count": null,
      "outputs": []
    },
    {
      "cell_type": "markdown",
      "source": [
        "## Custom `stim_mirrorvalue`\n",
        "\n",
        "The stimulus mirrorvalue mirrors the whole stimulus in the horizontal, vertical, or horizontal & vertical dimension.\n"
      ],
      "metadata": {
        "id": "OMyH12c9QuEd"
      }
    },
    {
      "cell_type": "code",
      "source": [
        "stimulus = Grid(3, 3, x_margin = 5, y_margin = 5, stim_mirrorvalue = \"none\")\n",
        "stimulus = Grid(3, 3, x_margin = 5, y_margin = 5, stim_mirrorvalue = \"horizontal\")\n",
        "stimulus = Grid(3, 3, x_margin = 5, y_margin = 5, stim_mirrorvalue = \"vertical\")\n",
        "stimulus = Grid(3, 3, x_margin = 5, y_margin = 5, stim_mirrorvalue = \"horizontalvertical\")\n",
        "\n",
        "stimulus.shapes = GridPattern.RepeatAcrossColumns([Polygon(5), Triangle])\n",
        "stimulus.orientations = GridPattern.RepeatAcrossColumns([0,0,45,45])\n",
        "stimulus.Show()"
      ],
      "metadata": {
        "id": "Xq67Lo_pRCJc"
      },
      "execution_count": null,
      "outputs": []
    },
    {
      "cell_type": "markdown",
      "source": [
        "## Custom `stim_mask`\n",
        "\n",
        "When a stimulus mask is added, this adds an image ‘filter’ or mask on top of the stimulus. This mask is not taken into account when calculating the order and complexity measures. The stimulus mask will be centered automatically. The stimulus mask can be given as a character string or an actual shape definition (e.g., Rectangle, Ellipse, Triangle, including a value for the boundingbox property and optionally the fillcolor property). When the shape name is given as a character string, the bounding box of the background shape is equal to the stimulus size."
      ],
      "metadata": {
        "id": "s2cQidavQwQu"
      }
    },
    {
      "cell_type": "code",
      "source": [
        "stimsize = (300,300)\n",
        "shapemask = Ellipse(position = (stimsize[0]/2,stimsize[1]/2), boundingbox = (stimsize[0],stimsize[1]), fillcolor = [\"radial\", \"white\",  \"black\"])\n",
        "stimulus = Grid(6,6, background_color = \"lightgrey\", size = stimsize, background_shape = clipshape, stim_mask = shapemask)\n",
        "\n",
        "stimulus.shapes = GridPattern.RepeatAcrossColumns([Polygon(5), Triangle])\n",
        "stimulus.orientations = GridPattern.RepeatAcrossColumns([0,0,45,45])\n",
        "stimulus.Show()"
      ],
      "metadata": {
        "id": "gUCSsKiPRMFf"
      },
      "execution_count": null,
      "outputs": []
    },
    {
      "cell_type": "markdown",
      "source": [
        "## Custom `stim_link`, `stim_classlabel`, and `stim_idlabel`\n",
        "\n",
        "These arguments add a hyperlink (activated on click), a class label, or an id label to the stimulus respectively. Although adding a class or id label has no immediate visual result, it can be used to add javascript animations or css style changes once you use the svg stimulus in an online context."
      ],
      "metadata": {
        "id": "eMwGejBOQy5t"
      }
    },
    {
      "cell_type": "code",
      "source": [
        "stimulus = Grid(3,3, stim_link = \"https://elinevg.shinyapps.io/OCTA_toolbox/\")\n",
        "stimulus.Show()"
      ],
      "metadata": {
        "id": "1ipGp2mfQnmU"
      },
      "execution_count": null,
      "outputs": []
    },
    {
      "cell_type": "markdown",
      "source": [
        "Example of adding labels to allow javascript actions: https://elinevg.github.io/OCTA_manual/img/testclassesids_example.html\n",
        "\n"
      ],
      "metadata": {
        "id": "SmgbMNk9RRIX"
      }
    },
    {
      "cell_type": "code",
      "source": [
        "# stimulus1 = Grid(4,4, stim_classlabel = \"leftstim\", stim_idlabel = \"blue_octagons\")\n",
        "\n",
        "# stimulus2 = Grid(4,4, stim_classlabel = \"rightstim\", stim_idlabel = \"red_squares\")\n",
        "# stimulus2.shapes = GridPattern.RepeatAcrossElements([Rectangle])\n",
        "# stimulus2.fillcolors = GridPattern.RepeatAcrossElements([\"red\"])"
      ],
      "metadata": {
        "id": "pPM0cX0gRzxL"
      },
      "execution_count": null,
      "outputs": []
    },
    {
      "cell_type": "markdown",
      "source": [
        "# BASICS: Positions"
      ],
      "metadata": {
        "id": "iXo-S9lbJQgr"
      }
    },
    {
      "cell_type": "markdown",
      "source": [
        "## Element position patterns\n",
        "\n",
        "Having created the stimulus, the resulting x and y coordinates for the positions of the elements can be requested via stimulus.positions.GetPositions(). 1 The position of an element is determined by the center of the element’s bounding box (i.e., the rectangle ‘bounding’ the size of the element shape). The default position patterns used for Grid, Outline, and Concentric stimuli are a rectangular grid with a row and column spacing of 50 user units, a circle outline with radius 150, and identical (0,0) positions respectively. The user can replace the default position pattern for the stimulus type by a custom one (e.g., a sinewave-shaped grid, a custom shape outline, random positions within a specified rectangle, manually specified positions).\n",
        "\n",
        "The x and y coordinates defined in the template (not the actual positions after adding deviations!) can be requested separately by using stimulus.positions.x and stimulus.positions.y respectively."
      ],
      "metadata": {
        "id": "sMAQUmZYRaYj"
      }
    },
    {
      "cell_type": "code",
      "source": [
        "stimulus = Grid(3,3, background_color = \"gainsboro\")\n",
        "stimulus.positions.GetPositions()"
      ],
      "metadata": {
        "id": "kR_byWOUo6o-"
      },
      "execution_count": null,
      "outputs": []
    },
    {
      "cell_type": "code",
      "source": [
        "stimulus.Show()"
      ],
      "metadata": {
        "id": "gIvXKrf7Rfsi"
      },
      "execution_count": null,
      "outputs": []
    },
    {
      "cell_type": "markdown",
      "source": [
        "## Rectangular grid\n",
        "\n",
        "New rectangular grid element positions can be applied using Positions.CreateRectGrid(n_rows, n_cols, row_spacing, col_spacing). The default value for row_spacing and column_spacing is 50. If you have already specified row and column spacing when defining the stimulus type, please define row and column spacing again within this function (it will not take into account your previously defined row and column spacing)."
      ],
      "metadata": {
        "id": "lEhJItj2Rdwx"
      }
    },
    {
      "cell_type": "code",
      "source": [
        "stimulus = Grid(3,3, background_color = \"gainsboro\")\n",
        "stimulus.positions = Positions.CreateRectGrid(n_rows = 1, n_cols = 9)\n",
        "stimulus.Show()"
      ],
      "metadata": {
        "id": "mBgYXjcKRkqf"
      },
      "execution_count": null,
      "outputs": []
    },
    {
      "cell_type": "markdown",
      "source": [
        "## Sinewave-shaped grid\n",
        "\n",
        "Positions for a sinewave-shaped grid can be applied using `Positions.CreateSineGrid(n_rows, n_cols, row_spacing, col_spacing, A, f, axis)`. Parameters `A` (amplitude), `f` (frequency), and `axis` (‘x’, ‘y’, or ‘xy’) have default values of 25, 0.1, and ‘x’ respectively."
      ],
      "metadata": {
        "id": "0VKHFcifpPuG"
      }
    },
    {
      "cell_type": "code",
      "source": [
        "stimulus = Grid(3,12)\n",
        "stimulus.positions = Positions.CreateSineGrid(n_rows = 3, n_cols = 12, A = 25, f = .1, axis = \"xy\")\n",
        "stimulus.Show()"
      ],
      "metadata": {
        "id": "arfd9pRHpbIS"
      },
      "execution_count": null,
      "outputs": []
    },
    {
      "cell_type": "markdown",
      "source": [
        "## Circle outline\n",
        "\n",
        "To get element positions that form a circle, the function `Positions.CreateCircle(radius, n_elements, starting_point = “left”)` can be used. The starting point can be set to ‘left’, ‘right’, ‘top’, or ‘bottom’."
      ],
      "metadata": {
        "id": "zbaks9H_pfiY"
      }
    },
    {
      "cell_type": "code",
      "source": [
        "stimulus = Grid(1,6, background_color = \"gainsboro\")\n",
        "stimulus.positions = Positions.CreateCircle(radius = 50, n_elements = 6)\n",
        "stimulus.Show()"
      ],
      "metadata": {
        "id": "p30ju4bbpeDe"
      },
      "execution_count": null,
      "outputs": []
    },
    {
      "cell_type": "markdown",
      "source": [
        "## Custom shape outline\n",
        "\n",
        "To get element positions that form a specified path, the function `Positions.CreateShape(n_elements, src, path, width = 300, height = 300)` can be used. The user either provides the name of an svg file that contains the shape to be used or defines an svg path string manually. The starting point of the path shape depends on how the specified path is defined."
      ],
      "metadata": {
        "id": "WAvY8BBbptaC"
      }
    },
    {
      "cell_type": "code",
      "source": [
        "stimulus = Grid(1,100, background_color = \"gainsboro\")\n",
        "stimulus.boundingboxes = GridPattern.RepeatAcrossElements([(10,10)])\n",
        "\n",
        "stimulus.positions = Positions.CreateShape(src = \"checkmark.svg\", n_elements = 100, width = 250, height = 250)\n",
        "stimulus.Show()"
      ],
      "metadata": {
        "id": "Gr4F0FXdp1nb"
      },
      "execution_count": null,
      "outputs": []
    },
    {
      "cell_type": "markdown",
      "source": [
        "## Random positions\n",
        "\n",
        "To get random element positions for a fixed number of elements, the function `Positions.CreateRandomPositions(n_elements, width, height, min_distance, max_iterations)` can be used. Default values for width and height are 300. The default minimum distance between all generated positions (min_distance) is 30. The default maximum number of iterations (max_iterations; i.e., how many times the algorithm should try to generate positions if the min_distance criterion can not be satisfied) is 10."
      ],
      "metadata": {
        "id": "9q63SX98p9Du"
      }
    },
    {
      "cell_type": "code",
      "source": [
        "stimulus = Grid(1,9, background_color = \"whitesmoke\")\n",
        "stimulus.positions = Positions.CreateRandomPositions(n_elements = 9, width = 200, height = 150, min_distance = 30, max_iterations = 10)\n",
        "stimulus.Show()"
      ],
      "metadata": {
        "id": "HhrCVnhSqCOH"
      },
      "execution_count": null,
      "outputs": []
    },
    {
      "cell_type": "markdown",
      "source": [
        "!!! As `Positions.CreateRandomPositions` includes a random aspect, you will get a different set of random positions every time. If you would like to get the same set of random positions every time (to make the generated stimulus exactly reproducible), you can first set a seed:"
      ],
      "metadata": {
        "id": "N9w_nmAbq82L"
      }
    },
    {
      "cell_type": "code",
      "source": [
        "import random\n",
        "random.seed(16296491581065414506)\n",
        "stimulus = Grid(1,9, background_color = \"whitesmoke\")\n",
        "stimulus.positions = Positions.CreateRandomPositions(n_elements = 9, width = 200, height = 150, min_distance = 30, max_iterations = 10)\n",
        "stimulus.Show()"
      ],
      "metadata": {
        "id": "Y6dDpqIOqm6-"
      },
      "execution_count": null,
      "outputs": []
    },
    {
      "cell_type": "markdown",
      "source": [
        "If you try to run the code block above multiple times, you will notice the outputted figure will stay exactly the same (not when you remove the seed or do not run the seed again every time you run the code for creating the stimulus)."
      ],
      "metadata": {
        "id": "8BKqHgn7rQrZ"
      }
    },
    {
      "cell_type": "markdown",
      "source": [
        "## Custom positions\n",
        "\n",
        "Custom x and y coordinates can be specified using `Positions.CreateCustomPositions(x,y)`:"
      ],
      "metadata": {
        "id": "SjRe5lajsFaU"
      }
    },
    {
      "cell_type": "code",
      "source": [
        "new_x = [20,20,40, 80,80,100, 160,160,160]\n",
        "new_y = [20,80,160, 20,80,160, 40,100,160]\n",
        "stimulus.positions = Positions.CreateCustomPositions(x = new_x, y = new_y)\n",
        "stimulus.Show()"
      ],
      "metadata": {
        "id": "dAGdAuoDsKmF"
      },
      "execution_count": null,
      "outputs": []
    },
    {
      "cell_type": "markdown",
      "source": [
        "# BASICS: Element features\n",
        "\n",
        "Once the stimulus features and element positions are specified, the pattern types, pattern directions, and pattern values for the different element features can be adjusted. The patterns can be applied to the following element characteristics: shapes, boundingboxes (i.e., the size of the bounding box in which the elements fit), fillcolors, orientations, borderwidths, bordercolors, opacities, mirrorvalues (i.e., whether some of the elements need to be mirrored), links, classlabels, and idlabels.\n",
        "\n",
        "Later in this section (cf. Feature values) we will give a more detailed overview of all these element features and their value options, but first we detail the different patterns that can be applied to the feature dimensions."
      ],
      "metadata": {
        "id": "4od0cLH4sYim"
      }
    },
    {
      "cell_type": "markdown",
      "source": [
        "## Feature patterns\n",
        "\n",
        "### GridPatterns\n",
        "\n",
        "The values for the different element characteristics are applied to the elements by following a specific pattern type and direction. In Grid and Outline stimuli, one value per element characteristic is repeated across all elements in the stimulus by default. In Concentric stimuli, a pattern with two fillcolors is repeated across all elements in the stimulus by default, and the boundingbox sizes follows a decreasing gradient across elements.\n",
        "\n",
        "Available pattern types for grid structures include pattern repetition (repeat), element repetition (elementrepeat), mirror symmetry (mirror), and a gradient from a start value to an end value (gradient). These patterns can be applied along the following pattern directions: across elements, across rows, across columns, across the left diagonal, across the right diagonal, and across layers. In addition, more complex patterns can be constructed using the TiledGrid and TiledElementGrid options. Finally, a random application of the values for the element characteristic across the elements is possible too (random). By default, the pattern values in the RandomPattern are repeated until the length is equal to the number of elements in the stimulus. Optionally, a list of frequencies can be provided to determine how many times each pattern value has to be present. In Outline and Concentric stimuli, it is strongly advised to apply patterns across elements (as other pattern directions will not be distinguishable in Outline and Concentric stimuli).\n",
        "\n",
        "The default direction in which the pattern is applied is from top to bottom and from left to right (“tblr”).\n",
        "\n",
        "We will show the different pattern options here on the basis of the fillcolor argument."
      ],
      "metadata": {
        "id": "5BJru4CysuVF"
      }
    },
    {
      "cell_type": "markdown",
      "source": [
        "### Repeat GridPattern"
      ],
      "metadata": {
        "id": "aca4jdo7t4Gw"
      }
    },
    {
      "cell_type": "markdown",
      "source": [
        "#### RepeatAcrossElements"
      ],
      "metadata": {
        "id": "2L3gJ4sstCYR"
      }
    },
    {
      "cell_type": "code",
      "source": [
        "stimulus = Grid(12,12, row_spacing = 16, col_spacing = 16)\n",
        "stimulus.boundingboxes = GridPattern.RepeatAcrossElements([(12,12)])\n",
        "\n",
        "stimulus.fillcolors = GridPattern.RepeatAcrossElements([\"red\", \"green\", \"blue\"])\n",
        "stimulus.Show()"
      ],
      "metadata": {
        "id": "GIzow0i1s46g"
      },
      "execution_count": null,
      "outputs": []
    },
    {
      "cell_type": "markdown",
      "source": [
        "#### RepeatAcrossRows"
      ],
      "metadata": {
        "id": "1lyKnw-6tKvH"
      }
    },
    {
      "cell_type": "code",
      "source": [
        "stimulus = Grid(12,12, row_spacing = 16, col_spacing = 16)\n",
        "stimulus.boundingboxes = GridPattern.RepeatAcrossElements([(12,12)])\n",
        "\n",
        "stimulus.fillcolors = GridPattern.RepeatAcrossRows([\"red\", \"green\", \"blue\"])\n",
        "stimulus.Show()"
      ],
      "metadata": {
        "id": "X8Gi8GhYs_jV"
      },
      "execution_count": null,
      "outputs": []
    },
    {
      "cell_type": "markdown",
      "source": [
        "#### RepeatAcrossColumns"
      ],
      "metadata": {
        "id": "9Nu82bVZtUIH"
      }
    },
    {
      "cell_type": "code",
      "source": [
        "stimulus = Grid(12,12, row_spacing = 16, col_spacing = 16)\n",
        "stimulus.boundingboxes = GridPattern.RepeatAcrossElements([(12,12)])\n",
        "\n",
        "stimulus.fillcolors = GridPattern.RepeatAcrossColumns([\"red\", \"green\", \"blue\"])\n",
        "stimulus.Show()"
      ],
      "metadata": {
        "id": "ZTQ9B0BMs_7t"
      },
      "execution_count": null,
      "outputs": []
    },
    {
      "cell_type": "markdown",
      "source": [
        "#### RepeatAcrossLeftDiagonal"
      ],
      "metadata": {
        "id": "exwqghG1teEm"
      }
    },
    {
      "cell_type": "code",
      "source": [
        "stimulus = Grid(12,12, row_spacing = 16, col_spacing = 16)\n",
        "stimulus.boundingboxes = GridPattern.RepeatAcrossElements([(12,12)])\n",
        "\n",
        "stimulus.fillcolors = GridPattern.RepeatAcrossLeftDiagonal([\"red\", \"green\", \"blue\"])\n",
        "stimulus.Show()"
      ],
      "metadata": {
        "id": "xmgAmGWWtAHg"
      },
      "execution_count": null,
      "outputs": []
    },
    {
      "cell_type": "markdown",
      "source": [
        "#### RepeatAcrossRightDiagonal"
      ],
      "metadata": {
        "id": "dWcZOtfstj7j"
      }
    },
    {
      "cell_type": "code",
      "source": [
        "stimulus = Grid(12,12, row_spacing = 16, col_spacing = 16)\n",
        "stimulus.boundingboxes = GridPattern.RepeatAcrossElements([(12,12)])\n",
        "\n",
        "stimulus.fillcolors = GridPattern.RepeatAcrossRightDiagonal([\"red\", \"green\", \"blue\"])\n",
        "stimulus.Show()"
      ],
      "metadata": {
        "id": "bGJXijXUtqAc"
      },
      "execution_count": null,
      "outputs": []
    },
    {
      "cell_type": "markdown",
      "source": [
        "#### RepeatAcrossLayers"
      ],
      "metadata": {
        "id": "CPYW-KWjtuCc"
      }
    },
    {
      "cell_type": "code",
      "source": [
        "stimulus = Grid(12,12, row_spacing = 16, col_spacing = 16)\n",
        "stimulus.boundingboxes = GridPattern.RepeatAcrossElements([(12,12)])\n",
        "\n",
        "stimulus.fillcolors = GridPattern.RepeatAcrossLayers([\"red\", \"green\", \"blue\"])\n",
        "stimulus.Show()"
      ],
      "metadata": {
        "id": "GUlxkvb6twJN"
      },
      "execution_count": null,
      "outputs": []
    },
    {
      "cell_type": "markdown",
      "source": [
        "### ElementRepeat GridPattern"
      ],
      "metadata": {
        "id": "yxf9S-2Kt9Wa"
      }
    },
    {
      "cell_type": "code",
      "source": [
        "stimulus = Grid(12,12, row_spacing = 16, col_spacing = 16)\n",
        "stimulus.boundingboxes = GridPattern.RepeatAcrossElements([(12,12)])\n",
        "\n",
        "stimulus.fillcolors = GridPattern.ElementRepeatAcrossElements([\"red\", \"green\", \"blue\"])\n",
        "stimulus.fillcolors = GridPattern.ElementRepeatAcrossRows([\"red\", \"green\", \"blue\"])\n",
        "stimulus.fillcolors = GridPattern.ElementRepeatAcrossColumns([\"red\", \"green\", \"blue\"])\n",
        "stimulus.fillcolors = GridPattern.ElementRepeatAcrossLeftDiagonal([\"red\", \"green\", \"blue\"])\n",
        "stimulus.fillcolors = GridPattern.ElementRepeatAcrossRightDiagonal([\"red\", \"green\", \"blue\"])\n",
        "stimulus.fillcolors = GridPattern.ElementRepeatAcrossLayers([\"red\", \"green\", \"blue\"])\n",
        "stimulus.Show()"
      ],
      "metadata": {
        "id": "HtWlIlHhuItm"
      },
      "execution_count": null,
      "outputs": []
    },
    {
      "cell_type": "markdown",
      "source": [
        "### Mirror GridPattern"
      ],
      "metadata": {
        "id": "YjK59EK4uPHa"
      }
    },
    {
      "cell_type": "code",
      "source": [
        "stimulus = Grid(12,12, row_spacing = 16, col_spacing = 16)\n",
        "stimulus.boundingboxes = GridPattern.RepeatAcrossElements([(12,12)])\n",
        "\n",
        "stimulus.fillcolors = GridPattern.MirrorAcrossElements([\"red\", \"green\", \"blue\"])\n",
        "stimulus.fillcolors = GridPattern.MirrorAcrossRows([\"red\", \"green\", \"blue\"])\n",
        "stimulus.fillcolors = GridPattern.MirrorAcrossColumns([\"red\", \"green\", \"blue\"])\n",
        "stimulus.fillcolors = GridPattern.MirrorAcrossLeftDiagonal([\"red\", \"green\", \"blue\"])\n",
        "stimulus.fillcolors = GridPattern.MirrorAcrossRightDiagonal([\"red\", \"green\", \"blue\"])\n",
        "stimulus.fillcolors = GridPattern.MirrorAcrossLayers([\"red\", \"green\", \"blue\"])\n",
        "stimulus.Show()"
      ],
      "metadata": {
        "id": "DlcO_TdFuSm6"
      },
      "execution_count": null,
      "outputs": []
    },
    {
      "cell_type": "markdown",
      "source": [
        "### Gradient GridPattern"
      ],
      "metadata": {
        "id": "C_6MxwGlubNE"
      }
    },
    {
      "cell_type": "code",
      "source": [
        "stimulus = Grid(12,12, row_spacing = 16, col_spacing = 16)\n",
        "stimulus.boundingboxes = GridPattern.RepeatAcrossElements([(12,12)])\n",
        "\n",
        "stimulus.fillcolors = GridPattern.GradientAcrossElements(start_value = \"red\", end_value = \"green\")\n",
        "stimulus.fillcolors = GridPattern.GradientAcrossRows(start_value = \"red\", end_value = \"green\")\n",
        "stimulus.fillcolors = GridPattern.GradientAcrossColumns(start_value = \"red\", end_value = \"green\")\n",
        "stimulus.fillcolors = GridPattern.GradientAcrossLeftDiagonal(start_value = \"red\", end_value = \"green\")\n",
        "stimulus.fillcolors = GridPattern.GradientAcrossRightDiagonal(start_value = \"red\", end_value = \"green\")\n",
        "stimulus.fillcolors = GridPattern.GradientAcrossLayers(start_value = \"red\", end_value = \"green\")\n",
        "stimulus.Show()"
      ],
      "metadata": {
        "id": "wmAaANRruc4F"
      },
      "execution_count": null,
      "outputs": []
    },
    {
      "cell_type": "markdown",
      "source": [
        "### TiledElementGrid\n",
        "\n",
        "TiledElementGrid provides a way to create more complex patterns by multiplying each value in a pre-existing source grid (`source_grid`) a specified number of times (`tile_multiplier`) along both the row and column dimension. This function can thus be used to create a pattern with subgroups."
      ],
      "metadata": {
        "id": "81k2fLpOuhTl"
      }
    },
    {
      "cell_type": "code",
      "source": [
        "stimulus = Grid(12,12, row_spacing = 16, col_spacing = 16)\n",
        "stimulus.boundingboxes = GridPattern.RepeatAcrossElements([(12,12)])\n",
        "\n",
        "# stimulus.fillcolors = GridPattern.TiledElementGrid(source_grid = GridPattern.MirrorAcrossRightDiagonal([\"red\", \"green\", \"blue\"], 3, 3), tile_multiplier = 4)\n",
        "stimulus.fillcolors = GridPattern.TiledElementGrid(source_grid = GridPattern.GradientAcrossLeftDiagonal(start_value = \"red\", end_value = \"blue\", n_rows = 3, n_cols = 3), tile_multiplier = 4)\n",
        "# stimulus.fillcolors = GridPattern.TiledElementGrid(source_grid = GridPattern.GradientAcrossLayers(start_value = \"red\", end_value = \"blue\", n_rows = 4, n_cols = 4), tile_multiplier = 3)\n",
        "stimulus.Show()"
      ],
      "metadata": {
        "id": "ziJXMAY3uket"
      },
      "execution_count": null,
      "outputs": []
    },
    {
      "cell_type": "markdown",
      "source": [
        "### TiledGrid\n",
        "\n",
        "TiledGrid provides a way to create more complex patterns by multiplying a pre-existing source grid (`source_grid`) a specified number of times (`tile_multiplier`) along both the row and column dimension.\n",
        "\n"
      ],
      "metadata": {
        "id": "-C0HFTBEJUEP"
      }
    },
    {
      "cell_type": "code",
      "source": [
        "stimulus = Grid(12,12, row_spacing = 16, col_spacing = 16)\n",
        "stimulus.boundingboxes = GridPattern.RepeatAcrossElements([(12,12)])\n",
        "# source_grid = GridPattern.MirrorAcrossLeftDiagonal([\"red\", \"green\"], 2, 2)\n",
        "# stimulus.fillcolors = GridPattern.TiledGrid(source_grid, tile_multiplier = 6)\n",
        "\n",
        "source_grid = GridPattern.GradientAcrossLeftDiagonal(\"red\", \"blue\", 4, 4)\n",
        "stimulus.fillcolors = GridPattern.TiledGrid(source_grid, tile_multiplier = 3)\n",
        "\n",
        "# source_grid = GridPattern.ElementRepeatAcrossLayers([\"red\", \"green\", \"blue\"], 3, 3)\n",
        "# stimulus.fillcolors = GridPattern.TiledGrid(source_grid, tile_multiplier = 4)\n",
        "stimulus.Show()"
      ],
      "metadata": {
        "id": "7QPFLXajvBiW"
      },
      "execution_count": null,
      "outputs": []
    },
    {
      "cell_type": "markdown",
      "source": [
        "### RandomPattern\n",
        "\n",
        "By default, the number of times a value from the pattern will occur, is equal to when the pattern would be repeated until the required number of elements is reached. The `counts` argument can be used to change this default behavior."
      ],
      "metadata": {
        "id": "vifGu_S7vJ1D"
      }
    },
    {
      "cell_type": "code",
      "source": [
        "stimulus = Grid(12,12, row_spacing = 16, col_spacing = 16,\n",
        "                background_color = \"lightgrey\",\n",
        "                x_margin = (2,2), y_margin = (2,2))\n",
        "stimulus.boundingboxes = GridPattern.RepeatAcrossElements([(15,15)])\n",
        "stimulus.shapes = GridPattern.RepeatAcrossElements([Rectangle])\n",
        "\n",
        "colors_to_use = [\"black\", \"white\"]\n",
        "counts_to_use = [round(.40 * stimulus.n_elements), round(.60 * stimulus.n_elements)]\n",
        "# stimulus.fillcolors = GridPattern.RandomPattern([\"red\", \"green\", \"blue\"])\n",
        "stimulus.fillcolors = GridPattern.RandomPattern(colors_to_use, counts = counts_to_use)\n",
        "# stimulus.fillcolors = GridPattern.RandomPattern([\"red\", \"green\", \"blue\"], counts = [73,70,1])\n",
        "stimulus.Show()"
      ],
      "metadata": {
        "id": "u8O_cE3AvJRT"
      },
      "execution_count": null,
      "outputs": []
    },
    {
      "cell_type": "markdown",
      "source": [
        "## Basic Patterns\n",
        "\n",
        "Some basic pattern functions are available in OCTA. These can mainly come in useful when defining custom positions or when specifying complex patterns to feed to any of the GridPattern functions."
      ],
      "metadata": {
        "id": "1yLGw7c-xVA3"
      }
    },
    {
      "cell_type": "code",
      "source": [
        "p = Pattern([\"red\", \"green\", \"blue\"])\n",
        "print(p)"
      ],
      "metadata": {
        "id": "3qM2l7Hcxxs3"
      },
      "execution_count": null,
      "outputs": []
    },
    {
      "cell_type": "code",
      "source": [
        "q = p.RepeatElements(n_repeats = 2, max_elements = None)\n",
        "print(q)"
      ],
      "metadata": {
        "id": "_bBOLfkGxzfU"
      },
      "execution_count": null,
      "outputs": []
    },
    {
      "cell_type": "code",
      "source": [
        "r = p.RepeatPattern(n_repeats = 2, max_elements = None)\n",
        "print(r)"
      ],
      "metadata": {
        "id": "CZ2vuPTyx2EE"
      },
      "execution_count": null,
      "outputs": []
    },
    {
      "cell_type": "code",
      "source": [
        "s = p.RepeatElementsToSize(count = 5)\n",
        "print(s)"
      ],
      "metadata": {
        "id": "9of4lQMMx4bh"
      },
      "execution_count": null,
      "outputs": []
    },
    {
      "cell_type": "code",
      "source": [
        "t = p.RepeatPatternToSize(count = 5)\n",
        "print(t)"
      ],
      "metadata": {
        "id": "TA2YKO-kx6um"
      },
      "execution_count": null,
      "outputs": []
    },
    {
      "cell_type": "code",
      "source": [
        "u = p.RandomizeOrder()\n",
        "print(u)"
      ],
      "metadata": {
        "id": "cV8eVmTKx-5p"
      },
      "execution_count": null,
      "outputs": []
    },
    {
      "cell_type": "code",
      "source": [
        "p = Pattern([1,2,3])\n",
        "print(p)"
      ],
      "metadata": {
        "id": "qE5lZCxYx6sv"
      },
      "execution_count": null,
      "outputs": []
    },
    {
      "cell_type": "code",
      "source": [
        "q = p + p\n",
        "print(q)"
      ],
      "metadata": {
        "id": "7DuK2jxnyCEJ"
      },
      "execution_count": null,
      "outputs": []
    },
    {
      "cell_type": "code",
      "source": [
        "r = p.AddNormalJitter(mu = 0, std = 1)\n",
        "print(r)"
      ],
      "metadata": {
        "id": "Cl1qHeV4yECl"
      },
      "execution_count": null,
      "outputs": []
    },
    {
      "cell_type": "code",
      "source": [
        "s = p.AddUniformJitter(min_val = -.5, max_val = .5)\n",
        "print(s)"
      ],
      "metadata": {
        "id": "H3JZR6HNyGed"
      },
      "execution_count": null,
      "outputs": []
    },
    {
      "cell_type": "code",
      "source": [
        "p = Pattern.CreateGradientPattern(start_value = \"red\", end_value = \"green\", n_elements = 3)\n",
        "print(p)"
      ],
      "metadata": {
        "id": "JXMkHZubyIPx"
      },
      "execution_count": null,
      "outputs": []
    },
    {
      "cell_type": "code",
      "source": [
        "p = Pattern.CreateGradientPattern(start_value = (10,5), end_value = (10,10), n_elements = 3)\n",
        "print(p)"
      ],
      "metadata": {
        "id": "s1aNiKxUyKna"
      },
      "execution_count": null,
      "outputs": []
    },
    {
      "cell_type": "code",
      "source": [
        "q = Pattern.Create2DGradient(x = Sequence(start = 5, step = 5), y = Sequence(start = 5, step = 5), n_elements = 5)\n",
        "print(q)"
      ],
      "metadata": {
        "id": "uvIrE1qwyLrL"
      },
      "execution_count": null,
      "outputs": []
    },
    {
      "cell_type": "code",
      "source": [
        "q = Pattern.Create2DGradient(x = LinearGradient(start = 50, end = 5, n_elements = 5), y = Sequence(start = 5, step = 5), n_elements = 5)\n",
        "print(q)"
      ],
      "metadata": {
        "id": "m51_ghpZyQRU"
      },
      "execution_count": null,
      "outputs": []
    },
    {
      "cell_type": "markdown",
      "source": [
        "## Feature values\n"
      ],
      "metadata": {
        "id": "FC19NFvtydkH"
      }
    },
    {
      "cell_type": "markdown",
      "source": [
        "\n",
        "### Shapes\n",
        "\n",
        "Available element shape types are geometric shapes, i.e., `Ellipse`, `Triangle`, `Rectangle`, `Polygon(n_sides)`, `RegularPolygon(n_sides)`; more complex path elements4 based on a provided path string or an existing svg file, i.e., `Path(path, xsizepath, ysizepath)`, `PathSvg(src)`; images based on a provided filename or source url, i.e., `Image(src)`, `FitImage(src)`; and text elements, i.e., `Text(text)`.\n",
        "\n",
        "!!! Keep in mind that for the order and complexity measurements, the shapes argument only takes the shape type into account and does not distinguish between different polygons, different paths, different images, or different texts.\n",
        "\n",
        "Currently no built-in animation options are available for the shape characteristic, but it is possible to include dynamic image files (e.g., dynamic svg or gif file) as shape values in the stimulus."
      ],
      "metadata": {
        "id": "Mi7fltaL_iiu"
      }
    },
    {
      "cell_type": "markdown",
      "source": [
        "Please download following images and add them to this notebook folder for the code chunk below to work:\n",
        "\n",
        "- https://elinevg.github.io/OCTA_manual/img/gears.svg\n",
        "- https://elinevg.github.io/OCTA_manual/img/checkmark.svg"
      ],
      "metadata": {
        "id": "n92Qg6mEzGnU"
      }
    },
    {
      "cell_type": "code",
      "source": [
        "stimulus = Grid(1,10)\n",
        "stimulus.shapes = GridPattern.RepeatAcrossElements([Ellipse, Triangle, Rectangle,\n",
        "                                                    Polygon(6), RegularPolygon(6),\n",
        "                                                    Image(\"gears.svg\"), FitImage(\"gears.svg\"),\n",
        "                                                    Path(\"M37.5,186c-12.1-10.5-11.8-32.3-7.2-46.7c4.8-15,13.1-17.8,30.1-36.7C91,68.8,83.5,56.7,103.4,45 c22.2-13.1,51.1-9.5,69.6-1.6c18.1,7.8,15.7,15.3,43.3,33.2c28.8,18.8,37.2,14.3,46.7,27.9c15.6,22.3,6.4,53.3,4.4,60.2 c-3.3,11.2-7.1,23.9-18.5,32c-16.3,11.5-29.5,0.7-48.6,11c-16.2,8.7-12.6,19.7-28.2,33.2c-22.7,19.7-63.8,25.7-79.9,9.7 c-15.2-15.1,0.3-41.7-16.6-54.9C63,186,49.7,196.7,37.5,186z\", 288,288),\n",
        "                                                    PathSvg(\"checkmark.svg\"), Text(\"O\")])\n",
        "stimulus.Show()"
      ],
      "metadata": {
        "id": "KIBFoZIDy52P"
      },
      "execution_count": null,
      "outputs": []
    },
    {
      "cell_type": "markdown",
      "source": [
        "### Boundingboxes\n",
        "\n",
        "Boundingboxes are always rectangular but do not have to be squared. Boundingbox values are defined in user units and can be provided as follows: `(xsize, ysize)`. Although currently no built-in animation options are available for the boundingbox characteristic, it is possible to either generate separate stimuli and combine them in time afterwards, or to include dynamic image files (e.g., dynamic svg or gif file with shape changing in size) as shape values in the stimulus."
      ],
      "metadata": {
        "id": "CHlU-jrizsKo"
      }
    },
    {
      "cell_type": "code",
      "source": [
        "stimulus = Grid(1,3)\n",
        "stimulus.boundingboxes = GridPattern.RepeatAcrossElements([(45,45), (10,45), (45,10)])\n",
        "stimulus.Show()"
      ],
      "metadata": {
        "id": "h6Q-Omd_z0St"
      },
      "execution_count": null,
      "outputs": []
    },
    {
      "cell_type": "code",
      "source": [
        "stimulus = Grid(6,6, row_spacing=50, col_spacing=50)\n",
        "stimulus.shapes = GridPattern.RepeatAcrossElements([Rectangle])\n",
        "\n",
        "stimulus.boundingboxes = GridPattern.RepeatAcrossLeftDiagonal(Pattern.Create2DGradient(x = Sequence(start = 10, step = 5), y = Sequence(start = 50, step = -5), n_elements = 12))\n",
        "stimulus.Show()"
      ],
      "metadata": {
        "id": "A_PM-2bMz9XW"
      },
      "execution_count": null,
      "outputs": []
    },
    {
      "cell_type": "code",
      "source": [
        "stimulus = Grid(6,6, row_spacing=50, col_spacing=50)\n",
        "stimulus.shapes = GridPattern.RepeatAcrossElements([Rectangle])\n",
        "\n",
        "stimulus.boundingboxes = GridPattern.RepeatAcrossElements(Pattern.Create2DGradient(x = LinearGradient(start = 5, end = 50, n_elements = 36, invert = True), y = LinearGradient(start = 5, end = 50, n_elements = 36, invert = True), n_elements = 36))\n",
        "stimulus.Show()"
      ],
      "metadata": {
        "id": "Go6KZuTT0GZ-"
      },
      "execution_count": null,
      "outputs": []
    },
    {
      "cell_type": "markdown",
      "source": [
        "### Fillcolors\n",
        "\n",
        "Besides static uniform colors defined based on their hexadecimal color code or color name, the user can specify a radial or linear color gradient with multiple colorvalues (i.e., radial, horizontal, vertical, diagonal) or dynamic fillcolors by setting a new color (i.e., ‘set’ ) when a certain action occurs (e.g., when the element is clicked) or by animating the color value (i.e., ‘animate’)."
      ],
      "metadata": {
        "id": "Mr16qZCW0J5r"
      }
    },
    {
      "cell_type": "code",
      "source": [
        "stimulus = Grid(1,9)\n",
        "stimulus.fillcolors = GridPattern.RepeatAcrossElements([\n",
        "\"blue\",\n",
        "\"#d3d3d3\",\n",
        "[\"radial\", \"white\", \"red\"],\n",
        "[\"horizontal\", \"red\", \"orange\", \"green\", \"blue\", \"indigo\", \"violet\"],\n",
        "[\"vertical\", \"green\", \"white\", \"green\"],\n",
        "[\"diagonal\", \"red\", \"white\"],\n",
        "['set', \"orange\", 'to = \"purple\", begin = \"click\", dur = \"2s\"'],\n",
        "['animate', \"red\", 'values = \"red;orange;green;blue;indigo;violet;red\", begin = \"2s\", calcMode = \"linear\", dur = \"10s\", repeatCount = \"indefinite\"'],\n",
        "['animate', \"red\", 'values = \"red;orange;green;blue;indigo;violet;red\", begin = \"2s\", calcMode = \"discrete\", dur = \"10s\", repeatCount = \"indefinite\"']\n",
        "])\n",
        "\n",
        "stimulus.Show()"
      ],
      "metadata": {
        "id": "EkVJaFm50OVI"
      },
      "execution_count": null,
      "outputs": []
    },
    {
      "cell_type": "markdown",
      "source": [
        "### Orientations\n",
        "\n",
        "Orientations are defined in degrees. Besides static orientation values, dynamic definition of orientations is possible (i.e., ‘set’ or ‘animate’)."
      ],
      "metadata": {
        "id": "CUlnmLGL0VmQ"
      }
    },
    {
      "cell_type": "code",
      "source": [
        "stimulus = Grid(1,4)\n",
        "stimulus.orientations = GridPattern.RepeatAcrossElements([\n",
        "    0,\n",
        "    30,\n",
        "    ['animate', '0', '360', \"begin = 'click', dur='4s', additive='sum'\"],\n",
        "    ['animate', '0', '360', \"dur='4s', repeatCount='indefinite'\"]\n",
        "])\n",
        "stimulus.Show()"
      ],
      "metadata": {
        "id": "hO92LMxE0VTo"
      },
      "execution_count": null,
      "outputs": []
    },
    {
      "cell_type": "markdown",
      "source": [
        "### Borderwidths\n",
        "\n",
        "Borderwidths are defined in user units. Besides static borderwidth values, dynamic definition of borderwidths is possible (i.e., ‘set’ or ‘animate’). Borderwidths are not taken into account when a shape is fit to a particular boundingbox value, which means that only half of the borderwidth will fall within the specified boundingbox. Keep in mind that the default bordercolor is transparent, so bordercolor needs to be set for the borderwidth value to have a visible effect. In addition, borderwidths are not visible for image elements and may behave unexpectedly for path elements."
      ],
      "metadata": {
        "id": "kcDtgbZg0fjP"
      }
    },
    {
      "cell_type": "code",
      "source": [
        "stimulus = Grid(1,5)\n",
        "stimulus.bordercolors = GridPattern.RepeatAcrossElements([\"black\"])\n",
        "stimulus.borderwidths = GridPattern.RepeatAcrossElements([\n",
        "    0,\n",
        "    5,\n",
        "    ['set', 0, 'to = 15, begin = \"click\", dur = \"2s\"'],\n",
        "    ['animate', 15, 'values = \"10;8;6;4;2;0\", begin = \"2s\", calcMode = \"linear\", dur = \"10s\", repeatCount = \"indefinite\"'],\n",
        "    ['animate', 15, 'values = \"10;8;6;4;2;0\", begin = \"2s\", calcMode = \"discrete\", dur = \"10s\", repeatCount = \"indefinite\"']\n",
        "])\n",
        "stimulus.Show()"
      ],
      "metadata": {
        "id": "AKFbcCLa0jz7"
      },
      "execution_count": null,
      "outputs": []
    },
    {
      "cell_type": "markdown",
      "source": [
        "### Bordercolors\n",
        "\n",
        "Besides static uniform bordercolors defined based on their hexadecimal color code or color name, the user can specify a radial or linear color gradient with multiple bordercolor values (i.e., radial, horizontal, vertical, diagonal) or dynamic bordercolors by setting a new color (i.e., ‘set’ ) when a certain action occurs (e.g., when the element is clicked) or by animating the color value (i.e., ‘animate’). Keep in mind that the default borderwidth is zero, so borderwidth needs to be set for the bordercolor values to have a visible effect."
      ],
      "metadata": {
        "id": "csLaKIsN0tcH"
      }
    },
    {
      "cell_type": "code",
      "source": [
        "stimulus = Grid(1,9, col_spacing = 60)\n",
        "stimulus.borderwidths = GridPattern.RepeatAcrossElements([10])\n",
        "stimulus.bordercolors = GridPattern.RepeatAcrossElements([\n",
        "\"blue\",\n",
        "\"#d3d3d3\",\n",
        "[\"radial\", \"white\", \"red\"],\n",
        "[\"horizontal\", \"red\", \"orange\", \"green\", \"blue\", \"indigo\", \"violet\"],\n",
        "[\"vertical\", \"green\", \"white\", \"green\"],\n",
        "[\"diagonal\", \"red\", \"white\"],\n",
        "['set', \"orange\", 'to = \"purple\", begin = \"click\", dur = \"2s\"'],\n",
        "['animate', \"red\", 'values = \"red;orange;green;blue;indigo;violet;red\", begin = \"2s\", calcMode = \"linear\", dur = \"10s\", repeatCount = \"indefinite\"'],\n",
        "['animate', \"red\", 'values = \"red;orange;green;blue;indigo;violet;red\", begin = \"2s\", calcMode = \"discrete\", dur = \"10s\", repeatCount = \"indefinite\"']\n",
        "])\n",
        "stimulus.Show()"
      ],
      "metadata": {
        "id": "HFOCj9ff0xii"
      },
      "execution_count": null,
      "outputs": []
    },
    {
      "cell_type": "markdown",
      "source": [
        "### Opacities\n",
        "\n",
        "Opacities are defined between 0 (no opacity) and 1 (full opacity). Besides static values, dynamic definition of opacities is possible (i.e., ‘set’ or ‘animate’)."
      ],
      "metadata": {
        "id": "80ujbt9p02LU"
      }
    },
    {
      "cell_type": "code",
      "source": [
        "stimulus = Grid(1,8)\n",
        "stimulus.opacities = GridPattern.RepeatAcrossElements([\n",
        "    0.05,0.25,0.5,0.75,1,\n",
        "    ['set', 0.05, 'to = 1, begin = \"click\", dur = \"2s\"'],\n",
        "    ['animate', 1, 'values = \".8;.6;.4;.2;0;.2;.4;.6;.8;1\", begin = \"2s\", calcMode = \"linear\", dur = \"10s\", repeatCount = \"indefinite\"'],\n",
        "    ['animate', 1, 'values = \".8;.6;.4;.2;0;.2;.4;.6;.8;1\", begin = \"2s\", calcMode = \"discrete\", dur = \"10s\", repeatCount = \"indefinite\"']\n",
        "])\n",
        "stimulus.Show()"
      ],
      "metadata": {
        "id": "pjBKvzcr08xp"
      },
      "execution_count": null,
      "outputs": []
    },
    {
      "cell_type": "markdown",
      "source": [
        "### Mirrorvalues\n",
        "\n",
        "As element shapes can be mirrored along the horizontal and/or vertical axis, or not be mirrored, this element characteristic can take any of four different values: ‘none’, ‘horizontal’, ‘vertical’, ‘horizontalvertical’. Currently no built-in animation options are available for the mirrorvalue characteristic, but it is possible to either generate separate stimuli and combine them afterwards, or to include dynamic image files (e.g., dynamic svg or gif file with shape changing in mirrovalue) as shape values in the stimulus.\n"
      ],
      "metadata": {
        "id": "DUbLKfpR1Bpq"
      }
    },
    {
      "cell_type": "code",
      "source": [
        "stimulus = Grid(1,4)\n",
        "stimulus.shapes = GridPattern.RepeatAcrossElements([PathSvg(\"checkmark.svg\")])\n",
        "stimulus.mirrorvalues = GridPattern.RepeatAcrossElements([\"none\", \"horizontal\", \"vertical\", \"horizontalvertical\"])\n",
        "\n",
        "stimulus.Show()"
      ],
      "metadata": {
        "id": "IpZ3cAQa1JuF"
      },
      "execution_count": null,
      "outputs": []
    },
    {
      "cell_type": "markdown",
      "source": [
        "### Links\n",
        "\n",
        "A custom hyperlink can be added to every element in the stimulus. This entails that a hand cursor will be shown when the viewer hovers over that specific element, and the hyperlink will be opened when the element is clicked.\n"
      ],
      "metadata": {
        "id": "qO1kr1TY1mOZ"
      }
    },
    {
      "cell_type": "code",
      "source": [
        "stimulus = Grid(1,2)\n",
        "stimulus.links = GridPattern.RepeatAcrossElements([\"\", \"https://elinevg.shinyapps.io/OCTA_toolbox/\"])\n",
        "stimulus.Show()"
      ],
      "metadata": {
        "id": "Y-00wX8g1qHw"
      },
      "execution_count": null,
      "outputs": []
    },
    {
      "cell_type": "markdown",
      "source": [
        "### Class labels and id labels\n",
        "\n",
        "Although classlabels and idlabels do not have a directly visible effect on the resulting element, they can be used to add additional javascript actions or css style changes to individual elements (using the idlabel) or to a group of elements (i.e., all elements with the same classlabel). This method can for example be used to add sounds when hovering over an element or when an element is clicked."
      ],
      "metadata": {
        "id": "huECgvph139e"
      }
    },
    {
      "cell_type": "code",
      "source": [
        "stimulus = Grid(1,4)\n",
        "stimulus.idlabels = GridPattern.RepeatAcrossElements([\"first\", \"second\", \"third\", \"last\"])\n",
        "stimulus.classlabels = GridPattern.RepeatAcrossElements([\"left\", \"left\", \"right\", \"right\"])\n",
        "stimulus.Show()"
      ],
      "metadata": {
        "id": "Wkxulukc2Auh"
      },
      "execution_count": null,
      "outputs": []
    },
    {
      "cell_type": "markdown",
      "source": [
        "### Data\n",
        "\n",
        "Data is a hidden element characteristic not used for direct user interaction. It stores the additional arguments given to any of the shapes (e.g., the number of sides for Polygon objects, the source argument for Image objects). This element characteristic may become important when calculating order and complexity measures within the OCTA toolbox, to distinguish between polygons with a different number of sides, different path definitions, different text elements, or images with different sources."
      ],
      "metadata": {
        "id": "gdFrwshA2K-l"
      }
    },
    {
      "cell_type": "markdown",
      "source": [
        "# BASICS: Deviations\n",
        "\n",
        "Once all element feature patterns are specified as desired, the user can add position, element, or feature deviations to decrease the order and/or increase the complexity of the stimulus. Although most of these deviation types affect both objective order and objective complexity, some manipulations specifically target either order or complexity. Position, element, and feature deviations are saved separately from the original patterns used to create the stimulus. If multiple deviations are added, later deviations could overwrite earlier deviations if they concern the same position, element or element characteristic."
      ],
      "metadata": {
        "id": "hY4EL5XO2ZpL"
      }
    },
    {
      "cell_type": "markdown",
      "source": [
        "## Positions deviations\n",
        "\n",
        "Random jitter or specified deviations can be added to the element positions. Although the impact of position deviations is dependent on the specific deviations added as well as the position pattern used as starting point, they generally increase objectivecomplexity in the positions used in the stimulus. Element or feature complexity stays unchanged when deviating position only. Whether the position deviations influence objective order in positions, elements, or features depends on the specific deviation. Random jitter or structured deviations can be added to the element positions. For normally distributed or uniformly distributed jitter across all elements, the `SetPositionJitter` function can be used. One can specify whether the jitter needs to be applied to the x coordinates (‘x’), y coordinates (‘y’), or both (‘xy’ for independent or ‘x=y’ for equal jitter on both axes) using the `axis` argument. In the case of uniformly distributed jitter, the user specifies the minimum (`min_val`) and the maximum value (`max_val`). In the case of normally distributed jitter, the user specifies the mean (`mu`) and standard deviation (`std`). Default values for axis, distribution, min_val, max_val, mu, and std are ‘xy,’ ‘normal,’ -1, 1, 0, and 1 respectively. To add specific position deviations, the user specifies the element ids (starting from 0 until n_elements - 1), x offsets and/or y offsets for each of the elements to which a deviation relative to the predetermined position needs to be added. Element id needs to be given an integer value or a list of integer values. X and Y offsets can be numeric values or a list of numeric values."
      ],
      "metadata": {
        "id": "CzVVA71I2rZV"
      }
    },
    {
      "cell_type": "code",
      "source": [
        "stimulus = Grid(3,3, background_color=\"whitesmoke\")\n",
        "stimulus.positions = stimulus.positions.SetPositionJitter(distribution = \"uniform\", axis = 'y', min_val = -10, max_val = 10)\n",
        "stimulus.Show()"
      ],
      "metadata": {
        "id": "6_vdY7HD2__r"
      },
      "execution_count": null,
      "outputs": []
    },
    {
      "cell_type": "code",
      "source": [
        "stimulus = Grid(3,3, background_color=\"whitesmoke\")\n",
        "stimulus.positions = stimulus.positions.SetPositionJitter(distribution = \"normal\", axis = 'xy', mu = 0, std = 10)\n",
        "stimulus.Show()"
      ],
      "metadata": {
        "id": "bT_NFpWj3FI6"
      },
      "execution_count": null,
      "outputs": []
    },
    {
      "cell_type": "markdown",
      "source": [
        "## Element deviations\n",
        "\n",
        "To add element deviations, it is possible to remove a set of random or specified elements from the display, to swap the positions of distinct elements, or to randomize the order of all elements in a particular direction. Bringing an additional element into the pattern is possible as well, but requires the user to add an additional element in the stimulus definition and in the definition of the stimulus positions. Swapping or randomizing the position of distinct elements in the display decreases objective element order, but leaves objective position, element, or feature complexity unchanged. If also non-distinct elements would be swapped or randomized, the objective element order may stay unchanged. Removing elements does complicate the position pattern and potentially reduces element or feature complexity, but more generally also decreases element and feature order."
      ],
      "metadata": {
        "id": "Uxc9x1aP3IJt"
      }
    },
    {
      "cell_type": "markdown",
      "source": [
        "#### Remove elements\n",
        "\n",
        "You can remove a defined number of elements, or remove a specific elements.\n",
        "\n"
      ],
      "metadata": {
        "id": "0b5L4BsG3NP1"
      }
    },
    {
      "cell_type": "markdown",
      "source": [
        "\n",
        "##### Remove a defined number of elements"
      ],
      "metadata": {
        "id": "BVaymFfc_bwm"
      }
    },
    {
      "cell_type": "code",
      "source": [
        "stimulus = Grid(6,6)\n",
        "stimulus.remove_elements(2)\n",
        "stimulus.Show()"
      ],
      "metadata": {
        "id": "FqksqeqW3T9P"
      },
      "execution_count": null,
      "outputs": []
    },
    {
      "cell_type": "markdown",
      "source": [
        "##### Remove a specific element"
      ],
      "metadata": {
        "id": "5yXbJEAp3XoH"
      }
    },
    {
      "cell_type": "code",
      "source": [
        "stimulus = Grid(6,6)\n",
        "stimulus.remove_element(1)\n",
        "stimulus.remove_element([5,0])\n",
        "stimulus.Show()"
      ],
      "metadata": {
        "id": "KHpOp7wN3azp"
      },
      "execution_count": null,
      "outputs": []
    },
    {
      "cell_type": "markdown",
      "source": [
        "#### Swap positions of (distinct) elements"
      ],
      "metadata": {
        "id": "D6i0oIFX3hAR"
      }
    },
    {
      "cell_type": "code",
      "source": [
        "stimulus = Grid(6,6)\n",
        "stimulus.shapes = GridPattern.ElementRepeatAcrossRows([Triangle, Rectangle, Ellipse])\n",
        "stimulus.fillcolors = GridPattern.ElementRepeatAcrossRows([\"red\", \"green\", \"blue\"])\n",
        "\n",
        "stimulus.swap_distinct_elements(n_swap_pairs = 2, distinction_features=[\"fillcolors\", \"shapes\"])\n",
        "stimulus.Show()"
      ],
      "metadata": {
        "id": "XH50sX5X3pY-"
      },
      "execution_count": null,
      "outputs": []
    },
    {
      "cell_type": "code",
      "source": [
        "stimulus = Grid(6,6)\n",
        "stimulus.fillcolors = GridPattern.ElementRepeatAcrossRows([\"red\", \"green\", \"blue\"])\n",
        "\n",
        "stimulus.swap_elements(n_swap_pairs = 2)\n",
        "stimulus.Show()"
      ],
      "metadata": {
        "id": "m0ZDAEY33ut0"
      },
      "execution_count": null,
      "outputs": []
    },
    {
      "cell_type": "markdown",
      "source": [
        "#### Randomize positions of elements"
      ],
      "metadata": {
        "id": "LQW1jVkd32c9"
      }
    },
    {
      "cell_type": "code",
      "source": [
        "stimulus = Grid(6,6)\n",
        "stimulus.shapes = GridPattern.ElementRepeatAcrossRows([Triangle, Rectangle, Ellipse])\n",
        "stimulus.fillcolors = GridPattern.ElementRepeatAcrossRows([\"red\", \"green\", \"blue\"])\n",
        "stimulus.Show()\n",
        "\n",
        "stimulus.randomize_elements(direction = \"AcrossElements\")\n",
        "stimulus.Show()"
      ],
      "metadata": {
        "id": "-kIxjBMI35Xt"
      },
      "execution_count": null,
      "outputs": []
    },
    {
      "cell_type": "code",
      "source": [
        "stimulus = Grid(6,6)\n",
        "stimulus.shapes = GridPattern.ElementRepeatAcrossRows([Triangle, Rectangle, Ellipse])\n",
        "stimulus.fillcolors = GridPattern.ElementRepeatAcrossRows([\"red\", \"green\", \"blue\"])\n",
        "stimulus.Show()\n",
        "\n",
        "stimulus.randomize_elements(direction = \"AcrossRows\")\n",
        "stimulus.Show()"
      ],
      "metadata": {
        "id": "fBZ1-ANm4C88"
      },
      "execution_count": null,
      "outputs": []
    },
    {
      "cell_type": "markdown",
      "source": [
        "## Feature deviations\n",
        "\n",
        "To add feature deviations in the stimulus, it is possible to change a feature value for a number of random or specified elements, to swap the feature values for a number of random pairs of (distinct) elements in the display, to randomize the order of all feature values in a particular direction, or to jitter any of the numeric feature values across all elements. Swapping or randomizing the position of distinct feature values in the display decreases objective order for the feature dimensions involved, but also increases objective element complexity. Changing a feature value to a value that is not yet in the pattern values for that feature or jittering numeric feature values will additionally increase objective feature complexity. An advantage of adding feature deviations can be that order is distorted on one feature dimension specifically but preserved for other feature dimensions (contrary to what is the case with element deviations)."
      ],
      "metadata": {
        "id": "cmLLU7784HUc"
      }
    },
    {
      "cell_type": "code",
      "source": [
        "stimulus = Grid(6,6)\n",
        "stimulus.fillcolors = GridPattern.ElementRepeatAcrossRows([\"red\", \"green\", \"blue\"])\n",
        "stimulus.Show()"
      ],
      "metadata": {
        "id": "5fVf7wP44XND"
      },
      "execution_count": null,
      "outputs": []
    },
    {
      "cell_type": "markdown",
      "source": [
        "### Change the value of an element feature for a specific element"
      ],
      "metadata": {
        "id": "_Wug2HKb4dI_"
      }
    },
    {
      "cell_type": "code",
      "source": [
        "stimulus = Grid(6,6)\n",
        "stimulus.fillcolors = GridPattern.ElementRepeatAcrossRows([\"red\", \"green\", \"blue\"])\n",
        "\n",
        "stimulus.set_element_fillcolor(2, \"yellow\")\n",
        "stimulus.set_element_fillcolor([3,2], ['animate', \"red\", 'values = \"red;orange;green;blue;indigo;violet;red\", begin = \"2s\", calcMode = \"linear\", dur = \"10s\", repeatCount = \"indefinite\"'])\n",
        "stimulus.Show()"
      ],
      "metadata": {
        "id": "KfuhwMQK4gxk"
      },
      "execution_count": null,
      "outputs": []
    },
    {
      "cell_type": "markdown",
      "source": [
        "### Swap positions of distinct features"
      ],
      "metadata": {
        "id": "HZgKRIDk4nbR"
      }
    },
    {
      "cell_type": "code",
      "source": [
        "stimulus = Grid(6,6)\n",
        "stimulus.shapes = GridPattern.ElementRepeatAcrossRows([Triangle, Rectangle, Ellipse])\n",
        "stimulus.fillcolors = GridPattern.ElementRepeatAcrossRows([\"red\", \"green\", \"blue\"])\n",
        "\n",
        "stimulus.swap_distinct_features(n_swap_pairs = 2, feature_dimensions = ['fillcolors'])\n",
        "stimulus.Show()"
      ],
      "metadata": {
        "id": "w7Z7N9Po4qTN"
      },
      "execution_count": null,
      "outputs": []
    },
    {
      "cell_type": "markdown",
      "source": [
        "### Randomization of feature values in the final pattern"
      ],
      "metadata": {
        "id": "bwu8jzZ77WHY"
      }
    },
    {
      "cell_type": "code",
      "source": [
        "stimulus = Grid(6,6)\n",
        "stimulus.shapes = GridPattern.RepeatAcrossElements([Ellipse])\n",
        "stimulus.boundingboxes = GridPattern.RepeatAcrossElements([(25,45), (35,45),(25,45), (35,45),(25,45), (35,45),\n",
        "                                                                  (45,35), (45,25), (45,35), (45,25), (45,35), (45,25)])\n",
        "stimulus.fillcolors = GridPattern.RepeatAcrossElements([\"red\", \"orange\",\"red\", \"orange\",\"red\", \"orange\",\n",
        "                                                        \"green\", \"blue\",\"green\", \"blue\",\"green\", \"blue\" ])\n",
        "stimulus.Show()\n",
        "\n",
        "stimulus.boundingboxes = stimulus._boundingboxes.RandomizeAcrossColumns()\n",
        "stimulus.fillcolors = stimulus._fillcolors.RandomizeAcrossColumns()\n",
        "stimulus.Show()"
      ],
      "metadata": {
        "id": "VRn-1cdZ7W3b"
      },
      "execution_count": null,
      "outputs": []
    },
    {
      "cell_type": "markdown",
      "source": [
        "### Jitter of numeric features\n",
        "\n",
        "If desired, add random jitter or structured deviations to the numeric element characteristics like size or orientation."
      ],
      "metadata": {
        "id": "UHu5Jtwd4z0s"
      }
    },
    {
      "cell_type": "code",
      "source": [
        "stimulus = Grid(6,6)\n",
        "stimulus.shapes = GridPattern.RepeatAcrossElements([Ellipse])\n",
        "stimulus.boundingboxes = GridPattern.RepeatAcrossElements([(25,45)]).AddUniformJitter(min_val = -10, max_val = 10)\n",
        "# stimulus.boundingboxes = stimulus._boundingboxes.AddUniformJitter(min_val = -10, max_val = 10)\n",
        "\n",
        "stimulus.orientations = GridPattern.RepeatAcrossElements([30]).AddNormalJitter(mu = 0, std = 10)\n",
        "# stimulus.orientations = stimulus._orientations.AddNormalJitter(mu = 0, std = 10)\n",
        "stimulus.Show()"
      ],
      "metadata": {
        "id": "jfygJ4tM4_97"
      },
      "execution_count": null,
      "outputs": []
    },
    {
      "cell_type": "markdown",
      "source": [
        "# BASICS: Order and complexity measures and manipulations\n",
        "\n",
        "Although deviations are one way to increase or decrease different types of order and complexity in the stimulus, other approaches are possible too."
      ],
      "metadata": {
        "id": "hHbf6FmO9CAT"
      }
    },
    {
      "cell_type": "markdown",
      "source": [
        "## Order manipulations\n",
        "\n",
        "Position order can be changed qualitatively by changing the type of position pattern. Element (and feature) order can be changed qualitatively by changing the different element feature pattern types and directions. Be aware that some feature pattern changes may also impact element complexity because of emerging (non-)congruence between different feature patterns.\n",
        "\n",
        "To induce quantitative changes in order, the user can swap the positions of distinct elements or randomize the elements in the stimulus (which keep element complexity level constant), or add any other element or feature deviations (but these other deviations may influence element or feature complexity as well; cf. Deviations). The user can also make stimulus features and element features (in)congruent to impact the order level of the stimulus. In addition, the congruence of patterns, pattern types, or pattern directions across feature dimensions can be adapted. Keep in mind that changes in pattern congruence may influence element complexity simultaneously."
      ],
      "metadata": {
        "id": "FKCtk07L9JmO"
      }
    },
    {
      "cell_type": "markdown",
      "source": [
        "## Complexity manipulations\n",
        "\n",
        "Qualitative changes in complexity can be achieved by changing the feature dimension on which the complexity is present (e.g., shape, color, or size complexity). Quantitative element complexity changes can include (a) changing the number of visible elements present in the stimulus (i.e., by removing elements or by changing the position pattern of the stimulus); (b) manipulating the variety of elements (i.e., by including more pattern values on a feature dimension, by choosing more diverse pattern values, by adding feature deviations, or by changing the congruence of patterns across feature dimensions); (c) changing the complexity (familiarity, unintellegibility, etc.) of individual feature pattern values (e.g., use complex path shape instead of rectangles); or (d) changing the complexity of individual stimulus features. Position complexity can be changed quantitatively by adding random position jitter or structured position deviations (cf. Position deviations)."
      ],
      "metadata": {
        "id": "4Ed4JXCy9NmT"
      }
    },
    {
      "cell_type": "markdown",
      "source": [
        "## Order measurements\n",
        "\n",
        "OCTA provides some basic functionality to measure aspects of order and complexity in the created stimulus. For order, the user can request the applied patterns, pattern types, and pattern directions across all feature dimensions; check whether all specified feature dimensions have congruent patterns, pattern types, or pattern directions; calculate how many specified feature dimensions have congruent patterns, pattern types, or pattern directions; calculate the number of deviant elements are present given the specified feature dimensions (e.g., by added element or feature deviations); and calculate the number of deviant positions are present in the stimulus (i.e., by added position jitter or specified position deviations)."
      ],
      "metadata": {
        "id": "cV1qdqYS9SBD"
      }
    },
    {
      "cell_type": "markdown",
      "source": [
        "## Complexity measurements\n",
        "\n",
        "When it comes to complexity measures, it is possible to calculate (a) the number of elements present in the display (N); (b) how many different types of elements are present in the display based on the feature dimensions specified (LOCE); (c) how many different features are present across all feature dimensions (LOC); and (d) how many different feature dimensions have more than one feature value (i.e., have non-identical values; LOCI)."
      ],
      "metadata": {
        "id": "11DubaR_9VXp"
      }
    },
    {
      "cell_type": "code",
      "source": [
        "stimulus = Grid(5,5)\n",
        "stimulus.shapes = GridPattern.RepeatAcrossElements([Rectangle, Ellipse, Triangle])\n",
        "stimulus.fillcolors = GridPattern.RepeatAcrossElements([\"red\", \"green\", \"blue\"])\n",
        "stimulus.Show()"
      ],
      "metadata": {
        "id": "ow9DZnXO9GbP"
      },
      "execution_count": null,
      "outputs": []
    },
    {
      "cell_type": "markdown",
      "source": [
        "### LOCE"
      ],
      "metadata": {
        "id": "kphWM4FB9h2L"
      }
    },
    {
      "cell_type": "code",
      "source": [
        "Complexity.CalculateElementsLOCE(stimulus, distinction_features = ['shapes', 'fillcolors', 'boundingboxes', 'data'])"
      ],
      "metadata": {
        "id": "Q_yPJ8Ef9lQS"
      },
      "execution_count": null,
      "outputs": []
    },
    {
      "cell_type": "markdown",
      "source": [
        "### LOC"
      ],
      "metadata": {
        "id": "qXpizOfl9qde"
      }
    },
    {
      "cell_type": "code",
      "source": [
        "Complexity.CalculateElementsLOC(stimulus, distinction_features = ['shapes', 'fillcolors', 'boundingboxes', 'data'])"
      ],
      "metadata": {
        "id": "8iY6qGx19vXq"
      },
      "execution_count": null,
      "outputs": []
    },
    {
      "cell_type": "markdown",
      "source": [
        "### LOCI"
      ],
      "metadata": {
        "id": "Eq-69-1R9xP5"
      }
    },
    {
      "cell_type": "code",
      "source": [
        "Complexity.CalculateElementsLOCI(stimulus, distinction_features = ['shapes', 'fillcolors', 'boundingboxes', 'data'])"
      ],
      "metadata": {
        "id": "DxUapvpu9zfp"
      },
      "execution_count": null,
      "outputs": []
    },
    {
      "cell_type": "markdown",
      "source": [
        "# BASICS: Output options\n",
        "\n",
        "Finally, the user can save the resulting stimulus in the preferred format: as a vector-based image (SVG), as a raster-based image (PNG, JPG, PDF, or TIFF), or as a computer-readable file (JSON). The SVG format is recommended for online use, as it has the same quality at all viewing sizes and keeps the possibility for animated element and stimulus features. For raster-based image output, a scale value can be added to increase the quality when starting from a very small stimulus that would otherwise have pixel artefacts. The JSON output can be used to recreate the stimulus in Python using the OCTA toolbox without the original code (using the LoadFromJSON function). 2 In the Shiny app, the user can also view or download the Python code needed to reproduce the current stimulus with the OCTA toolbox in Python."
      ],
      "metadata": {
        "id": "27zN9aTt92tk"
      }
    },
    {
      "cell_type": "code",
      "source": [
        "stimulus = Grid(5,5)\n",
        "stimulus.Show()\n",
        "\n",
        "stimulus.SaveJSON('test_stimulus', folder = \"\")\n",
        "stimulus.SaveSVG('test_stimulus', scale = 1, folder = \"\")\n",
        "# stimulus.SavePNG('test_stimulus', scale = 2, folder = \"output\")\n",
        "# stimulus.SaveJPG('test_stimulus', scale = 2, folder = \"output\")\n",
        "# stimulus.SaveTIFF('test_stimulus', scale = 2, folder = \"output\")\n",
        "# stimulus.SavePDF('test_stimulus', scale = 2, folder = \"output\")"
      ],
      "metadata": {
        "id": "-119Xh8997MI"
      },
      "execution_count": null,
      "outputs": []
    },
    {
      "cell_type": "code",
      "source": [
        "stimulus = Grid(5,5)\n",
        "stimulus.Render()\n",
        "stimulus.GetSVG()"
      ],
      "metadata": {
        "id": "LvSYVtwR-S4c"
      },
      "execution_count": null,
      "outputs": []
    },
    {
      "cell_type": "code",
      "source": [
        "stimulus = Grid(5,5)\n",
        "stimulus.Render()\n",
        "stimulus.GetJSON()"
      ],
      "metadata": {
        "id": "nonAyENh-WC8"
      },
      "execution_count": null,
      "outputs": []
    },
    {
      "cell_type": "markdown",
      "source": [
        "**Please use random.seed to make your outputs reproducible**"
      ],
      "metadata": {
        "id": "1tIllCk0UeCi"
      }
    },
    {
      "cell_type": "markdown",
      "source": [
        "Keep in mind that to reproduce the exact same stimulus, one needs to set a seed before running (each line of) the OCTA Python code and also keep this seed (these seeds) along with the JSON file in case any randomization procedures are used in the stimulus generation. The safest way to ensure reproducibility is keeping track of the code and OCTA toolbox version you used to create your stimuli"
      ],
      "metadata": {
        "id": "mp1EQgaK-bo9"
      }
    },
    {
      "cell_type": "markdown",
      "source": [
        "**Be aware that svg may be removed when you add SavePNG or SaveJPG!**"
      ],
      "metadata": {
        "id": "ubUSTDAtURyh"
      }
    },
    {
      "cell_type": "code",
      "source": [
        "stimulus = Grid(5,5)\n",
        "stimulus.Show()\n",
        "\n",
        "stimulus.SaveJSON('test_stimulus', folder = \"output\")\n",
        "stimulus.SaveSVG('test_stimulus', scale = 1, folder = \"output\")\n",
        "# stimulus.SavePNG('test_stimulus', scale = 2, folder = \"output\")\n",
        "# stimulus.SaveJPG('test_stimulus', scale = 2, folder = \"output\")\n",
        "# stimulus.SaveTIFF('test_stimulus', scale = 2, folder = \"output\")\n",
        "# stimulus.SavePDF('test_stimulus', scale = 2, folder = \"output\")\n",
        "\n",
        "stimulus.SaveSVG('test_stimulus', scale = 1, folder = \"output\")"
      ],
      "metadata": {
        "id": "YP9ZgSjOJ0Sj"
      },
      "execution_count": null,
      "outputs": []
    },
    {
      "cell_type": "markdown",
      "source": [
        "# ADVANCED: Dynamic features"
      ],
      "metadata": {
        "id": "6s2YsQSxTnzv"
      }
    },
    {
      "cell_type": "code",
      "source": [
        "stimname = \"stim_example1\"\n",
        "\n",
        "stim = Outline(n_elements = 20, x_margin = 0, y_margin = 0, shape_boundingbox = (90,90), background_color = \"none\",\n",
        "                  stim_orientation =  ['animate', '0', '360', \"dur='40s', repeatCount='indefinite'\"])\n",
        "\n",
        "# Add bounding box sizes for the elements\n",
        "stim.boundingboxes = GridPattern.RepeatAcrossElements( [ (20,20) ] )\n",
        "\n",
        "# Add shapes for the elements\n",
        "stim.shapes = GridPattern.RepeatAcrossElements( [ Ellipse, Rectangle ] )\n",
        "\n",
        "# Add fillcolors for the elements\n",
        "stim.fillcolors = GridPattern.RepeatAcrossElements( [ \"#9C4B9C\", \"#5EA1D8\" ] )\n",
        "\n",
        "# Add orientations for the elements\n",
        "stim.orientations = GridPattern.RepeatAcrossElements( [ ['animate', '360', '0', \"dur='40s', repeatCount='indefinite'\"] ] )\n",
        "\n",
        "# Save stimulus\n",
        "stim.Show()\n",
        "stim.SaveSVG(stimname, folder = \"\")\n",
        "#stim.SaveSVG(stimname, scale = 0.5, folder = \"svg_small\")\n",
        "#stim.SaveJSON(stimname, folder = \"json\")\n",
        "#stim.SavePNG(stimname, folder = \"png\")"
      ],
      "metadata": {
        "id": "dep1x0z_UGvv"
      },
      "execution_count": null,
      "outputs": []
    },
    {
      "cell_type": "code",
      "source": [
        "stimname = \"stim_example2\"\n",
        "\n",
        "stim = Grid(n_rows = 6, n_cols = 6, row_spacing = 35, col_spacing= 35, size = (250,250))\n",
        "\n",
        "# Add bounding box sizes for the elements\n",
        "stim.boundingboxes = GridPattern.RepeatAcrossElements( [ (20,20) ] )\n",
        "\n",
        "# Add fillcolors for the elements\n",
        "stim.fillcolors = GridPattern.TiledElementGrid(source_grid = GridPattern.RepeatAcrossRightDiagonal( [ ['animate', '#5EA1D8', 'values = \"#5EA1D8;#B2D135\", begin = \"0s\", calcMode = \"discrete\", dur = \"5s\", repeatCount = \"indefinite\"'] ,\n",
        "                                                                                                      ['animate', '#B2D135', 'values = \"#B2D135;#5EA1D8\", begin = \"0s\", calcMode = \"discrete\", dur = \"5s\", repeatCount = \"indefinite\"'] ], 2, 2), tile_multiplier = 3)\n",
        "\n",
        "# Add shapes for the elements\n",
        "stim.shapes = GridPattern.TiledElementGrid(source_grid = GridPattern.RepeatAcrossRightDiagonal( [ Ellipse, Rectangle ], 2, 2), tile_multiplier = 3)\n",
        "\n",
        "# Save stimulus\n",
        "stim.Show()\n",
        "stim.SaveSVG(stimname, folder = \"\")\n",
        "#stim.SaveSVG(stimname, scale = 0.5, folder = \"svg_small\")\n",
        "#stim.SaveJSON(stimname, folder = \"json\")\n",
        "#stim.SavePNG(stimname, folder = \"png\")"
      ],
      "metadata": {
        "id": "LRCO1trHJjDm"
      },
      "execution_count": null,
      "outputs": []
    },
    {
      "cell_type": "markdown",
      "source": [
        "# ADVANCED: Generating a stimulus set\n",
        "\n",
        "For your research you may want to create a systematic stimulus *set* rather than an individual stimulus. Below is an example of how you could achieve that."
      ],
      "metadata": {
        "id": "gHhhC0MDUIID"
      }
    },
    {
      "cell_type": "code",
      "source": [
        "# Load necessary objects and functions from OCTA\n",
        "from octa.Stimulus import Grid\n",
        "from octa.patterns import GridPattern\n",
        "from octa.shapes import Ellipse, Rectangle\n",
        "\n",
        "# Set variable values to use in stimulus set\n",
        "cols = [ \"#5EA1D8\", \"#B2D135\",  \"#F39130\", \"#ED4959\"]\n",
        "# [ \"#9C4B9C\", \"#5EA1D8\", \"#54C4D0\", \"#62BD80\", \"#B2D135\", \"#FCE533\", \"#F39130\", \"#ED4959\"]\n",
        "colors_in_set1 = []\n",
        "for i in range(len(cols)):\n",
        "  for j in range(len(cols)):\n",
        "    # do not add those conditions where both colors are the same:\n",
        "    if cols[i] != cols[j]:\n",
        "      colors_in_set1.append([cols[i], cols[j]])\n",
        "\n",
        "shapes = [ Ellipse, Rectangle, RegularPolygon(5) ]\n",
        "shapes_in_set1 = []\n",
        "for i in range(len(shapes)):\n",
        "  for j in range(len(shapes)):\n",
        "    # do not add those conditions where both shapes are the same:\n",
        "    if shapes[i] != shapes[j]:\n",
        "      shapes_in_set1.append([shapes[i], shapes[j]])\n",
        "#shapes_in_set1 = [ [Ellipse, Rectangle], [Ellipse, RegularPolygon(3)], [Ellipse, RegularPolygon(5)], [Ellipse, RegularPolygon(6)] ]\n",
        "\n",
        "# Define base stimulus [with features that stay same across all stimuli in set]\n",
        "stim = Outline(n_elements = 20, x_margin = 0, y_margin = 0, shape_boundingbox = (90,90), background_color = \"none\",\n",
        "                  stim_orientation =  ['animate', '0', '360', \"dur='40s', repeatCount='indefinite'\"])\n",
        "\n",
        "## Add non-changing features of base stimulus\n",
        "stim.boundingboxes = GridPattern.RepeatAcrossElements( [ (20,20) ] )\n",
        "stim.orientations = GridPattern.RepeatAcrossElements( [ ['animate', '360', '0', \"dur='40s', repeatCount='indefinite'\"] ] )\n",
        "\n",
        "for chosen_colors in range(len(colors_in_set1)):\n",
        "  for chosen_shapes in range(len(shapes_in_set1)):\n",
        "\n",
        "    # Define stimulus name\n",
        "    stimname = \"outlinestim_\" + str(chosen_shapes+1) + \"_\" + str(chosen_colors+1)\n",
        "\n",
        "    # Add fillcolors for the elements\n",
        "    stim.fillcolors = GridPattern.RepeatAcrossElements( colors_in_set1[chosen_colors] )\n",
        "\n",
        "    # Add shapes for the elements\n",
        "    stim.shapes = GridPattern.RepeatAcrossElements( shapes_in_set1[chosen_shapes] )\n",
        "\n",
        "    # Save stimulus\n",
        "    stim.Render()\n",
        "    #stim.Show()\n",
        "    stim.SaveSVG(stimname, folder = \"\")\n"
      ],
      "metadata": {
        "id": "lhWv0eoFX1dC"
      },
      "execution_count": null,
      "outputs": []
    },
    {
      "cell_type": "code",
      "source": [
        "# Load necessary objects and functions from OCTA\n",
        "from octa.Stimulus import Grid\n",
        "from octa.patterns import GridPattern\n",
        "from octa.shapes import Ellipse, Rectangle\n",
        "\n",
        "# Set variable values to use in stimulus set\n",
        "cols = [ \"#5EA1D8\", \"#B2D135\",  \"#F39130\", \"#ED4959\"]\n",
        "# [ \"#9C4B9C\", \"#5EA1D8\", \"#54C4D0\", \"#62BD80\", \"#B2D135\", \"#FCE533\", \"#F39130\", \"#ED4959\"]\n",
        "colors_in_set2 = []\n",
        "for i in range(len(cols)):\n",
        "  for j in range(len(cols)):\n",
        "    # do not add those conditions where both colors are the same:\n",
        "    if cols[i] != cols[j]:\n",
        "      colors_in_set2.append([cols[i], cols[j]])\n",
        "animated_colors_in_set2 = [ [ ['animate', col1, 'values = \"' + col1 + ';' + col2 + '\", begin = \"0s\", calcMode = \"discrete\", dur = \"5s\", repeatCount = \"indefinite\"'] ,\n",
        "                              ['animate', col2, 'values = \"' + col2 + ';' + col1 + '\", begin = \"0s\", calcMode = \"discrete\", dur = \"5s\", repeatCount = \"indefinite\"'] ] for col1, col2 in colors_in_set2]\n",
        "\n",
        "shapes = [ Ellipse, Rectangle, RegularPolygon(5) ]\n",
        "shapes_in_set2 = []\n",
        "for i in range(len(shapes)):\n",
        "  for j in range(len(shapes)):\n",
        "    # do not add those conditions where both shapes are the same:\n",
        "    if shapes[i] != shapes[j]:\n",
        "      shapes_in_set2.append([shapes[i], shapes[j]])\n",
        "#shapes_in_set2 = [ [Ellipse, Rectangle], [Ellipse, RegularPolygon(3)], [Ellipse, RegularPolygon(5)], [Ellipse, RegularPolygon(6)] ]\n",
        "\n",
        "# Define base stimulus [with features that stay same across all stimuli in set]\n",
        "stim = Grid(n_rows = 6, n_cols = 6, row_spacing = 35, col_spacing= 35, size = (250,250))\n",
        "\n",
        "## Add non-changing features of base stimulus\n",
        "stim.boundingboxes = GridPattern.RepeatAcrossElements( [ (20,20) ] )\n",
        "\n",
        "for chosen_colors in range(len(animated_colors_in_set2)):\n",
        "  for chosen_shapes in range(len(shapes_in_set2)):\n",
        "\n",
        "    # Define stimulus name\n",
        "    stimname = \"gridstim_\" + str(chosen_shapes+1) + \"_\" + str(chosen_colors+1)\n",
        "\n",
        "    # Add fillcolors for the elements\n",
        "    stim.fillcolors = GridPattern.TiledElementGrid(source_grid = GridPattern.RepeatAcrossRightDiagonal( animated_colors_in_set2[chosen_colors], 2, 2), tile_multiplier = 3)\n",
        "\n",
        "    # Add shapes for the elements\n",
        "    stim.shapes = GridPattern.TiledElementGrid(source_grid = GridPattern.RepeatAcrossRightDiagonal( shapes_in_set2[chosen_shapes], 2, 2), tile_multiplier = 3)\n",
        "\n",
        "    # Save stimulus\n",
        "    stim.Render()\n",
        "    #stim.Show()\n",
        "    stim.SaveSVG(stimname, folder = \"\")"
      ],
      "metadata": {
        "id": "krf7Nx_2KqOR"
      },
      "execution_count": null,
      "outputs": []
    },
    {
      "cell_type": "markdown",
      "source": [
        "# ADVANCED: Arranging different OCTA displays"
      ],
      "metadata": {
        "id": "Dvz7zB43JZwv"
      }
    },
    {
      "cell_type": "markdown",
      "source": [
        "You may also want to combine all stimuli you generated in a grid, creating a 'superstimulus':"
      ],
      "metadata": {
        "id": "VPe2q7lc9kWm"
      }
    },
    {
      "cell_type": "code",
      "source": [
        "stimset = [ Image(\"outlinestim_\" + str(chosen_shapes+1) + \"_\" + str(chosen_colors+1) + \".svg\") for chosen_shapes in range(len(shapes_in_set1)) for chosen_colors in range(len(colors_in_set1)) ]\n",
        "\n",
        "superstim = Grid(n_rows = len(shapes_in_set1), n_cols = len(colors_in_set1), row_spacing = 100, col_spacing = 100)\n",
        "\n",
        "superstim.boundingboxes = GridPattern.RepeatAcrossElements( [ (80,80) ])\n",
        "superstim.shapes = GridPattern.RepeatAcrossElements( stimset )\n",
        "\n",
        "superstim.Show()"
      ],
      "metadata": {
        "id": "nEUzkAHR-tPT"
      },
      "execution_count": null,
      "outputs": []
    },
    {
      "cell_type": "code",
      "source": [
        "stimset = [ Image(\"gridstim_\" + str(chosen_shapes+1) + \"_\" + str(chosen_colors+1) + \".svg\") for chosen_shapes in range(len(shapes_in_set2)) for chosen_colors in range(len(colors_in_set2)) ]\n",
        "\n",
        "superstim = Grid(n_rows = len(shapes_in_set2), n_cols = len(colors_in_set2), row_spacing = 100, col_spacing = 100)\n",
        "\n",
        "superstim.boundingboxes = GridPattern.RepeatAcrossElements( [ (80,80) ])\n",
        "superstim.shapes = GridPattern.RepeatAcrossElements( stimset )\n",
        "\n",
        "superstim.Show()"
      ],
      "metadata": {
        "id": "3JeJQmSO9rNC"
      },
      "execution_count": null,
      "outputs": []
    },
    {
      "cell_type": "markdown",
      "source": [
        "# ADVANCED: Use in online studies"
      ],
      "metadata": {
        "id": "QGmmCnLIT34j"
      }
    },
    {
      "cell_type": "markdown",
      "source": [
        "## Use of pregenerated OCTA stimuli: e.g., jspsych, PsychoPy\n",
        "\n",
        "Experiment demos using pregenerated OCTA stimuli (jspsych):\n",
        "\n",
        "- demo: https://elinevg.github.io/OCTA_expdemos/jspsych-combo.html\n",
        "- code: https://github.com/ElineVG/OCTA_expdemos\n",
        "\n",
        "In PsychoPy, it is only possible to use raster images (so not vector-based graphics). However, using OCTA you can generate PNG/JPG image from the SVG stimulus you created."
      ],
      "metadata": {
        "id": "MkxyIfr_T-LU"
      }
    },
    {
      "cell_type": "markdown",
      "source": [
        "## Generate OCTA stimuli during the experiment: PsyNet\n",
        "\n",
        "www.psynet.dev\n",
        "\n",
        "Open source Python-based framework to run advanced behavioral experiments online, including generation of stimuli in the background during the experiment.\n",
        "\n",
        "For more information, ask Eline Van Geert directly about this."
      ],
      "metadata": {
        "id": "Ffen4glyUBEC"
      }
    }
  ]
}
